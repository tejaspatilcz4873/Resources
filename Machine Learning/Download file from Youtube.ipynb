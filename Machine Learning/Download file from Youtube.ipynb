from pytube import YouTube 

# where to save 
SAVE_PATH = "C://Users//Tejas Patil//Desktop//SCMHRD//Sem-2 Subjects//Machine Learning" #to_do 

# link of the video to be downloaded 
link = "https://youtube.com/shorts/akL53YfPTfI?si=ju1ohfkBdFSInLNj"

try: 
    # object creation using YouTube 
    yt = YouTube(link) 
except: 
    #to handle exception 
    print("Connection Error") 

# Get all streams and filter for mp4 files
mp4_streams = yt.streams.filter(file_extension='mp4').all()

# get the video with the highest resolution
d_video = mp4_streams[-1]

try: 
    # downloading the video 
    d_video.download(output_path=SAVE_PATH)
    print('Video downloaded successfully!')
except: 
    print("Some Error!")
