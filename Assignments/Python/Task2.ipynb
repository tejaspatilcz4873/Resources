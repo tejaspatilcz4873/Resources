{
 "cells": [
  {
   "cell_type": "raw",
   "id": "26e43d88-6cdc-4d53-85ce-fcc4ec9cac74",
   "metadata": {},
   "source": [
    "Create a function in Python to take two lists as parameters and add the elements consecutively. \n",
    "Eg: \n",
    "Input:\n",
    "L1 = [1,2,3,4,5]\n",
    "L2 = [2,3,4,5,6]\n",
    "Output: \n",
    "[3,5,7,9,11]\n"
   ]
  },
  {
   "cell_type": "code",
   "execution_count": 13,
   "id": "84a9d14b-ec65-481b-8b9b-2e7df47e2554",
   "metadata": {},
   "outputs": [
    {
     "name": "stdout",
     "output_type": "stream",
     "text": [
      "-5\n",
      "[33, 4346, 26, 39, 559, 239, 531, 489, 789, 3588, 345695, 925, 667, 2324, 23, 45, 12]\n"
     ]
    }
   ],
   "source": [
    "lst1 = [1,3,4,5,7,7,89,9,776,3543,345672,502]\n",
    "lst2 = [32,4343,22,34,552,232,442,480,13,45,23,423,667,2324,23,45,12]\n",
    "\n",
    "lst3 = []\n",
    "\n",
    "len1 = len(lst1)\n",
    "len2 = len(lst2)\n",
    "\n",
    "#print(len1)\n",
    "#print(len2)\n",
    "\n",
    "delta_len = len1 - len2\n",
    "#print(delta_len)\n",
    "\n",
    "if len2 > len1:\n",
    "    for i in range(abs(delta_len)):\n",
    "        lst1.append(0)\n",
    "elif len1 > len2:\n",
    "    for j in range(abs(delta_len)):\n",
    "        lst2.append(0)\n",
    "\n",
    "#print(len(lst1))\n",
    "#print(len(lst2))\n",
    "        \n",
    "for k in range(len(lst1)):\n",
    "    #print(k)\n",
    "    lst3.append(lst1[k] + lst2[k]) \n",
    "\n",
    "print(lst3)"
   ]
  },
  {
   "cell_type": "code",
   "execution_count": null,
   "id": "1c10a517-e6ed-49c3-b2b5-1a55b8668575",
   "metadata": {},
   "outputs": [],
   "source": []
  }
 ],
 "metadata": {
  "kernelspec": {
   "display_name": "Python 3 (ipykernel)",
   "language": "python",
   "name": "python3"
  },
  "language_info": {
   "codemirror_mode": {
    "name": "ipython",
    "version": 3
   },
   "file_extension": ".py",
   "mimetype": "text/x-python",
   "name": "python",
   "nbconvert_exporter": "python",
   "pygments_lexer": "ipython3",
   "version": "3.11.5"
  }
 },
 "nbformat": 4,
 "nbformat_minor": 5
}
