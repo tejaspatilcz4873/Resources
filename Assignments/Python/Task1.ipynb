{
 "cells": [
  {
   "cell_type": "raw",
   "id": "f957591f-8951-4a5b-9bd8-6a8bdfd95e25",
   "metadata": {},
   "source": [
    "'''\n",
    "Suppose you are the owner of a grocery shop. So, make a dictionary of items and their prices present in your shop, to track for \n",
    "your internal purpose. \n",
    "d = {chips: 50, snacks: 80, chocolate: 50} and so on\n",
    "Now ask the user one by one what all the things he/she wants to buy. Ask at each iteration if the user wants to add more items \n",
    "to his cart. If yes, show all the options present and ask them to type one of them. Also ask the quantity how much they want to \n",
    "buy in the whole number like1,2,3, etc. \n",
    "If the users type no, Calculate the total amount and display what all items have been added into their bill and amount for each \n",
    "item along with the total billing amount. \n",
    "Also handle the situation, for if the user selects a wrong item not present in the list display the message Wrong Item Selected \n",
    "and ask for input again.\n",
    "'''"
   ]
  },
  {
   "cell_type": "code",
   "execution_count": 7,
   "id": "ff694d1e-56c1-4ae9-b499-7ee911fe091d",
   "metadata": {},
   "outputs": [
    {
     "name": "stdout",
     "output_type": "stream",
     "text": [
      "Welcome to Texas_Supermart\n",
      "\n",
      "\n",
      "***************************************************************************************************************************************\n",
      "pantene_shampoo  >>  {'small_sachet': 5, 'big_sachet': 10, 'small_bottle': 100, 'big_bottle': 200}\n",
      "himalaya_anti_dandruff_shampoo  >>  {'small_sachet': 5, 'big_sachet': 10, 'small_bottle': 110, 'big_bottle': 220}\n",
      "santoor_soap  >>  {'small_bar': 10, 'big_bar': 25, '3+1 combo': 75}\n",
      "dettol_soap  >>  {'small_bar': 12, 'big_bar': 24, '3+1 combo': 70}\n",
      "dove_soap  >>  {'small_bar': 20, 'big_bar': 40, '3+1 combo': 120}\n",
      "peanuts_1kg  >>  125\n",
      "maida_1kg  >>  60\n",
      "wheat_10kg  >>  500\n",
      "jowar_10kg  >>  600\n"
     ]
    },
    {
     "name": "stdin",
     "output_type": "stream",
     "text": [
      "\n",
      "Please choose items to buy from above inventory by typing the item_name as shown in inventory list :\n",
      " himalaya_anti_dandruff_shampoo\n",
      "Please choose the packaging variant if applicable or else type NA :\n",
      " small_sachet\n",
      "Please enter the quantity required for the same.\n",
      " 6\n"
     ]
    },
    {
     "name": "stdout",
     "output_type": "stream",
     "text": [
      "\n",
      "*************Your cart details till now*************\n",
      "Item                                               Quantity             Unit Price           Total Price         \n",
      "himalaya_anti_dandruff_shampoo->small_sachet       6                    5                    30                  \n",
      "Grand Total >>  30 \n",
      "\n"
     ]
    },
    {
     "name": "stdin",
     "output_type": "stream",
     "text": [
      "Would you like to buy something else as well ? Type Yes or No :  dettol_soap\n"
     ]
    },
    {
     "name": "stdout",
     "output_type": "stream",
     "text": [
      "Invalid Response!!! Please enter valid response.\n"
     ]
    },
    {
     "name": "stdin",
     "output_type": "stream",
     "text": [
      "Would you like to buy something else as well ? Type Yes or No :  Yes\n"
     ]
    },
    {
     "name": "stdout",
     "output_type": "stream",
     "text": [
      "\n",
      "***************************************************************************************************************************************\n",
      "pantene_shampoo  >>  {'small_sachet': 5, 'big_sachet': 10, 'small_bottle': 100, 'big_bottle': 200}\n",
      "himalaya_anti_dandruff_shampoo  >>  {'small_sachet': 5, 'big_sachet': 10, 'small_bottle': 110, 'big_bottle': 220}\n",
      "santoor_soap  >>  {'small_bar': 10, 'big_bar': 25, '3+1 combo': 75}\n",
      "dettol_soap  >>  {'small_bar': 12, 'big_bar': 24, '3+1 combo': 70}\n",
      "dove_soap  >>  {'small_bar': 20, 'big_bar': 40, '3+1 combo': 120}\n",
      "peanuts_1kg  >>  125\n",
      "maida_1kg  >>  60\n",
      "wheat_10kg  >>  500\n",
      "jowar_10kg  >>  600\n"
     ]
    },
    {
     "name": "stdin",
     "output_type": "stream",
     "text": [
      "\n",
      "Please choose items to buy from above inventory by typing the item_name as shown in inventory list :\n",
      " dettol_soap\n",
      "Please choose the packaging variant if applicable or else type NA :\n",
      " big_bar\n",
      "Please enter the quantity required for the same.\n",
      " 5\n"
     ]
    },
    {
     "name": "stdout",
     "output_type": "stream",
     "text": [
      "\n",
      "*************Your cart details till now*************\n",
      "Item                                               Quantity             Unit Price           Total Price         \n",
      "himalaya_anti_dandruff_shampoo->small_sachet       6                    5                    30                  \n",
      "dettol_soap->big_bar                               5                    24                   120                 \n",
      "Grand Total >>  150 \n",
      "\n"
     ]
    },
    {
     "name": "stdin",
     "output_type": "stream",
     "text": [
      "Would you like to buy something else as well ? Type Yes or No :  maida_1kg\n"
     ]
    },
    {
     "name": "stdout",
     "output_type": "stream",
     "text": [
      "Invalid Response!!! Please enter valid response.\n"
     ]
    },
    {
     "name": "stdin",
     "output_type": "stream",
     "text": [
      "Would you like to buy something else as well ? Type Yes or No :  NA\n"
     ]
    },
    {
     "name": "stdout",
     "output_type": "stream",
     "text": [
      "Invalid Response!!! Please enter valid response.\n"
     ]
    },
    {
     "name": "stdin",
     "output_type": "stream",
     "text": [
      "Would you like to buy something else as well ? Type Yes or No :  4\n"
     ]
    },
    {
     "name": "stdout",
     "output_type": "stream",
     "text": [
      "Invalid Response!!! Please enter valid response.\n"
     ]
    },
    {
     "name": "stdin",
     "output_type": "stream",
     "text": [
      "Would you like to buy something else as well ? Type Yes or No :  Yes\n"
     ]
    },
    {
     "name": "stdout",
     "output_type": "stream",
     "text": [
      "\n",
      "***************************************************************************************************************************************\n",
      "pantene_shampoo  >>  {'small_sachet': 5, 'big_sachet': 10, 'small_bottle': 100, 'big_bottle': 200}\n",
      "himalaya_anti_dandruff_shampoo  >>  {'small_sachet': 5, 'big_sachet': 10, 'small_bottle': 110, 'big_bottle': 220}\n",
      "santoor_soap  >>  {'small_bar': 10, 'big_bar': 25, '3+1 combo': 75}\n",
      "dettol_soap  >>  {'small_bar': 12, 'big_bar': 24, '3+1 combo': 70}\n",
      "dove_soap  >>  {'small_bar': 20, 'big_bar': 40, '3+1 combo': 120}\n",
      "peanuts_1kg  >>  125\n",
      "maida_1kg  >>  60\n",
      "wheat_10kg  >>  500\n",
      "jowar_10kg  >>  600\n"
     ]
    },
    {
     "name": "stdin",
     "output_type": "stream",
     "text": [
      "\n",
      "Please choose items to buy from above inventory by typing the item_name as shown in inventory list :\n",
      " maida_1kg\n",
      "Please choose the packaging variant if applicable or else type NA :\n",
      " NA\n",
      "Please enter the quantity required for the same.\n",
      " 4\n"
     ]
    },
    {
     "name": "stdout",
     "output_type": "stream",
     "text": [
      "\n",
      "*************Your cart details till now*************\n",
      "Item                                               Quantity             Unit Price           Total Price         \n",
      "himalaya_anti_dandruff_shampoo->small_sachet       6                    5                    30                  \n",
      "dettol_soap->big_bar                               5                    24                   120                 \n",
      "maida_1kg                                          4                    60                   240                 \n",
      "Grand Total >>  390 \n",
      "\n"
     ]
    },
    {
     "name": "stdin",
     "output_type": "stream",
     "text": [
      "Would you like to buy something else as well ? Type Yes or No :  Yes\n"
     ]
    },
    {
     "name": "stdout",
     "output_type": "stream",
     "text": [
      "\n",
      "***************************************************************************************************************************************\n",
      "pantene_shampoo  >>  {'small_sachet': 5, 'big_sachet': 10, 'small_bottle': 100, 'big_bottle': 200}\n",
      "himalaya_anti_dandruff_shampoo  >>  {'small_sachet': 5, 'big_sachet': 10, 'small_bottle': 110, 'big_bottle': 220}\n",
      "santoor_soap  >>  {'small_bar': 10, 'big_bar': 25, '3+1 combo': 75}\n",
      "dettol_soap  >>  {'small_bar': 12, 'big_bar': 24, '3+1 combo': 70}\n",
      "dove_soap  >>  {'small_bar': 20, 'big_bar': 40, '3+1 combo': 120}\n",
      "peanuts_1kg  >>  125\n",
      "maida_1kg  >>  60\n",
      "wheat_10kg  >>  500\n",
      "jowar_10kg  >>  600\n"
     ]
    },
    {
     "name": "stdin",
     "output_type": "stream",
     "text": [
      "\n",
      "Please choose items to buy from above inventory by typing the item_name as shown in inventory list :\n",
      " peanuts_1kg\n",
      "Please choose the packaging variant if applicable or else type NA :\n",
      " NA\n",
      "Please enter the quantity required for the same.\n",
      " 43\n"
     ]
    },
    {
     "name": "stdout",
     "output_type": "stream",
     "text": [
      "\n",
      "*************Your cart details till now*************\n",
      "Item                                               Quantity             Unit Price           Total Price         \n",
      "himalaya_anti_dandruff_shampoo->small_sachet       6                    5                    30                  \n",
      "dettol_soap->big_bar                               5                    24                   120                 \n",
      "maida_1kg                                          4                    60                   240                 \n",
      "peanuts_1kg                                        43                   125                  5375                \n",
      "Grand Total >>  5765 \n",
      "\n"
     ]
    },
    {
     "name": "stdin",
     "output_type": "stream",
     "text": [
      "Would you like to buy something else as well ? Type Yes or No :  No\n"
     ]
    },
    {
     "name": "stdout",
     "output_type": "stream",
     "text": [
      "Your final grand_total is 5765. Please pay the same.\n",
      "***************************************************************************************************************************************\n",
      "********************************************************THANK YOU VERY MUCH!!!!********************************************************\n",
      "***************************************************************************************************************************************\n"
     ]
    }
   ],
   "source": [
    "inventory_with_unit_price = {\n",
    "    'pantene_shampoo' : {'small_sachet' : 5, 'big_sachet' : 10, 'small_bottle' : 100, 'big_bottle' :200 }, \n",
    "    'himalaya_anti_dandruff_shampoo' : {'small_sachet' : 5, 'big_sachet' : 10, 'small_bottle' : 110, 'big_bottle' :220}, \n",
    "    'santoor_soap' : {'small_bar' : 10, 'big_bar' : 25, '3+1 combo' : 75},\n",
    "    'dettol_soap' : {'small_bar' : 12, 'big_bar' : 24, '3+1 combo' : 70},\n",
    "    'dove_soap' : {'small_bar' : 20, 'big_bar' : 40, '3+1 combo' : 120},\n",
    "    'peanuts_1kg' : 125, \n",
    "    'maida_1kg' : 60, \n",
    "    'wheat_10kg' : 500,\n",
    "    'jowar_10kg' : 600\n",
    "}\n",
    "\n",
    "def user_next_item_purchase_response():\n",
    "    while True:\n",
    "        wanna_buy_something_else = input('Would you like to buy something else as well ? Type Yes or No : ').upper()\n",
    "        if wanna_buy_something_else == 'NO':\n",
    "            return 0\n",
    "        elif wanna_buy_something_else == 'YES':\n",
    "            return 1\n",
    "        else :\n",
    "            print('Invalid Response!!! Please enter valid response.')\n",
    "\n",
    "def shift_to_next_item_purchase(user_next_item_purchase_response):\n",
    "    if user_next_item_purchase_response == 1:\n",
    "        return True\n",
    "    else:\n",
    "        print(f'Your final grand_total is {grand_total}. Please pay the same.') \n",
    "        print('***************************************************************************************************************************************')\n",
    "        print('********************************************************THANK YOU VERY MUCH!!!!********************************************************')\n",
    "        print('***************************************************************************************************************************************')\n",
    "        return False\n",
    "\n",
    "print('Welcome to Texas_Supermart\\n')\n",
    "\n",
    "loop_trigger = True\n",
    "cart = {}\n",
    "\n",
    "while loop_trigger:\n",
    "    print()\n",
    "    print('***************************************************************************************************************************************')\n",
    "    for item, packaging_wise_price in inventory_with_unit_price.items():\n",
    "        print(item,' >> ', packaging_wise_price)\n",
    "        \n",
    "    item_name = input('\\nPlease choose items to buy from above inventory by typing the item_name as shown in inventory list :\\n').lower()\n",
    "    packaging_variant = input('Please choose the packaging variant if applicable or else type NA :\\n')\n",
    "    quantity = int(input('Please enter the quantity required for the same.\\n'))\n",
    "\n",
    "    if packaging_variant.upper() == 'NA':\n",
    "        cart[item_name] = {'quantity' : quantity, 'unit_price' : inventory_with_unit_price[item_name], 'total_price' : quantity*inventory_with_unit_price[item_name]}\n",
    "    else :\n",
    "        cart[item_name+'->'+packaging_variant] = {'quantity' : quantity, 'unit_price' : inventory_with_unit_price[item_name][packaging_variant.lower()], 'total_price' : quantity*inventory_with_unit_price[item_name][packaging_variant.lower()]}\n",
    "        \n",
    "    grand_total = 0\n",
    "    print('\\n*************Your cart details till now*************')    \n",
    "    print(\"{:<50} {:<20} {:<20} {:<20}\".format('Item', 'Quantity', 'Unit Price', 'Total Price'))\n",
    "    for k, v in cart.items():\n",
    "        print(\"{:<50} {:<20} {:<20} {:<20}\".format(k, v['quantity'], v['unit_price'], v['total_price']))\n",
    "        grand_total += v['total_price']\n",
    "    print('Grand Total >> ',grand_total,'\\n')\n",
    "\n",
    "    loop_trigger = shift_to_next_item_purchase(user_next_item_purchase_response())\n"
   ]
  },
  {
   "cell_type": "code",
   "execution_count": null,
   "id": "ff6a5ba0-d951-4ebd-8cfb-2405484edf72",
   "metadata": {},
   "outputs": [],
   "source": []
  }
 ],
 "metadata": {
  "kernelspec": {
   "display_name": "Python 3 (ipykernel)",
   "language": "python",
   "name": "python3"
  },
  "language_info": {
   "codemirror_mode": {
    "name": "ipython",
    "version": 3
   },
   "file_extension": ".py",
   "mimetype": "text/x-python",
   "name": "python",
   "nbconvert_exporter": "python",
   "pygments_lexer": "ipython3",
   "version": "3.11.5"
  }
 },
 "nbformat": 4,
 "nbformat_minor": 5
}
