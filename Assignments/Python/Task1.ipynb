{
 "cells": [
  {
   "cell_type": "markdown",
   "id": "8db1126a-76c9-45e2-825e-4774e8402301",
   "metadata": {},
   "source": [
    "\n",
    "# Task 1 - Grocery Store\n"
   ]
  },
  {
   "cell_type": "raw",
   "id": "06d2305d-e2fc-4ae3-8990-cb9957e20a27",
   "metadata": {},
   "source": [
    "'''\n",
    "Suppose you are the owner of a grocery shop. So, make a dictionary of items and their prices present in your shop, to track for \n",
    "your internal purpose. \n",
    "d = {chips: 50, snacks: 80, chocolate: 50} and so on\n",
    "Now ask the user one by one what all the things he/she wants to buy. Ask at each iteration if the user wants to add more items \n",
    "to his cart. If yes, show all the options present and ask them to type one of them. Also ask the quantity how much they want to \n",
    "buy in the whole number like1,2,3, etc. \n",
    "If the users type no, Calculate the total amount and display what all items have been added into their bill and amount for each \n",
    "item along with the total billing amount. \n",
    "Also handle the situation, for if the user selects a wrong item not present in the list display the message Wrong Item Selected \n",
    "and ask for input again.\n",
    "'''\n",
    "\n"
   ]
  },
  {
   "cell_type": "code",
   "execution_count": null,
   "id": "f10d06db-1594-431b-ab56-8f2c787d7810",
   "metadata": {},
   "outputs": [],
   "source": []
  },
  {
   "cell_type": "code",
   "execution_count": 8,
   "id": "50388b5b-77b8-42ee-a547-09ffc8eeaef0",
   "metadata": {},
   "outputs": [
    {
     "name": "stdout",
     "output_type": "stream",
     "text": [
      "Welcome to Texas_Supermart\n",
      "\n",
      "\n",
      "pantene_shampoo  >>  {'small_sachet': 5, 'big_sachet': 10, 'small_bottle': 100, 'big_bottle': 200}\n",
      "himalaya_anti_dandruff_shampoo  >>  {'small_sachet': 5, 'big_sachet': 10, 'small_bottle': 110, 'big_bottle': 220}\n",
      "santoor_Soap  >>  {'small_bar': 10, 'big_bar': 25, '3+1 combo': 75}\n",
      "dettol_Soap  >>  {'small_bar': 12, 'big_bar': 24, '3+1 combo': 70}\n",
      "dove_Soap  >>  {'small_bar': 20, 'big_bar': 40, '3+1 combo': 120}\n",
      "peanuts_1kg  >>  125\n",
      "maida_1kg  >>  60\n",
      "wheat_10kg  >>  500\n",
      "jowar_10kg  >>  600\n"
     ]
    },
    {
     "name": "stdin",
     "output_type": "stream",
     "text": [
      "\n",
      "Please choose items to buy from above inventory by typing the item_name as shown in inventory list :\n",
      " pantene_shampoo\n",
      "Please choose the packaging variant if applicable or else type NA :\n",
      " big_sachet\n",
      "Please enter the quantity required for the same.\n",
      " 5\n"
     ]
    },
    {
     "name": "stdout",
     "output_type": "stream",
     "text": [
      "\n",
      "Your cart details till now\n",
      "pantene_shampoo->big_sachet  >>  {'quantity': 5, 'unit_price': 10, 'total_price': 50}\n",
      "Grand Total >>  50 \n",
      "\n"
     ]
    },
    {
     "name": "stdin",
     "output_type": "stream",
     "text": [
      "Would you like to buy something else as well ? Type Yes or No :  Yes\n"
     ]
    },
    {
     "name": "stdout",
     "output_type": "stream",
     "text": [
      "\n",
      "pantene_shampoo  >>  {'small_sachet': 5, 'big_sachet': 10, 'small_bottle': 100, 'big_bottle': 200}\n",
      "himalaya_anti_dandruff_shampoo  >>  {'small_sachet': 5, 'big_sachet': 10, 'small_bottle': 110, 'big_bottle': 220}\n",
      "santoor_Soap  >>  {'small_bar': 10, 'big_bar': 25, '3+1 combo': 75}\n",
      "dettol_Soap  >>  {'small_bar': 12, 'big_bar': 24, '3+1 combo': 70}\n",
      "dove_Soap  >>  {'small_bar': 20, 'big_bar': 40, '3+1 combo': 120}\n",
      "peanuts_1kg  >>  125\n",
      "maida_1kg  >>  60\n",
      "wheat_10kg  >>  500\n",
      "jowar_10kg  >>  600\n"
     ]
    },
    {
     "name": "stdin",
     "output_type": "stream",
     "text": [
      "\n",
      "Please choose items to buy from above inventory by typing the item_name as shown in inventory list :\n",
      " maida_1kg\n",
      "Please choose the packaging variant if applicable or else type NA :\n",
      " NA\n",
      "Please enter the quantity required for the same.\n",
      " 3\n"
     ]
    },
    {
     "name": "stdout",
     "output_type": "stream",
     "text": [
      "\n",
      "Your cart details till now\n",
      "pantene_shampoo->big_sachet  >>  {'quantity': 5, 'unit_price': 10, 'total_price': 50}\n",
      "maida_1kg  >>  {'quantity': 3, 'unit_price': 60, 'total_price': 180}\n",
      "Grand Total >>  230 \n",
      "\n"
     ]
    },
    {
     "name": "stdin",
     "output_type": "stream",
     "text": [
      "Would you like to buy something else as well ? Type Yes or No :  no\n"
     ]
    },
    {
     "name": "stdout",
     "output_type": "stream",
     "text": [
      "False\n",
      "Your final grand_total is 230. Please pay the same.\n"
     ]
    }
   ],
   "source": [
    "inventory_with_unit_price = {\n",
    "    'pantene_shampoo' : {'small_sachet' : 5, 'big_sachet' : 10, 'small_bottle' : 100, 'big_bottle' :200 }, \n",
    "    'himalaya_anti_dandruff_shampoo' : {'small_sachet' : 5, 'big_sachet' : 10, 'small_bottle' : 110, 'big_bottle' :220}, \n",
    "    'santoor_Soap' : {'small_bar' : 10, 'big_bar' : 25, '3+1 combo' : 75},\n",
    "    'dettol_Soap' : {'small_bar' : 12, 'big_bar' : 24, '3+1 combo' : 70},\n",
    "    'dove_Soap' : {'small_bar' : 20, 'big_bar' : 40, '3+1 combo' : 120},\n",
    "    'peanuts_1kg' : 125, \n",
    "    'maida_1kg' : 60, \n",
    "    'wheat_10kg' : 500,\n",
    "    'jowar_10kg' : 600\n",
    "                             }\n",
    "\n",
    "def shift_to_next_item_purchase():\n",
    "    wanna_buy_something_else = input('Would you like to buy something else as well ? Type Yes or No : ').upper()\n",
    "    if wanna_buy_something_else == 'YES':\n",
    "        loop_trigger = True\n",
    "    elif wanna_buy_something_else == 'NO':\n",
    "        loop_trigger = False\n",
    "        print(loop_trigger)\n",
    "        print(f'Your final grand_total is {grand_total}. Please pay the same.') \n",
    "    else :\n",
    "        print('Invalid Response!!!')\n",
    "        loop_trigger = False\n",
    "        shift_to_next_item_purchase()\n",
    "    return loop_trigger\n",
    "\n",
    "\n",
    "print('Welcome to Texas_Supermart\\n')\n",
    "\n",
    "\n",
    "loop_trigger = True\n",
    "cart = {}\n",
    "\n",
    "while loop_trigger == True:\n",
    "    print()\n",
    "    for item, packaging_wise_price in inventory_with_unit_price.items():\n",
    "        print(item,' >> ', packaging_wise_price)\n",
    "        \n",
    "    item_name = input('\\nPlease choose items to buy from above inventory by typing the item_name as shown in inventory list :\\n').lower()\n",
    "    packaging_variant = input('Please choose the packaging variant if applicable or else type NA :\\n')\n",
    "    quantity = int(input('Please enter the quantity required for the same.\\n'))\n",
    "\n",
    "    #print(item_name, packaging_variant, quantity)\n",
    "\n",
    "    \n",
    "    if packaging_variant.upper() == 'NA':\n",
    "        cart[item_name] = {'quantity' : quantity, 'unit_price' : inventory_with_unit_price[item_name], 'total_price' : quantity*inventory_with_unit_price[item_name]}\n",
    "    else :\n",
    "        cart[item_name+'->'+packaging_variant] = {'quantity' : quantity, 'unit_price' : inventory_with_unit_price[item_name][packaging_variant.lower()], 'total_price' : quantity*inventory_with_unit_price[item_name][packaging_variant.lower()]}\n",
    "        \n",
    "\n",
    "    grand_total = 0\n",
    "    print('\\nYour cart details till now')    \n",
    "    for k, v in cart.items():\n",
    "        print(k,' >> ', v)\n",
    "        grand_total = grand_total + v['total_price']\n",
    "    print('Grand Total >> ',grand_total,'\\n')\n",
    "    \n",
    "\n",
    "    loop_trigger = shift_to_next_item_purchase()\n",
    "    \n",
    " \n",
    "        \n",
    "        \n",
    "    \n",
    "        \n",
    "        "
   ]
  },
  {
   "cell_type": "code",
   "execution_count": null,
   "id": "3c081db6-d5a8-448c-9611-0e70d99561f6",
   "metadata": {},
   "outputs": [],
   "source": []
  }
 ],
 "metadata": {
  "kernelspec": {
   "display_name": "Python 3 (ipykernel)",
   "language": "python",
   "name": "python3"
  },
  "language_info": {
   "codemirror_mode": {
    "name": "ipython",
    "version": 3
   },
   "file_extension": ".py",
   "mimetype": "text/x-python",
   "name": "python",
   "nbconvert_exporter": "python",
   "pygments_lexer": "ipython3",
   "version": "3.11.5"
  }
 },
 "nbformat": 4,
 "nbformat_minor": 5
}
