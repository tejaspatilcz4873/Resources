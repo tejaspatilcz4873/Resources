{
 "cells": [
  {
   "cell_type": "markdown",
   "id": "3ff7d906-ef57-4354-b4a5-a2b6114845f5",
   "metadata": {},
   "source": [
    "# >> Python is a high-level interpreted programming language, which emphasizes on readibility and clean syntax.¶\n",
    "# >> Python is a very versatile programming language and can be used across various domains like web development, data analysis, machine learning,\n",
    "# >> It's a community driven language with the rich ecosystem of libraries."
   ]
  },
  {
   "cell_type": "markdown",
   "id": "8722090b-45ab-45ff-bc25-69564fda9274",
   "metadata": {},
   "source": [
    "# >> Rules for creating a variable in python :\n",
    "    1. Variable-name should always start with a character\n",
    "    2. There shouldn't be any special character except underscore(_) in variable-name. \n",
    "    3. Variable-name shouldn't be a keyword.\n",
    "    4. Its preferrable to have variable-name be in lowercase and meaningful.\n",
    "# >> Common python datatypes are int, float(decimal nos), string, boolean."
   ]
  },
  {
   "cell_type": "markdown",
   "id": "6e1bd885-1b1c-44b4-9452-4ce84dd7c0f4",
   "metadata": {},
   "source": [
    "# >> In python, there is dynamic allocation of datatype i.e. we don't need to declare variable datatype first and then use it further it code."
   ]
  },
  {
   "cell_type": "code",
   "execution_count": 1,
   "id": "685e2aa0-64c3-48df-8a14-55a984af8c7a",
   "metadata": {},
   "outputs": [
    {
     "name": "stdout",
     "output_type": "stream",
     "text": [
      "<class 'str'>\n",
      "<class 'int'>\n",
      "<class 'float'>\n",
      "<class 'bool'>\n",
      "<class 'str'>\n",
      "<class 'str'>\n"
     ]
    }
   ],
   "source": [
    "a = 'dnfdn'\n",
    "b = 12\n",
    "c = 454.565\n",
    "d = True\n",
    "e = 'True'\n",
    "f = \"ghdsk\" # Strings can be enclosed by either by single or double quotes.\n",
    "\n",
    "print(type(a))\n",
    "print(type(b))\n",
    "print(type(c))\n",
    "print(type(d)) \n",
    "print(type(e))\n",
    "print(type(f))"
   ]
  },
  {
   "cell_type": "markdown",
   "id": "a90c34ac-7ecc-40e1-b04f-e81fd4606418",
   "metadata": {},
   "source": [
    "# >> Variables can also undergo type-casting as follows :\n",
    "    1. int -> float\n",
    "    2. float -> int\n",
    "    3. int -> str (whether reverse is allowed or not depends on value inside string be character or numeral)\n",
    "    4. bool -> str "
   ]
  },
  {
   "cell_type": "code",
   "execution_count": 2,
   "id": "4a8fc8b6-9c25-4ee1-8ca9-b37d95c8b4f5",
   "metadata": {},
   "outputs": [
    {
     "name": "stdout",
     "output_type": "stream",
     "text": [
      "12\n",
      "12.0\n",
      "234\n",
      "12\n",
      "Type of variable i is <class 'str'>\n",
      "False\n",
      "Type of variable j is <class 'bool'>\n",
      "False\n",
      "Type of variable K is <class 'str'>\n",
      "454656\n"
     ]
    }
   ],
   "source": [
    "f = 12\n",
    "g = float(f)\n",
    "h = int(234.5)\n",
    "i = str(12)\n",
    "j = False\n",
    "k = str(j)\n",
    "l = int('454656')\n",
    "\n",
    "print(f)\n",
    "print(g)\n",
    "print(h)\n",
    "print(i)\n",
    "print('Type of variable i is '+str(type(i)))\n",
    "print(j)\n",
    "print('Type of variable j is '+str(type(j)))\n",
    "print(k)\n",
    "print('Type of variable K is '+str(type(k)))\n",
    "print(l)"
   ]
  },
  {
   "cell_type": "markdown",
   "id": "62df30aa-d654-44e0-b4bc-2fb0fcb850c1",
   "metadata": {},
   "source": [
    "# >> In case the str/int/float variable is type-casted to boolean, presence of non-zero value(for int/float) and any non null value for str makes boolean equal to true or else false."
   ]
  },
  {
   "cell_type": "code",
   "execution_count": 3,
   "id": "40cef4ed-1724-43fb-b23c-23ae9f34beac",
   "metadata": {},
   "outputs": [
    {
     "name": "stdout",
     "output_type": "stream",
     "text": [
      "True\n",
      "True\n",
      "True\n",
      "False\n",
      "False\n",
      "False\n"
     ]
    }
   ],
   "source": [
    "a = 2\n",
    "b = \"my_str\"\n",
    "c = 3432.5332\n",
    "d = ''\n",
    "e = None\n",
    "f = 0\n",
    "\n",
    "print(bool(2))\n",
    "print(bool(b))\n",
    "print(bool(c))\n",
    "print(bool(d))\n",
    "print(bool(e))\n",
    "print(bool(f))"
   ]
  },
  {
   "cell_type": "markdown",
   "id": "78949499-863d-47af-9a85-02145eba94a0",
   "metadata": {},
   "source": [
    "# >> There are total six different types of operators in python. They are :\n",
    "    1. Arithmetic Operators >> [+, -, %, *, /, //, **]\n",
    "    2. Assignment Operators >> [=, +=, *=, -=, /=, //=, **=]\n",
    "    3. Relational(Comparison) Operators >> [==, <, >, <=, >=]\n",
    "    4. Identity Operators >> [is, is not]\n",
    "    5. Logical Operators >> [and, or, not]\n",
    "    6. Membership Operators >> [in, not in]"
   ]
  },
  {
   "cell_type": "code",
   "execution_count": 4,
   "id": "41b1dcad-3843-45b9-a180-25a8164a3742",
   "metadata": {},
   "outputs": [
    {
     "name": "stdout",
     "output_type": "stream",
     "text": [
      "28\n",
      "20\n",
      "96\n",
      "0\n",
      "4\n",
      "6.0\n",
      "6\n",
      "4\n",
      "1024\n"
     ]
    }
   ],
   "source": [
    "# Arithmetic Operators >> [+, -, %, *, /, //, **]\n",
    "\n",
    "a = 24\n",
    "b = 4\n",
    "c = 5\n",
    "\n",
    "print(a+b) # addition\n",
    "print(a-b) # Substraction\n",
    "print(a*b) # Multiplication\n",
    "print(a%b) # prints the remainder\n",
    "print(a%c) # prints the remainder\n",
    "print(a/b) # normal division\n",
    "print(a//b) # floor division i.e. gives nearest smallest integer\n",
    "print(a//c) # floor division i.e. gives nearest smallest integer\n",
    "print(b**c) # exponential"
   ]
  },
  {
   "cell_type": "code",
   "execution_count": 5,
   "id": "98761460-93f4-49ab-8621-6798321b1194",
   "metadata": {},
   "outputs": [
    {
     "name": "stdout",
     "output_type": "stream",
     "text": [
      "9\n",
      "-2\n"
     ]
    }
   ],
   "source": [
    "# Assignement Operators >> [=, +=, *=, -=, /=, //=, **=]\n",
    "\n",
    "a = 5\n",
    "a += 4 # a = a+4 is written shorthand as a+=4. Similar thing applies even for -, *,/,//,** operators\n",
    "print(a)\n",
    "\n",
    "\n",
    "b = 2\n",
    "b -= 4\n",
    "print(b)"
   ]
  },
  {
   "cell_type": "code",
   "execution_count": 6,
   "id": "886c8a25-1010-4beb-a1b3-51031ee16773",
   "metadata": {},
   "outputs": [
    {
     "name": "stdout",
     "output_type": "stream",
     "text": [
      "True\n",
      "False\n",
      "False\n",
      "True\n",
      "False\n",
      "True\n",
      "True\n",
      "True\n",
      "\n",
      "False\n",
      "True\n",
      "False\n"
     ]
    }
   ],
   "source": [
    "# Relational Operators >> [==, <, >, <=, >=]\n",
    "\n",
    "a = 2\n",
    "b = 2\n",
    "c = 3\n",
    "\n",
    "print(a==b)\n",
    "print(a==c)\n",
    "print(a==3)\n",
    "print(a==2)\n",
    "print(a>3)\n",
    "print(b<3)\n",
    "print(a>=2)\n",
    "print(b<=4)\n",
    "\n",
    "print('')\n",
    "print('abc' == 'aBc') # == operator can be used for string comparison\n",
    "print('abc' == 'abc')\n",
    "print('ABC' == 'abc')"
   ]
  },
  {
   "cell_type": "code",
   "execution_count": 7,
   "id": "05fb8ca4-d2f3-413f-bd00-74bcde189c10",
   "metadata": {},
   "outputs": [
    {
     "name": "stdout",
     "output_type": "stream",
     "text": [
      "False\n",
      "True\n"
     ]
    }
   ],
   "source": [
    "# Identity Operators >> [is, is not]\n",
    "\n",
    "a = 1\n",
    "b = a is None # can be used tp check whether a is null/non-null. In python, null is represented by None.\n",
    "c = a is not None\n",
    "\n",
    "print(b)\n",
    "print(c)"
   ]
  },
  {
   "cell_type": "code",
   "execution_count": 8,
   "id": "1d64e189-17bd-4132-ad78-2e53c5a459da",
   "metadata": {},
   "outputs": [
    {
     "name": "stdout",
     "output_type": "stream",
     "text": [
      "True\n",
      "\n",
      "True\n",
      "False\n",
      "\n",
      "True\n",
      "False\n",
      "False\n",
      "True\n"
     ]
    }
   ],
   "source": [
    "# Logical Operators >> [and, or, not]\n",
    "\n",
    "# and operator\n",
    "age = 19\n",
    "monthly_income = 80000\n",
    "good_earning_person = (age > 18) and (monthly_income > 50000)\n",
    "print(good_earning_person)\n",
    "print('')\n",
    "\n",
    "# or operator\n",
    "species = 'Lion'   \n",
    "cat_family_member_present_for_party = (species == 'Lion') or (species == 'Tiger') (species == 'Jaguar') or (species == 'Puma')\n",
    "is_cat_from_America = (species == 'Jaguar') or (species == 'Puma')\n",
    "print(cat_family_member_present_for_party)\n",
    "print(is_cat_from_America)\n",
    "print('')\n",
    "\n",
    "# not operator\n",
    "a = 12\n",
    "b = 2321\n",
    "c = 'dsds'\n",
    "\n",
    "variable_is_integer = type(a) == type(2)\n",
    "print(variable_is_integer)\n",
    "print(not(variable_is_integer))\n",
    "print(not(True))\n",
    "print(not(False))\n",
    "\n",
    "      "
   ]
  },
  {
   "cell_type": "code",
   "execution_count": 9,
   "id": "cd25f59c-35f6-4f49-855d-417e8626b447",
   "metadata": {},
   "outputs": [
    {
     "name": "stdout",
     "output_type": "stream",
     "text": [
      "BharatBenz is non-indian bus brand\n",
      "Ashley is an indian origin bus brand\n",
      "Kia is not a bus brand\n"
     ]
    }
   ],
   "source": [
    "# Membership Operators >> (in, not in)\n",
    "\n",
    "Indian_bus_brands = ['Ashley', 'Tata']\n",
    "\n",
    "Indo_International_collab_bus_brands = ['Volvo Eicher',]\n",
    "\n",
    "Non_Indian_bus_brands = ['Volvo', 'Scania', 'Mercedes', 'Cerita']\n",
    "\n",
    "if 'BharatBenz' in Indian_bus_brands:\n",
    "    print('BharatBenz is an indian origin bus brand')\n",
    "else:\n",
    "    print('BharatBenz is non-indian bus brand')\n",
    "\n",
    "if 'Ashley' in Indian_bus_brands:\n",
    "    print('Ashley is an indian origin bus brand')\n",
    "else:\n",
    "    print('Ashley is non-indian bus brand')\n",
    "\n",
    "if ('Kia' not in Indian_bus_brands) or ('Kia' not in Indo_International_collab_bus_brands) or ('Kia' not in Non_Indian_bus_brands):\n",
    "    print('Kia is not a bus brand')"
   ]
  },
  {
   "cell_type": "code",
   "execution_count": 10,
   "id": "2b978e69-2b02-45a1-907a-c5eafc3c8be6",
   "metadata": {},
   "outputs": [
    {
     "name": "stdout",
     "output_type": "stream",
     "text": [
      "c is a consonant and not a vowel\n"
     ]
    }
   ],
   "source": [
    "vowels = ['a', 'e', 'i', 'o', 'u']\n",
    "\n",
    "if c not in vowels:\n",
    "    print('c is a consonant and not a vowel')"
   ]
  },
  {
   "cell_type": "markdown",
   "id": "1c0a2167-81fb-49fd-93af-ebc8c79f88c3",
   "metadata": {},
   "source": []
  },
  {
   "cell_type": "code",
   "execution_count": 11,
   "id": "a5758318-0d23-417b-91d9-9ad4decccfc6",
   "metadata": {},
   "outputs": [
    {
     "name": "stdin",
     "output_type": "stream",
     "text": [
      "Enter the input value hgj\n"
     ]
    },
    {
     "name": "stdout",
     "output_type": "stream",
     "text": [
      "Input provided is hgj\n",
      "<class 'str'>\n"
     ]
    }
   ],
   "source": [
    "input_num = input('Enter the input value') # by default datatype of input_num would be string.\n",
    "print('Input provided is ' + input_num)\n",
    "print(type(input_num))"
   ]
  },
  {
   "cell_type": "code",
   "execution_count": 12,
   "id": "e7189ea7-d2d3-46ca-8b23-42f0e1c5c396",
   "metadata": {},
   "outputs": [
    {
     "name": "stdin",
     "output_type": "stream",
     "text": [
      "Enter your current age : 657\n"
     ]
    },
    {
     "name": "stdout",
     "output_type": "stream",
     "text": [
      "Current age entered is 657\n",
      "<class 'int'>\n"
     ]
    }
   ],
   "source": [
    "# You would need to type-caste the input if you want it in other datatypes since datatype is string by default for input function.\n",
    "\n",
    "my_current_age = int(input('Enter your current age :'))\n",
    "print(f'Current age entered is {my_current_age}')\n",
    "print(type(my_current_age))"
   ]
  },
  {
   "cell_type": "code",
   "execution_count": null,
   "id": "f59a3254-7528-442d-bc2a-ba2bd405b860",
   "metadata": {},
   "outputs": [],
   "source": []
  },
  {
   "cell_type": "markdown",
   "id": "aeeee7e5-66e2-4900-866a-9f76b063ff93",
   "metadata": {},
   "source": [
    "# Data-structures in Python\n",
    "\n",
    "The commonly used data-structures in python are :\n",
    "1. Lists\n",
    "2. Tuples\n",
    "3. Dictionaries\n",
    "4. Sets "
   ]
  },
  {
   "cell_type": "markdown",
   "id": "eb24792f-8e37-4cd5-a7d5-196b683f1379",
   "metadata": {},
   "source": [
    "# Lists\n",
    "1. List is an ordered collection of items. \n",
    "2. The items in collection may be of same/different datatypes. \n",
    "3. Each item in the list can be accessed using indexing where index for the first item is '0'.\n",
    "4. List can also be nested i.e. another list can also be present as one of the items of the list.\n",
    "5. List are enclosed by square brackets."
   ]
  },
  {
   "cell_type": "code",
   "execution_count": 14,
   "id": "8ecee922-a868-4a06-9fe0-c368f499ede9",
   "metadata": {},
   "outputs": [
    {
     "name": "stdout",
     "output_type": "stream",
     "text": [
      "[1, 3, 'sds', 34.0]\n",
      "['apple', 'banana', 'cherry']\n",
      "['New_element1', 1, 4, 5, 767, ' my_sis']\n"
     ]
    }
   ],
   "source": [
    "# Creation of list.\n",
    "\n",
    "# Way 1 - direct delaration\n",
    "my_lst = [1,3,'sds', 34.0]\n",
    "print(my_lst)\n",
    "\n",
    "# Way 2 - list constructor\n",
    "thislist = list((\"apple\", \"banana\", \"cherry\")) # note the double round-brackets\n",
    "print(thislist)\n",
    "\n",
    "# Way 3 - declaring the empty list and then adding the elements using append, insert, extend functions directly or through the use of loops.\n",
    "emp_lst = []\n",
    "emp_lst.append('New_element1')\n",
    "emp_lst.extend([1, 4, 5, 767,' my_sis'])\n",
    "print(emp_lst)"
   ]
  },
  {
   "cell_type": "code",
   "execution_count": 13,
   "id": "bdfb6866-39d9-45c8-bfd7-c8b4d76a3d59",
   "metadata": {},
   "outputs": [
    {
     "name": "stdout",
     "output_type": "stream",
     "text": [
      "<class 'list'>\n"
     ]
    }
   ],
   "source": [
    "lst = [1,45,'1', 'assaf', 344.66, True, [2323, 44, 540], 'Texas']\n",
    "\n",
    "print(type(lst))"
   ]
  },
  {
   "cell_type": "code",
   "execution_count": 14,
   "id": "9fc63c91-e0b3-4fa4-8251-2fc07833e25d",
   "metadata": {},
   "outputs": [
    {
     "name": "stdout",
     "output_type": "stream",
     "text": [
      "8\n"
     ]
    }
   ],
   "source": [
    "print(len(lst)) #getting number of elements in the list using length function."
   ]
  },
  {
   "cell_type": "code",
   "execution_count": 15,
   "id": "be17e2f4-baec-417a-bbcf-cead0c50132c",
   "metadata": {},
   "outputs": [
    {
     "name": "stdout",
     "output_type": "stream",
     "text": [
      "1\n",
      "45\n",
      "1\n",
      "assaf\n",
      "344.66\n",
      "True\n",
      "[2323, 44, 540]\n",
      "Texas\n"
     ]
    }
   ],
   "source": [
    "for i in range(len(lst)): #Use of indexing to query the elements of list\n",
    "    print(lst[i])"
   ]
  },
  {
   "cell_type": "code",
   "execution_count": 16,
   "id": "74b51c4f-0ab5-4352-9548-3eb9909e6cb5",
   "metadata": {},
   "outputs": [
    {
     "name": "stdout",
     "output_type": "stream",
     "text": [
      "1\n",
      "45\n",
      "Texas\n",
      "1\n",
      "45\n",
      "Texas\n"
     ]
    }
   ],
   "source": [
    "# Positive Indexing - Goes from left to right. Starts with zero for first element till int(len(list)-1) being assigned for last element\n",
    "print(lst[0])\n",
    "print(lst[1])\n",
    "print(lst[len(lst)-1]) #Last element\n",
    "\n",
    "# Negative Indexing for same elements. Negative indexing starts with -1 being assigned to last element of the list. First element of lst is assigned index as int(-len(lst))\n",
    "print(lst[-len(lst)])\n",
    "print(lst[-len(lst)+1])\n",
    "print(lst[-1]) #Last element"
   ]
  },
  {
   "cell_type": "code",
   "execution_count": 17,
   "id": "0a4451b0-c763-4c47-8fc1-b501aa76fd42",
   "metadata": {},
   "outputs": [
    {
     "name": "stdout",
     "output_type": "stream",
     "text": [
      "1\n",
      "45\n",
      "1\n",
      "assaf\n",
      "344.66\n",
      "True\n",
      "[2323, 44, 540]\n",
      "Texas\n"
     ]
    }
   ],
   "source": [
    "# Elements of list can also be queried without indexes as follows:\n",
    "\n",
    "for element in lst: #But have limited applications of usage\n",
    "    print(element)"
   ]
  },
  {
   "cell_type": "code",
   "execution_count": 18,
   "id": "e08db352-2776-4a8f-aabd-b4962094901e",
   "metadata": {},
   "outputs": [
    {
     "name": "stdout",
     "output_type": "stream",
     "text": [
      "['1', 'assaf', 344.66]\n",
      "['1', 344.66, [2323, 44, 540]]\n",
      "[1, 45, '1', 'assaf', 344.66]\n",
      "['assaf', 344.66, True, [2323, 44, 540], 'Texas']\n",
      "[45, 344.66, 'Texas']\n"
     ]
    }
   ],
   "source": [
    "# Concept of Slicing is used to extract desired selective values ftom the list\n",
    "# Note that in positive indexing, index of 'n'th element is 'n-1'. For example, first element will have index as '0'. Second element will have index 1.\n",
    "\n",
    "print(lst[2:5]) #Extraction of elements starting with index 2 till index 4. Note that index 5 is excluded. \n",
    "\n",
    "print(lst[2:7:2]) #Extraction of elements starting with index 2 till index 7 with gap of 1 i.e. next_index = (previous_index + 2)\n",
    "\n",
    "print(lst[:5]) #Extraction of elements from start of the list till element with index 4(5th element). Blank value before first colon depicts that the required range starts with index '0' i.e. first element.\n",
    "\n",
    "print(lst[3:]) #Extraction of elements starting with index 3 till end of the list. Blank value after first colon depicts that the required range ends at last element of the list.\n",
    "\n",
    "print(lst[1::3]) #Extraction of elements starting with index 1 till the end of list with gap of 2 i.e. next_index = (previous_index + 3)"
   ]
  },
  {
   "cell_type": "code",
   "execution_count": 19,
   "id": "bdd78247-61d2-4a4c-b7f4-c72286c41d43",
   "metadata": {},
   "outputs": [
    {
     "name": "stdout",
     "output_type": "stream",
     "text": [
      "[1, 45, '1', 'assaf', 344.66, True, [2323, 44, 540], 'Texas', 'California']\n"
     ]
    }
   ],
   "source": [
    "#adding new element at the end of the list\n",
    "\n",
    "lst.append('California') \n",
    "print(lst)"
   ]
  },
  {
   "cell_type": "code",
   "execution_count": 4,
   "id": "c0088d7b-b7bf-4f60-83db-ecd2e840075a",
   "metadata": {},
   "outputs": [
    {
     "name": "stdout",
     "output_type": "stream",
     "text": [
      "[1, 2, 3, 4, 5]\n"
     ]
    }
   ],
   "source": [
    "#The extend() method increases the length of the list by the number of elements that are provided to the method, so if you want to add multiple elements to the list, you can use this method.\n",
    "\n",
    "x = [1, 2, 3]\n",
    "x.extend([4, 5])\n",
    "print(x)"
   ]
  },
  {
   "cell_type": "code",
   "execution_count": 27,
   "id": "f26d6a11-5d22-4019-919b-dc469002ec09",
   "metadata": {},
   "outputs": [
    {
     "name": "stdout",
     "output_type": "stream",
     "text": [
      "[1, 2, 3, 4, 5]\n"
     ]
    }
   ],
   "source": [
    "# Combining two lists using '+' operators\n",
    "x = [1, 2, 3]\n",
    "y = [4, 5]\n",
    "x = x + y\n",
    "print(x)"
   ]
  },
  {
   "cell_type": "code",
   "execution_count": 20,
   "id": "9bc144f7-2d8c-4abb-a727-267e07cb2239",
   "metadata": {},
   "outputs": [
    {
     "name": "stdout",
     "output_type": "stream",
     "text": [
      "[1, 45, '1', 'Ashley', 'assaf', 344.66, True, [2323, 44, 540], 'Texas', 'California']\n"
     ]
    }
   ],
   "source": [
    "# inserting the element at a certain index in the lst\n",
    "\n",
    "lst.insert(3,'Ashley') #inserting the element 'Ashley' at the index 3 in the list\n",
    "print(lst) #Indexes of the elements after index 3 would be shifted accordingly."
   ]
  },
  {
   "cell_type": "code",
   "execution_count": 21,
   "id": "40de75f6-cd97-41a7-9a9f-efc975ac9d87",
   "metadata": {},
   "outputs": [
    {
     "name": "stdout",
     "output_type": "stream",
     "text": [
      "[1, 45, '1', 'Ashley', 'assaf', 344.66, True, [2323, 44, 540], 'Texas']\n",
      "[45, '1', 'Ashley', 'assaf', 344.66, True, [2323, 44, 540], 'Texas']\n"
     ]
    }
   ],
   "source": [
    "# Pop function to remove the elements from the list. Can be used with/without argument.\n",
    "\n",
    "lst.pop() #Would remove the last element if no argument is passed\n",
    "print(lst)\n",
    "\n",
    "lst.pop(0) #Would remove the element at index provided as argument to function when argument is passed.\n",
    "print(lst)"
   ]
  },
  {
   "cell_type": "code",
   "execution_count": 22,
   "id": "34902e3b-060e-4dc2-a437-df7d9d5b4f41",
   "metadata": {},
   "outputs": [
    {
     "name": "stdout",
     "output_type": "stream",
     "text": [
      "2\n",
      "6\n"
     ]
    }
   ],
   "source": [
    "# Index function - used to get the index of certain element of the list.\n",
    "\n",
    "print(lst.index('Ashley'))\n",
    "print(lst.index([2323,44,540]))"
   ]
  },
  {
   "cell_type": "code",
   "execution_count": 34,
   "id": "263defc3-82d2-483f-8874-1ea573033d63",
   "metadata": {},
   "outputs": [
    {
     "name": "stdout",
     "output_type": "stream",
     "text": [
      "[44, 540, 2323]\n",
      "<class 'list'>\n",
      "[44, 540, 2323]\n",
      "[2323, 540, 44]\n"
     ]
    }
   ],
   "source": [
    "# Sort function - would sort the list permanently.\n",
    "\n",
    "new_lst = lst[6]\n",
    "print(new_lst)\n",
    "print(type(new_lst))\n",
    "\n",
    "new_lst.sort()  # Ascending sort\n",
    "print(new_lst)\n",
    "\n",
    "new_lst.sort(reverse = True) # Descending sort. If reverse = False then sort would be ascending.\n",
    "print(new_lst)\n"
   ]
  },
  {
   "cell_type": "code",
   "execution_count": 1,
   "id": "cfdb6b7d-71b3-4d84-923e-7802b57c6514",
   "metadata": {},
   "outputs": [
    {
     "name": "stdout",
     "output_type": "stream",
     "text": [
      "[2, 23, 56, 343, 5432, 34554, 66743]\n",
      "[66743, 34554, 5432, 343, 56, 23, 2]\n",
      "[2, 343, 23, 66743, 34554, 5432, 56]\n"
     ]
    }
   ],
   "source": [
    "# Sorted function - would sort the list temporarily for its use somewhere else.\n",
    "# If you want to sort it permanently, the result of sorted function can be assigned to the same variable.\n",
    "\n",
    "lst2 = [2, 343, 23, 66743, 34554, 5432, 56]\n",
    "\n",
    "print(sorted(lst2)) #Ascending temporary sort\n",
    "print(sorted(lst2, reverse = True)) #Descending temporary sort\n",
    "print(lst2)"
   ]
  },
  {
   "cell_type": "code",
   "execution_count": 3,
   "id": "3b237bfe-ae8c-4f66-bd59-506f8a51c046",
   "metadata": {},
   "outputs": [
    {
     "name": "stdout",
     "output_type": "stream",
     "text": [
      "[2, 343, 23, 66743, 34554, 5432, 56]\n",
      "[56, 5432, 34554, 66743, 23, 343, 2]\n"
     ]
    }
   ],
   "source": [
    "# Reverse the sequence of list without sorting\n",
    "\n",
    "print(lst2) # Before reversing\n",
    "lst2.reverse()\n",
    "print(lst2) # After reversing"
   ]
  },
  {
   "cell_type": "code",
   "execution_count": 6,
   "id": "1a77f408-04bd-46db-aa3f-afc8216798b9",
   "metadata": {},
   "outputs": [
    {
     "name": "stdout",
     "output_type": "stream",
     "text": [
      "66743\n",
      "2\n"
     ]
    }
   ],
   "source": [
    "#Max and Min functions in list\n",
    "\n",
    "print(max(lst2))\n",
    "print(min(lst2))"
   ]
  },
  {
   "cell_type": "code",
   "execution_count": 17,
   "id": "9754482f-4f07-493b-9ff0-d848a16b897e",
   "metadata": {},
   "outputs": [
    {
     "name": "stdout",
     "output_type": "stream",
     "text": [
      "45 absent in the list\n",
      "343 present in the list\n"
     ]
    }
   ],
   "source": [
    "# Check if item exists in the list.\n",
    "\n",
    "if 45 in lst2:\n",
    "    print('45 present in the list')\n",
    "else :\n",
    "    print('45 absent in the list')\n",
    "\n",
    "if 343 in lst2:\n",
    "    print('343 present in the list')\n",
    "else :\n",
    "    print('343 absent in the list')"
   ]
  },
  {
   "cell_type": "code",
   "execution_count": 24,
   "id": "1760aabd-864b-49ec-a348-335c0ba8caf0",
   "metadata": {},
   "outputs": [
    {
     "ename": "NameError",
     "evalue": "name 'lst2' is not defined",
     "output_type": "error",
     "traceback": [
      "\u001b[1;31m---------------------------------------------------------------------------\u001b[0m",
      "\u001b[1;31mNameError\u001b[0m                                 Traceback (most recent call last)",
      "Cell \u001b[1;32mIn[24], line 3\u001b[0m\n\u001b[0;32m      1\u001b[0m \u001b[38;5;66;03m# Deleting a list\u001b[39;00m\n\u001b[0;32m      2\u001b[0m \u001b[38;5;28;01mdel\u001b[39;00m lst2\n\u001b[1;32m----> 3\u001b[0m \u001b[38;5;28mprint\u001b[39m(lst2)\n",
      "\u001b[1;31mNameError\u001b[0m: name 'lst2' is not defined"
     ]
    }
   ],
   "source": [
    "# Deleting a list\n",
    "del lst2\n",
    "print(lst2) #this will raise an error because the tuple no longer exists"
   ]
  },
  {
   "cell_type": "code",
   "execution_count": null,
   "id": "f2480743-2095-4dd2-863e-8d84b770fc59",
   "metadata": {},
   "outputs": [],
   "source": []
  },
  {
   "cell_type": "markdown",
   "id": "63901ea8-e92e-4000-bd4b-5e8485af24da",
   "metadata": {},
   "source": [
    "# Tuples\n",
    "1. Tuples are used to store multiple items in a single variable. Tuples are defined within rounded brackets.\n",
    "2. A tuple is a collection which is ordered and unchangeable. Elements of tuple can't be changed directly once its declared. Tuples are hence immutable whereas lists are mutable. If needed, conversion to list, then modification and then reconvrsion to tuple is the workaround suggested.\n",
    "3. Indexing can be applied similar to lists for querying the elements.\n",
    "4. Elements can be of same/different datatypes inside the tuple.\n",
    "5. Since tuples are immutable, they do not have a built-in append() method, but there are other ways to add items to a tuple.\n",
    "6. Elements can also be looped through with/without indexes similar to lists.\n",
    "   "
   ]
  },
  {
   "cell_type": "code",
   "execution_count": 20,
   "id": "b109e44d-50b6-4e74-baf5-f6695e40cd73",
   "metadata": {},
   "outputs": [
    {
     "name": "stdout",
     "output_type": "stream",
     "text": [
      "<class 'tuple'>\n",
      "('apple', 'banana', 'cherry')\n",
      "<class 'tuple'>\n",
      "<class 'str'>\n"
     ]
    }
   ],
   "source": [
    "#Creation of tuples\n",
    "\n",
    "#way 1 - direct declaration\n",
    "tup1 = (1,2,'wew.',343.54)\n",
    "print(type(tup1))\n",
    "\n",
    "#way 2 - using tuple constructor\n",
    "thistuple = tuple((\"apple\", \"banana\", \"cherry\")) # note the double round-brackets\n",
    "print(thistuple)\n",
    "\n",
    "\n",
    "#To create a tuple with only one item, you have to add a comma after the item, otherwise Python will not recognize it as a tuple but instead as a string.\n",
    "thistuple = (\"apple\",)\n",
    "print(type(thistuple))\n",
    "\n",
    "#NOT a tuple\n",
    "thistuple = (\"apple\")\n",
    "print(type(thistuple))"
   ]
  },
  {
   "cell_type": "code",
   "execution_count": 16,
   "id": "8e70275c-5d79-47bc-aa88-60760220ebc0",
   "metadata": {},
   "outputs": [
    {
     "name": "stdout",
     "output_type": "stream",
     "text": [
      "wew.\n"
     ]
    }
   ],
   "source": [
    "#Querying tuples\n",
    "print(tup1[2])"
   ]
  },
  {
   "cell_type": "code",
   "execution_count": 19,
   "id": "790b570e-8b47-4779-97b7-b367e484056d",
   "metadata": {},
   "outputs": [
    {
     "name": "stdout",
     "output_type": "stream",
     "text": [
      "45 absent in the tuple\n",
      "343.54 present in the tuple\n",
      "apple absent in the tuple\n"
     ]
    }
   ],
   "source": [
    "# Check if item exists in the tuple.\n",
    "\n",
    "if 45 in tup1:\n",
    "    print('45 present in the tuple')\n",
    "else :\n",
    "    print('45 absent in the tuple')\n",
    "\n",
    "if 343.54 in tup1:\n",
    "    print('343.54 present in the tuple')\n",
    "else :\n",
    "    print('343.54 absent in the tuple')\n",
    "\n",
    "if \"apple\" in tup1:\n",
    "    print('apple present in the tuple')\n",
    "else :\n",
    "    print('apple absent in the tuple')"
   ]
  },
  {
   "cell_type": "code",
   "execution_count": 28,
   "id": "5009f99a-9126-40a1-9415-b2f309af4ec7",
   "metadata": {},
   "outputs": [
    {
     "name": "stdout",
     "output_type": "stream",
     "text": [
      "('apple', 'banana', 'cherry', 'orange')\n",
      "('apple', 'banana', 'cherry', 'orange')\n",
      "('a', 'b', 'c', 1, 2, 3)\n"
     ]
    }
   ],
   "source": [
    "# Working around with tuples.\n",
    "\n",
    "# Way 1 : Convert it to list, do necessary operations and convert back to tuple again\n",
    "thistuple = (\"apple\", \"banana\", \"cherry\")\n",
    "y = list(thistuple)\n",
    "y.append(\"orange\")\n",
    "thistuple = tuple(y)\n",
    "print(thistuple)\n",
    "\n",
    "# Way 2 : Add tuple to a tuple \n",
    "#You are allowed to add tuples to tuples, so if you want to add one item, (or many), create a new tuple with the item(s), and add it to the existing tuple.\n",
    "thistuple1 = (\"apple\", \"banana\", \"cherry\")\n",
    "y = (\"orange\",)\n",
    "thistuple1 += y\n",
    "print(thistuple1)\n",
    "\n",
    "\n",
    "tuple1 = (\"a\", \"b\" , \"c\")\n",
    "tuple2 = (1, 2, 3)\n",
    "\n",
    "tuple3 = tuple1 + tuple2\n",
    "print(tuple3)"
   ]
  },
  {
   "cell_type": "code",
   "execution_count": 25,
   "id": "8d0c1aad-a9e0-4cda-8f6c-087c20b609d5",
   "metadata": {},
   "outputs": [
    {
     "ename": "NameError",
     "evalue": "name 'thistuple' is not defined",
     "output_type": "error",
     "traceback": [
      "\u001b[1;31m---------------------------------------------------------------------------\u001b[0m",
      "\u001b[1;31mNameError\u001b[0m                                 Traceback (most recent call last)",
      "Cell \u001b[1;32mIn[25], line 4\u001b[0m\n\u001b[0;32m      2\u001b[0m thistuple \u001b[38;5;241m=\u001b[39m (\u001b[38;5;124m\"\u001b[39m\u001b[38;5;124mapple\u001b[39m\u001b[38;5;124m\"\u001b[39m, \u001b[38;5;124m\"\u001b[39m\u001b[38;5;124mbanana\u001b[39m\u001b[38;5;124m\"\u001b[39m, \u001b[38;5;124m\"\u001b[39m\u001b[38;5;124mcherry\u001b[39m\u001b[38;5;124m\"\u001b[39m)\n\u001b[0;32m      3\u001b[0m \u001b[38;5;28;01mdel\u001b[39;00m thistuple\n\u001b[1;32m----> 4\u001b[0m \u001b[38;5;28mprint\u001b[39m(thistuple)\n",
      "\u001b[1;31mNameError\u001b[0m: name 'thistuple' is not defined"
     ]
    }
   ],
   "source": [
    "# Deleting a tuple\n",
    "thistuple = (\"apple\", \"banana\", \"cherry\")\n",
    "del thistuple\n",
    "print(thistuple) #this will raise an error because the tuple no longer exists"
   ]
  },
  {
   "cell_type": "code",
   "execution_count": null,
   "id": "76601a70-a947-4728-a920-f1231e7f1290",
   "metadata": {},
   "outputs": [],
   "source": []
  },
  {
   "cell_type": "markdown",
   "id": "85700301-ad39-4bdc-8b5c-3d62b8050afb",
   "metadata": {},
   "source": [
    "# Python Sets\n",
    "1. A set is a collection which is unordered, unchangeable, and unindexed. Set items are unchangeable, but you can remove items and add new items.\n",
    "2. Set is enclosed by curly braces.\n",
    "3. Common set functions are len, add, remove, union, intersection, difference\n",
    "4. Being unordered, indexing isn't applicable to sets.\n",
    "5. Sets don't allow duplicate values. If you declare a set such that it contains duplicate values, on querying the set you will find just the unique values and no duplicates."
   ]
  },
  {
   "cell_type": "code",
   "execution_count": 14,
   "id": "e319a7ab-42c4-4453-a50e-9ece5b711136",
   "metadata": {},
   "outputs": [
    {
     "name": "stdout",
     "output_type": "stream",
     "text": [
      "{1, 3, 4, 'Tiger', 'Lion', 343.89}\n",
      "{'banana', 'cherry', 'apple'}\n"
     ]
    }
   ],
   "source": [
    "# Defining a set\n",
    "\n",
    "# Way 1 - direct declaration\n",
    "s1 = {1, 3, 4, 4, 'Tiger', 'Tiger', 'Lion', 343.89, 343.89}\n",
    "print(s1)\n",
    "\n",
    "# Way 2 - using set constructor\n",
    "thisset = set((\"apple\", \"banana\", \"cherry\")) # note the double round-brackets\n",
    "print(thisset)"
   ]
  },
  {
   "cell_type": "code",
   "execution_count": 3,
   "id": "a7f220af-a4d6-4f2c-919a-86ca15291df0",
   "metadata": {},
   "outputs": [
    {
     "name": "stdout",
     "output_type": "stream",
     "text": [
      "Hello\n"
     ]
    }
   ],
   "source": [
    "print('Hello')"
   ]
  },
  {
   "cell_type": "code",
   "execution_count": 8,
   "id": "de707c38-671b-473a-b53e-8e2da4687574",
   "metadata": {},
   "outputs": [
    {
     "name": "stdout",
     "output_type": "stream",
     "text": [
      "[1, 2, 67, 5, 6, 7, 'lion', 45, 78, 'tiger']\n",
      "(1, 2, 67, 5, 6, 7, 45, 78)\n"
     ]
    }
   ],
   "source": [
    "# Duplicate removal application of sets\n",
    "\n",
    "# Duplication removal from lists\n",
    "lst = [1,2,1,45,67,45,6,7,78,5,5, 'lion', 'tiger', 'lion'] #original list with duplicates\n",
    "lst = list(set(lst)) #duplicate removal by first casting as set and again casting back to list.\n",
    "print(lst)\n",
    "\n",
    "# Duplication removal from tuples\n",
    "tuple1 = (1,2,1,45,67,45,6,7,78,5,5) #original tuple with duplicates\n",
    "tuple1 = tuple(set(tuple1)) #duplicate removal by first casting as set and again casting back to list.\n",
    "print(tuple1)"
   ]
  },
  {
   "cell_type": "code",
   "execution_count": 9,
   "id": "d7deb5b1-ebec-4374-8662-f3c339fe7bbb",
   "metadata": {},
   "outputs": [
    {
     "name": "stdout",
     "output_type": "stream",
     "text": [
      "{1, 3, 4, 'Tiger', 'Lion', 343.89}\n",
      "6\n"
     ]
    }
   ],
   "source": [
    "# Length of a set\n",
    "s1 = {1, 3, 4, 4, 'Tiger', 'Tiger', 'Lion', 343.89, 343.89}\n",
    "print(s1)\n",
    "print(len(s1))"
   ]
  },
  {
   "cell_type": "code",
   "execution_count": 17,
   "id": "90da72ca-dfe1-4758-9530-089494db2459",
   "metadata": {},
   "outputs": [
    {
     "name": "stdout",
     "output_type": "stream",
     "text": [
      "{1, 3, 4, 'New_Delhi', 'Tiger', 'Lion', 343.89}\n",
      "{'cherry', 'pineapple', 'mango', 'banana', 'apple', 'papaya'}\n"
     ]
    }
   ],
   "source": [
    "# Adding elements to set using add function\n",
    "s1.add('New_Delhi') # adding an element to set\n",
    "print(s1)\n",
    "\n",
    "\n",
    "# Adding another set/any iterable to a set using update function\n",
    "thisset = {\"apple\", \"banana\", \"cherry\"}\n",
    "tropical = {\"pineapple\", \"mango\", \"papaya\"}\n",
    "thisset.update(tropical) # Note that even lists and tuples can also be used as argument to update function. Its not just adding another set\n",
    "print(thisset)"
   ]
  },
  {
   "cell_type": "code",
   "execution_count": 11,
   "id": "29c5f093-cf04-4b81-be4e-30c1f546f811",
   "metadata": {},
   "outputs": [
    {
     "name": "stdout",
     "output_type": "stream",
     "text": [
      "{1, 3, 4, 'New_Delhi', 'Lion', 343.89}\n"
     ]
    }
   ],
   "source": [
    "# Removing specific elements from set using remove function with element value as a compulsory argument.\n",
    "\n",
    "s1.remove('Tiger') # discard method can also be used intead of remove method\n",
    "print(s1)"
   ]
  },
  {
   "cell_type": "code",
   "execution_count": 18,
   "id": "d8adcf63-ee00-41a9-931f-38a98fa2851e",
   "metadata": {},
   "outputs": [
    {
     "name": "stdout",
     "output_type": "stream",
     "text": [
      "{1, 3, 4, 'New_Delhi', 'Tiger', 'Lion', 343.89}\n",
      "{3, 4, 'New_Delhi', 'Tiger', 'Lion', 343.89}\n"
     ]
    }
   ],
   "source": [
    "# Removing random elemts from a set using pop method\n",
    "\n",
    "print(s1)\n",
    "s1.pop()\n",
    "print(s1)"
   ]
  },
  {
   "cell_type": "code",
   "execution_count": 13,
   "id": "6f4f1e86-2e56-4ba4-8cc1-652ce670dc7e",
   "metadata": {},
   "outputs": [
    {
     "name": "stdout",
     "output_type": "stream",
     "text": [
      "{'Cheetah', 'Tiger', 'Jaguar', 'Puma', 'Lion', 'Leopard', 'Persian Cat'}\n",
      "{'Puma', 'Cheetah', 'Lion'}\n"
     ]
    }
   ],
   "source": [
    "# Union and Intersection functions in sets\n",
    "\n",
    "wild_cats = {'Tiger', 'Lion', 'Cheetah', 'Leopard', 'Jaguar', 'Puma'}\n",
    "pet_cats = {'Persian Cat', 'Puma', 'Cheetah', 'Lion'}\n",
    "\n",
    "cats = wild_cats.union(pet_cats) #union example\n",
    "print(cats)\n",
    "\n",
    "wild_cats_that_can_be_pet = wild_cats.intersection(pet_cats)\n",
    "print(wild_cats_that_can_be_pet)"
   ]
  },
  {
   "cell_type": "code",
   "execution_count": 20,
   "id": "ee9070fd-40e5-4e41-8a24-a125de982058",
   "metadata": {},
   "outputs": [
    {
     "name": "stdout",
     "output_type": "stream",
     "text": [
      "Cheetah\n",
      "Lion\n",
      "Tiger\n",
      "Jaguar\n",
      "Puma\n",
      "Leopard\n"
     ]
    }
   ],
   "source": [
    "# Looping through set elements\n",
    "wild_cats = {'Tiger', 'Lion', 'Cheetah', 'Leopard', 'Jaguar', 'Puma'}\n",
    "for x in wild_cats: # Note that being unordered, every time code is executed the ouput sequence might change\n",
    "    print(x)"
   ]
  },
  {
   "cell_type": "code",
   "execution_count": 21,
   "id": "7bea56bc-7005-4de3-ade8-7a88ba82c0ce",
   "metadata": {},
   "outputs": [
    {
     "name": "stdout",
     "output_type": "stream",
     "text": [
      "{'Leopard', 'Tiger', 'Jaguar'}\n"
     ]
    }
   ],
   "source": [
    "# Difference function in sets\n",
    "# Denoted by '-', its used when we need to keep only those elements from original set that aren't present in the another set with which it is compared\n",
    "\n",
    "wild_cats = {'Tiger', 'Lion', 'Cheetah', 'Leopard', 'Jaguar', 'Puma'}\n",
    "pet_cats = {'Persian Cat', 'Puma', 'Cheetah', 'Lion'}\n",
    "\n",
    "new_set = wild_cats - pet_cats\n",
    "print(new_set)"
   ]
  },
  {
   "cell_type": "code",
   "execution_count": 22,
   "id": "54581908-e801-43b2-b610-7b0a7513d0bf",
   "metadata": {},
   "outputs": [
    {
     "name": "stdout",
     "output_type": "stream",
     "text": [
      "{'Tiger', 'Jaguar', 'Leopard', 'Persian Cat'}\n"
     ]
    }
   ],
   "source": [
    "# Symmetric difference function\n",
    "# The symmetric_difference() method will return a new set, that contains only the elements that are NOT present in both sets.\n",
    "# Note that this function treats True and 1 as the same value.\n",
    "\n",
    "wild_cats = {'Tiger', 'Lion', 'Cheetah', 'Leopard', 'Jaguar', 'Puma'}\n",
    "pet_cats = {'Persian Cat', 'Puma', 'Cheetah', 'Lion'}\n",
    "\n",
    "environmentally_conservative_cats = wild_cats.symmetric_difference(pet_cats)\n",
    "print(environmentally_conservative_cats)"
   ]
  },
  {
   "cell_type": "code",
   "execution_count": null,
   "id": "355903ab-c77d-4fea-984d-79e281721eac",
   "metadata": {},
   "outputs": [],
   "source": []
  },
  {
   "cell_type": "markdown",
   "id": "944279b0-9773-4f5f-b6c1-10bb17d073fe",
   "metadata": {},
   "source": [
    "# Dictionaries in Python\n",
    "1. Dictionaries are used to store data values in key:value pairs.\n",
    "2. Dictionary is a collection which is ordered, changeable and do not allow duplicates.\n",
    "3. Dictionaries are written with curly brackets, and have keys and values.\n",
    "4. Keys can be string/numeric values and value can be of any datatype(including lists, tuples, even another dictionary).\n",
    "5. Dictionaries can be nested. Best example of nested dictionaries is JSON scripts.\n",
    "6. Keys need to be unique in a dictionary to prevent unnecessary update of values.\n",
    "7. There cannot be duplicate entries for a single key."
   ]
  },
  {
   "cell_type": "code",
   "execution_count": 53,
   "id": "63187d4a-350e-4b30-b154-810e05420b81",
   "metadata": {},
   "outputs": [
    {
     "name": "stdout",
     "output_type": "stream",
     "text": [
      "{'brand': 'Ford', 'model': 'Mustang', 'year': 1964}\n",
      "{}\n",
      "{'Hyundai': 'Korea', 'Honda': 'Japan'}\n",
      "{'name': 'John', 'age': 36, 'country': 'Norway'}\n"
     ]
    }
   ],
   "source": [
    "# Defining a dictionary \n",
    "\n",
    "# Way 1 - normal declaration\n",
    "thisdict = {\"brand\": \"Ford\", \"model\": \"Mustang\", \"year\": 1964}\n",
    "print(thisdict)\n",
    "\n",
    "# Way 2 - decalring an empty dictionary and adding elements using keys\n",
    "new_dict = {}\n",
    "print(new_dict)\n",
    "new_dict['Hyundai'] = 'Korea'\n",
    "new_dict['Honda'] = 'Japan'\n",
    "print(new_dict)\n",
    "\n",
    "# Way 3 - Using dict() constructor\n",
    "thisdict = dict(name = \"John\", age = 36, country = \"Norway\")\n",
    "print(thisdict)"
   ]
  },
  {
   "cell_type": "code",
   "execution_count": 75,
   "id": "4119cccb-8dcb-4453-b2f3-3e86d73027ab",
   "metadata": {},
   "outputs": [
    {
     "name": "stdout",
     "output_type": "stream",
     "text": [
      "{'Hyundai': 'Korea', 'Honda': 'India'}\n",
      "{'Hyundai': 'Korea', 'Honda': 'Japan'}\n"
     ]
    }
   ],
   "source": [
    "# Modifying/updating the existing elements of dictionary.\n",
    "new_dict = {'Hyundai': 'Korea', 'Honda': 'Japan'}\n",
    "new_dict['Honda'] = 'India'\n",
    "print(new_dict)\n",
    "\n",
    "# Alternately update() method can also be used as below to either update existing key-value pair or add a new key-value pair. Syntax remains same on both situations.\n",
    "new_dict.update({'Honda' : 'Japan'})\n",
    "print(new_dict)"
   ]
  },
  {
   "cell_type": "code",
   "execution_count": 76,
   "id": "13620b88-e9fa-42fb-8940-e40de07e7c7c",
   "metadata": {},
   "outputs": [
    {
     "name": "stdout",
     "output_type": "stream",
     "text": [
      "{'Hyundai': 'Korea', 'Honda': 'Japan', 'Suzuki': {'Maruti Suzuki': 'India'}}\n",
      "{'Hyundai': 'Korea', 'Honda': 'Japan', 'Suzuki': {'Maruti Suzuki': 'India', 'Suzuki Australia': 'Australia'}}\n"
     ]
    }
   ],
   "source": [
    "# Nested dictionaries\n",
    "new_dict = {'Hyundai': 'Korea', 'Honda': 'Japan'}\n",
    "\n",
    "new_dict['Suzuki'] = {'Maruti Suzuki' : 'India'} # Adding dictionary as a value for a key to form nested dictionary\n",
    "print(new_dict)\n",
    "\n",
    "#new_dict['Suzuki'] = {'Suzuki Australia' : 'Suzuki'} #Adding elements to the inner dictionary \n",
    "new_dict['Suzuki']['Suzuki Australia'] = 'Australia'\n",
    "print(new_dict)"
   ]
  },
  {
   "cell_type": "code",
   "execution_count": 77,
   "id": "e2aca8b7-94fc-4bd4-801f-873a72c3d59c",
   "metadata": {},
   "outputs": [
    {
     "name": "stdout",
     "output_type": "stream",
     "text": [
      "dict_keys(['Hyundai', 'Honda', 'Suzuki'])\n",
      "<class 'dict_keys'>\n",
      "Suzuki\n"
     ]
    }
   ],
   "source": [
    "# Listing all the keys present in a dictionary\n",
    "\n",
    "keys = new_dict.keys()\n",
    "print(keys)\n",
    "print(type(keys))\n",
    "\n",
    "print(list(keys)[2]) #Extracting the individual keys from the dict_keys list for some purpose. "
   ]
  },
  {
   "cell_type": "code",
   "execution_count": 78,
   "id": "9f7a0b24-3a78-4565-9904-c2bc7c676125",
   "metadata": {},
   "outputs": [
    {
     "name": "stdout",
     "output_type": "stream",
     "text": [
      "dict_values(['Korea', 'Japan', {'Maruti Suzuki': 'India', 'Suzuki Australia': 'Australia'}])\n",
      "<class 'dict_values'>\n",
      "Korea\n"
     ]
    }
   ],
   "source": [
    "# Listing all the values present inside a dictionary\n",
    "\n",
    "values = new_dict.values()\n",
    "print(values)\n",
    "print(type(values))\n",
    "\n",
    "print(list(values)[0]) #Extracting the individual values from the dict_values list for some purpose. "
   ]
  },
  {
   "cell_type": "code",
   "execution_count": 79,
   "id": "221965a4-1762-4dd9-b235-0309f56134de",
   "metadata": {},
   "outputs": [
    {
     "name": "stdout",
     "output_type": "stream",
     "text": [
      "dict_items([('Hyundai', 'Korea'), ('Honda', 'Japan'), ('Suzuki', {'Maruti Suzuki': 'India', 'Suzuki Australia': 'Australia'})])\n",
      "<class 'dict_items'>\n",
      "('Honda', 'Japan')\n",
      "Japan\n"
     ]
    }
   ],
   "source": [
    "# Listing items present in a dictionary\n",
    "\n",
    "items1 = new_dict.items()\n",
    "print(items1)\n",
    "print(type(items1))\n",
    "\n",
    "print(list(items1)[1]) #Extracting the individual items from the dict_items list for some purpose. \n",
    "\n",
    "print(list(items1)[1][1]) #Querying items from the individual item tuple for some purpose."
   ]
  },
  {
   "cell_type": "code",
   "execution_count": 80,
   "id": "b2b22ea5-a614-4a08-a438-1cfc0ce4ed61",
   "metadata": {},
   "outputs": [
    {
     "name": "stdout",
     "output_type": "stream",
     "text": [
      "{'Hyundai': 'Korea', 'Honda': 'Japan', 'Suzuki': {'Maruti Suzuki': 'India', 'Suzuki Australia': 'Australia'}}\n",
      "{'Maruti Suzuki': 'India', 'Suzuki Australia': 'Australia'}\n",
      "Korea\n",
      "Japan\n",
      "None\n",
      "Japan\n"
     ]
    }
   ],
   "source": [
    "# Querying value from a dictionary - we need to pass the key for the same.\n",
    "\n",
    "print(new_dict)\n",
    "\n",
    "x = new_dict['Suzuki']\n",
    "y = new_dict['Hyundai']\n",
    "z = new_dict.get('Honda') # Alternate method\n",
    "a = new_dict.get('Mazda') # get methods returns null instead of throwing error if key passed as argument is not present in the dictionary. This can be advantageous in error handling.\n",
    "b = new_dict.get('Toyota','Japan') # We can also pass a default value to return in case the key passed as argument is not present in the dictionary.\n",
    "print(x)\n",
    "print(y)\n",
    "print(z)\n",
    "print(a)\n",
    "print(b)"
   ]
  },
  {
   "cell_type": "code",
   "execution_count": 84,
   "id": "e61dab3e-0123-4626-9659-bff1248c05ce",
   "metadata": {},
   "outputs": [
    {
     "name": "stdout",
     "output_type": "stream",
     "text": [
      "{'Hyundai': 'Korea', 'Honda': 'Japan', 'Suzuki': {'Maruti Suzuki': 'India', 'Suzuki Australia': 'Australia'}}\n",
      "{'Hyundai': 'Korea', 'Honda': 'Japan'}\n",
      "{'Honda': 'Japan'}\n"
     ]
    }
   ],
   "source": [
    "#Removing items from the dictionary\n",
    "\n",
    "new_dict = {'Hyundai': 'Korea', 'Honda': 'Japan', 'Suzuki': {'Maruti Suzuki': 'India', 'Suzuki Australia': 'Australia'}}\n",
    "\n",
    "# Way 1 : using popitem() method removes the last inserted item\n",
    "print(new_dict)\n",
    "new_dict.popitem()\n",
    "print(new_dict)\n",
    "\n",
    "# Way 2 : using pop() method with key as the argument to remove a specific item\n",
    "new_dict.pop('Hyundai')\n",
    "print(new_dict)\n",
    "\n",
    "# Way 3 : using del keyword removes the item with the specified key name.\n",
    "del new_dict['Honda']"
   ]
  },
  {
   "cell_type": "code",
   "execution_count": 88,
   "id": "dbce99df-f1e6-49a0-a9ff-1979eabc40d1",
   "metadata": {},
   "outputs": [
    {
     "name": "stdout",
     "output_type": "stream",
     "text": [
      "Korea\n",
      "Japan\n",
      "{'Maruti Suzuki': 'India', 'Suzuki Australia': 'Australia'}\n",
      "\n",
      "Korea\n",
      "Japan\n",
      "{'Maruti Suzuki': 'India', 'Suzuki Australia': 'Australia'}\n",
      "\n",
      "Hyundai\n",
      "Honda\n",
      "Suzuki\n",
      "\n",
      "Hyundai Korea\n",
      "Honda Japan\n",
      "Suzuki {'Maruti Suzuki': 'India', 'Suzuki Australia': 'Australia'}\n"
     ]
    }
   ],
   "source": [
    "# Iterating through the dictionaries\n",
    "\n",
    "thisdict = {'Hyundai': 'Korea', 'Honda': 'Japan', 'Suzuki': {'Maruti Suzuki': 'India', 'Suzuki Australia': 'Australia'}}\n",
    "\n",
    "\n",
    "for x in thisdict: # can be used to iterate over the values in the dictionary\n",
    "  print(thisdict[x])\n",
    "\n",
    "\n",
    "print('')\n",
    "\n",
    "\n",
    "for x in thisdict.values(): #You can also use the values() method to return values of a dictionary:\n",
    "  print(x)\n",
    "\n",
    "\n",
    "print('')\n",
    "\n",
    "\n",
    "for x in thisdict.keys(): # can be used to iterate over the keys of the dictionary\n",
    "  print(x)\n",
    "\n",
    "\n",
    "print('')\n",
    "\n",
    "\n",
    "for x,y in thisdict.items(): # can be used to iterate over the items of the dictionary\n",
    "  print(x,y)"
   ]
  },
  {
   "cell_type": "code",
   "execution_count": 92,
   "id": "928995f1-b1d3-4ea9-9ca3-6a035ccefc5e",
   "metadata": {},
   "outputs": [
    {
     "name": "stdout",
     "output_type": "stream",
     "text": [
      "{'Hyundai': 'Korea', 'Honda': 'Japan', 'Suzuki': {'Maruti Suzuki': 'India', 'Suzuki Australia': 'Australia'}}\n"
     ]
    }
   ],
   "source": [
    "#Similar to lists, even dictionary has an exclusive copy() method to copy a dictionary without referencing dependencies on the original dictionary\n",
    "\n",
    "new_dict = {'Hyundai': 'Korea', 'Honda': 'Japan', 'Suzuki': {'Maruti Suzuki': 'India', 'Suzuki Australia': 'Australia'}}\n",
    "\n",
    "\n",
    "new_dict2 = new_dict.copy()\n",
    "print(new_dict2)\n",
    "\n",
    "# Any further changes to new_dict won't affect the new_dict2 since both are independent dictionaries with same items present currently."
   ]
  },
  {
   "cell_type": "code",
   "execution_count": 94,
   "id": "85181423-3daa-4d55-9dbc-d49642674332",
   "metadata": {},
   "outputs": [
    {
     "name": "stdout",
     "output_type": "stream",
     "text": [
      "{'Hyundai': 'Korea', 'Honda': 'Japan', 'Suzuki': {'Maruti Suzuki': 'India', 'Suzuki Australia': 'Australia'}}\n"
     ]
    }
   ],
   "source": [
    "# Same task can also be accomplished using dict()\n",
    "\n",
    "new_dict3 = dict(new_dict)\n",
    "print(new_dict3)\n",
    "# Any further changes to new_dict won't affect the new_dict2 since both are independent dictionaries with same items present currently."
   ]
  },
  {
   "cell_type": "code",
   "execution_count": null,
   "id": "16e1531e-7805-47de-a8b5-bb4050c0f965",
   "metadata": {},
   "outputs": [],
   "source": []
  },
  {
   "cell_type": "markdown",
   "id": "50a20d8b-b842-4a6a-abb8-b89134ef9e53",
   "metadata": {},
   "source": [
    "# Strings in Python\n",
    "1. Strings in python are surrounded by either single quotation marks, or double quotation marks.\n",
    "2. You can assign a multiline string to a variable by using three quotes. Note that in the result, the line breaks are inserted at the same position as in the code.\n",
    "3. Strings in Python are arrays of bytes representing unicode characters.\n",
    "4. A single character is simply a string with a length of 1.\n",
    "5. Square brackets can be used to access elements of the string through indexing.\n",
    "6. Since strings are arrays, we can loop through the characters in a string, with a for loop."
   ]
  },
  {
   "cell_type": "code",
   "execution_count": 113,
   "id": "990b8c62-021c-4a80-a8b1-4a0178b186a6",
   "metadata": {},
   "outputs": [
    {
     "name": "stdout",
     "output_type": "stream",
     "text": [
      "C\n",
      "Caves\n",
      "s\n",
      "lora C\n",
      "lr ae\n",
      "\n",
      "E\n",
      "l\n",
      "l\n",
      "o\n",
      "r\n",
      "a\n",
      " \n",
      "C\n",
      "a\n",
      "v\n",
      "e\n",
      "s\n",
      "\n",
      "12\n"
     ]
    }
   ],
   "source": [
    "a = 'Ellora Caves'\n",
    "\n",
    "print(a[7])\n",
    "print(a[7:])\n",
    "print(a[-1])\n",
    "print(a[2:8])\n",
    "print(a[2:-1:2])\n",
    "\n",
    "print('')\n",
    "\n",
    "for x in a: #Loop through the letters/characters in the word\n",
    "    print(x)\n",
    "\n",
    "\n",
    "print(\"\\n\" + str(len(a))) #getting length of the string"
   ]
  },
  {
   "cell_type": "code",
   "execution_count": 111,
   "id": "d414a8bf-24d3-4a83-851a-ebbb432fa97d",
   "metadata": {},
   "outputs": [
    {
     "name": "stdout",
     "output_type": "stream",
     "text": [
      "ellora caves\n",
      "ELLORA CAVES\n",
      "Ellora caves\n",
      "Ellora Caves\n"
     ]
    }
   ],
   "source": [
    "# Changing cases of string\n",
    "\n",
    "a = 'Ellora Caves'\n",
    "\n",
    "print(a.lower())\n",
    "print(a.upper())\n",
    "print(a.capitalize()) # Capitalizes first letter of string\n",
    "print(a.title()) # Capitalizes first letter after every space i.e. first letter of every word"
   ]
  },
  {
   "cell_type": "code",
   "execution_count": null,
   "id": "59415f28-c2ab-4591-8de6-bb54d7e291b0",
   "metadata": {},
   "outputs": [],
   "source": [
    "a.swapcase"
   ]
  }
 ],
 "metadata": {
  "kernelspec": {
   "display_name": "Python 3 (ipykernel)",
   "language": "python",
   "name": "python3"
  },
  "language_info": {
   "codemirror_mode": {
    "name": "ipython",
    "version": 3
   },
   "file_extension": ".py",
   "mimetype": "text/x-python",
   "name": "python",
   "nbconvert_exporter": "python",
   "pygments_lexer": "ipython3",
   "version": "3.11.5"
  }
 },
 "nbformat": 4,
 "nbformat_minor": 5
}
