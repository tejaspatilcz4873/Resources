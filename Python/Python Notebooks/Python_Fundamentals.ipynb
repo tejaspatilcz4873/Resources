{
 "cells": [
  {
   "cell_type": "markdown",
   "id": "3ff7d906-ef57-4354-b4a5-a2b6114845f5",
   "metadata": {},
   "source": [
    "# >> Python is a high-level interpreted programming language, which emphasizes on readibility and clean syntax.¶\n",
    "# >> Python is a very versatile programming language and can be used across various domains like web development, data analysis, machine learning,\n",
    "# >> It's a community driven language with the rich ecosystem of libraries."
   ]
  },
  {
   "cell_type": "markdown",
   "id": "8722090b-45ab-45ff-bc25-69564fda9274",
   "metadata": {},
   "source": [
    "# >> Rules for creating a variable in python :\n",
    "    1. Variable-name should always start with a character\n",
    "    2. There shouldn't be any special character except underscore(_) in variable-name. \n",
    "    3. Variable-name shouldn't be a keyword.\n",
    "    4. Its preferrable to have variable-name be in lowercase and meaningful.\n",
    "# >> Common python datatypes are int, float(decimal nos), string, boolean."
   ]
  },
  {
   "cell_type": "markdown",
   "id": "6e1bd885-1b1c-44b4-9452-4ce84dd7c0f4",
   "metadata": {},
   "source": [
    "# >> In python, there is dynamic allocation of datatype i.e. we don't need to declare variable datatype first and then use it further it code."
   ]
  },
  {
   "cell_type": "code",
   "execution_count": 6,
   "id": "685e2aa0-64c3-48df-8a14-55a984af8c7a",
   "metadata": {},
   "outputs": [
    {
     "name": "stdout",
     "output_type": "stream",
     "text": [
      "<class 'str'>\n",
      "<class 'int'>\n",
      "<class 'float'>\n",
      "<class 'bool'>\n",
      "<class 'str'>\n",
      "<class 'str'>\n"
     ]
    }
   ],
   "source": [
    "a = 'dnfdn'\n",
    "b = 12\n",
    "c = 454.565\n",
    "d = True\n",
    "e = 'True'\n",
    "f = \"ghdsk\" # Strings can be enclosed by either by single or double quotes.\n",
    "\n",
    "print(type(a))\n",
    "print(type(b))\n",
    "print(type(c))\n",
    "print(type(d)) \n",
    "print(type(e))\n",
    "print(type(f))"
   ]
  },
  {
   "cell_type": "markdown",
   "id": "a90c34ac-7ecc-40e1-b04f-e81fd4606418",
   "metadata": {},
   "source": [
    "# >> Variables can also undergo type-casting as follows :\n",
    "    1. int -> float\n",
    "    2. float -> int\n",
    "    3. int -> str (whether reverse is allowed or not depends on value inside string be character or numeral)\n",
    "    4. bool -> str "
   ]
  },
  {
   "cell_type": "code",
   "execution_count": 21,
   "id": "4a8fc8b6-9c25-4ee1-8ca9-b37d95c8b4f5",
   "metadata": {},
   "outputs": [
    {
     "name": "stdout",
     "output_type": "stream",
     "text": [
      "12\n",
      "12.0\n",
      "234\n",
      "12\n",
      "Type of variable i is <class 'str'>\n",
      "False\n",
      "Type of variable j is <class 'bool'>\n",
      "False\n",
      "Type of variable K is <class 'str'>\n",
      "454656\n"
     ]
    }
   ],
   "source": [
    "f = 12\n",
    "g = float(f)\n",
    "h = int(234.5)\n",
    "i = str(12)\n",
    "j = False\n",
    "k = str(j)\n",
    "l = int('454656')\n",
    "\n",
    "print(f)\n",
    "print(g)\n",
    "print(h)\n",
    "print(i)\n",
    "print('Type of variable i is '+str(type(i)))\n",
    "print(j)\n",
    "print('Type of variable j is '+str(type(j)))\n",
    "print(k)\n",
    "print('Type of variable K is '+str(type(k)))\n",
    "print(l)"
   ]
  },
  {
   "cell_type": "markdown",
   "id": "62df30aa-d654-44e0-b4bc-2fb0fcb850c1",
   "metadata": {},
   "source": [
    "# >> In case the str/int/float variable is type-casted to boolean, presence of non-zero value(for int/float) and any non null value for str makes boolean equal to true or else false."
   ]
  },
  {
   "cell_type": "code",
   "execution_count": 20,
   "id": "40cef4ed-1724-43fb-b23c-23ae9f34beac",
   "metadata": {},
   "outputs": [
    {
     "name": "stdout",
     "output_type": "stream",
     "text": [
      "True\n",
      "True\n",
      "True\n",
      "False\n",
      "False\n",
      "False\n"
     ]
    }
   ],
   "source": [
    "a = 2\n",
    "b = \"my_str\"\n",
    "c = 3432.5332\n",
    "d = ''\n",
    "e = None\n",
    "f = 0\n",
    "\n",
    "print(bool(2))\n",
    "print(bool(b))\n",
    "print(bool(c))\n",
    "print(bool(d))\n",
    "print(bool(e))\n",
    "print(bool(f))"
   ]
  },
  {
   "cell_type": "markdown",
   "id": "78949499-863d-47af-9a85-02145eba94a0",
   "metadata": {},
   "source": [
    "# >> There are total six different types of operators in python. They are :\n",
    "    1. Arithmetic Operators >> [+, -, %, *, /, //, **]\n",
    "    2. Assignment Operators >> [=, +=, *=, -=, /=, //=, **=]\n",
    "    3. Relational(Comparison) Operators >> [==, <, >, <=, >=]\n",
    "    4. Identity Operators >> [is, is not]\n",
    "    5. Logical Operators >> [and, or, not]\n",
    "    6. Membership Operators >> [in, not in]"
   ]
  },
  {
   "cell_type": "code",
   "execution_count": 1,
   "id": "41b1dcad-3843-45b9-a180-25a8164a3742",
   "metadata": {},
   "outputs": [
    {
     "name": "stdout",
     "output_type": "stream",
     "text": [
      "28\n",
      "20\n",
      "96\n",
      "0\n",
      "4\n",
      "6.0\n",
      "6\n",
      "4\n",
      "1024\n"
     ]
    }
   ],
   "source": [
    "# Arithmetic Operators >> [+, -, %, *, /, //, **]\n",
    "\n",
    "a = 24\n",
    "b = 4\n",
    "c = 5\n",
    "\n",
    "print(a+b) # addition\n",
    "print(a-b) # Substraction\n",
    "print(a*b) # Multiplication\n",
    "print(a%b) # prints the remainder\n",
    "print(a%c) # prints the remainder\n",
    "print(a/b) # normal division\n",
    "print(a//b) # floor division i.e. gives nearest smallest integer\n",
    "print(a//c) # floor division i.e. gives nearest smallest integer\n",
    "print(b**c) # exponential"
   ]
  },
  {
   "cell_type": "code",
   "execution_count": 7,
   "id": "98761460-93f4-49ab-8621-6798321b1194",
   "metadata": {},
   "outputs": [
    {
     "name": "stdout",
     "output_type": "stream",
     "text": [
      "9\n",
      "-2\n"
     ]
    }
   ],
   "source": [
    "# Assignement Operators >> [=, +=, *=, -=, /=, //=, **=]\n",
    "\n",
    "a = 5\n",
    "a += 4 # a = a+4 is written shorthand as a+=4. Similar thing applies even for -, *,/,//,** operators\n",
    "print(a)\n",
    "\n",
    "\n",
    "b = 2\n",
    "b -= 4\n",
    "print(b)"
   ]
  },
  {
   "cell_type": "code",
   "execution_count": 14,
   "id": "886c8a25-1010-4beb-a1b3-51031ee16773",
   "metadata": {},
   "outputs": [
    {
     "name": "stdout",
     "output_type": "stream",
     "text": [
      "True\n",
      "False\n",
      "False\n",
      "True\n",
      "False\n",
      "True\n",
      "True\n",
      "True\n",
      "\n",
      "False\n",
      "True\n",
      "False\n"
     ]
    }
   ],
   "source": [
    "# Relational Operators >> [==, <, >, <=, >=]\n",
    "\n",
    "a = 2\n",
    "b = 2\n",
    "c = 3\n",
    "\n",
    "print(a==b)\n",
    "print(a==c)\n",
    "print(a==3)\n",
    "print(a==2)\n",
    "print(a>3)\n",
    "print(b<3)\n",
    "print(a>=2)\n",
    "print(b<=4)\n",
    "\n",
    "print('')\n",
    "print('abc' == 'aBc') # == operator can be used for string comparison\n",
    "print('abc' == 'abc')\n",
    "print('ABC' == 'abc')"
   ]
  },
  {
   "cell_type": "code",
   "execution_count": 17,
   "id": "05fb8ca4-d2f3-413f-bd00-74bcde189c10",
   "metadata": {},
   "outputs": [
    {
     "name": "stdout",
     "output_type": "stream",
     "text": [
      "False\n",
      "True\n"
     ]
    }
   ],
   "source": [
    "# Identity Operators >> [is, is not]\n",
    "\n",
    "a = 1\n",
    "b = a is None # can be used tp check whether a is null/non-null. In python, null is represented by None.\n",
    "c = a is not None\n",
    "\n",
    "print(b)\n",
    "print(c)"
   ]
  },
  {
   "cell_type": "code",
   "execution_count": 27,
   "id": "1d64e189-17bd-4132-ad78-2e53c5a459da",
   "metadata": {},
   "outputs": [
    {
     "name": "stdout",
     "output_type": "stream",
     "text": [
      "True\n",
      "\n",
      "True\n",
      "False\n",
      "\n",
      "True\n",
      "False\n",
      "False\n",
      "True\n"
     ]
    }
   ],
   "source": [
    "# Logical Operators >> [and, or, not]\n",
    "\n",
    "# and operator\n",
    "age = 19\n",
    "monthly_income = 80000\n",
    "good_earning_person = (age > 18) and (monthly_income > 50000)\n",
    "print(good_earning_person)\n",
    "print('')\n",
    "\n",
    "# or operator\n",
    "species = 'Lion'   \n",
    "cat_family_member_present_for_party = (species == 'Lion') or (species == 'Tiger') (species == 'Jaguar') or (species == 'Puma')\n",
    "is_cat_from_America = (species == 'Jaguar') or (species == 'Puma')\n",
    "print(cat_family_member_present_for_party)\n",
    "print(is_cat_from_America)\n",
    "print('')\n",
    "\n",
    "# not operator\n",
    "a = 12\n",
    "b = 2321\n",
    "c = 'dsds'\n",
    "\n",
    "variable_is_integer = type(a) == type(2)\n",
    "print(variable_is_integer)\n",
    "print(not(variable_is_integer))\n",
    "print(not(True))\n",
    "print(not(False))\n",
    "\n",
    "      "
   ]
  },
  {
   "cell_type": "code",
   "execution_count": 39,
   "id": "cd25f59c-35f6-4f49-855d-417e8626b447",
   "metadata": {},
   "outputs": [
    {
     "name": "stdout",
     "output_type": "stream",
     "text": [
      "BharatBenz is non-indian bus brand\n",
      "Ashley is an indian origin bus brand\n",
      "Kia is not a bus brand\n"
     ]
    }
   ],
   "source": [
    "# Membership Operators >> (in, not in)\n",
    "\n",
    "Indian_bus_brands = ['Ashley', 'Tata']\n",
    "\n",
    "Indo_International_collab_bus_brands = ['Volvo Eicher',]\n",
    "\n",
    "Non_Indian_bus_brands = ['Volvo', 'Scania', 'Mercedes', 'Cerita']\n",
    "\n",
    "if 'BharatBenz' in Indian_bus_brands:\n",
    "    print('BharatBenz is an indian origin bus brand')\n",
    "else:\n",
    "    print('BharatBenz is non-indian bus brand')\n",
    "\n",
    "if 'Ashley' in Indian_bus_brands:\n",
    "    print('Ashley is an indian origin bus brand')\n",
    "else:\n",
    "    print('Ashley is non-indian bus brand')\n",
    "\n",
    "if ('Kia' not in Indian_bus_brands) or ('Kia' not in Indo_International_collab_bus_brands) or ('Kia' not in Non_Indian_bus_brands):\n",
    "    print('Kia is not a bus brand')"
   ]
  },
  {
   "cell_type": "code",
   "execution_count": 40,
   "id": "2b978e69-2b02-45a1-907a-c5eafc3c8be6",
   "metadata": {},
   "outputs": [
    {
     "name": "stdout",
     "output_type": "stream",
     "text": [
      "c is a consonant and not a vowel\n"
     ]
    }
   ],
   "source": [
    "vowels = ['a', 'e', 'i', 'o', 'u']\n",
    "\n",
    "if c not in vowels:\n",
    "    print('c is a consonant and not a vowel')"
   ]
  },
  {
   "cell_type": "code",
   "execution_count": null,
   "id": "832e64f1-6884-4c85-9106-b384ca9ec87c",
   "metadata": {},
   "outputs": [],
   "source": []
  }
 ],
 "metadata": {
  "kernelspec": {
   "display_name": "Python 3 (ipykernel)",
   "language": "python",
   "name": "python3"
  },
  "language_info": {
   "codemirror_mode": {
    "name": "ipython",
    "version": 3
   },
   "file_extension": ".py",
   "mimetype": "text/x-python",
   "name": "python",
   "nbconvert_exporter": "python",
   "pygments_lexer": "ipython3",
   "version": "3.11.5"
  }
 },
 "nbformat": 4,
 "nbformat_minor": 5
}
