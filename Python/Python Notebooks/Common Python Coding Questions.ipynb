{
 "cells": [
  {
   "cell_type": "markdown",
   "id": "5bd16a79-f589-4c21-8062-065e12b19a02",
   "metadata": {},
   "source": [
    "# Write a program to reverse an integer in Python."
   ]
  },
  {
   "cell_type": "code",
   "execution_count": 4,
   "id": "a420b987-1c9e-410c-944b-3b018ea060e6",
   "metadata": {},
   "outputs": [
    {
     "name": "stdin",
     "output_type": "stream",
     "text": [
      "Please enter a number:  12345\n"
     ]
    },
    {
     "name": "stdout",
     "output_type": "stream",
     "text": [
      "Before reverse: 12345\n",
      "54321\n",
      "<class 'int'>\n"
     ]
    }
   ],
   "source": [
    "n = input(\"Please enter a number: \")\n",
    "print(\"Before reverse:\", n)\n",
    "\n",
    "n_rev = ''\n",
    "for i in range(1,len(n)+1):\n",
    "    n_rev = n_rev + n[-i]\n",
    "\n",
    "n_rev = int(n_rev)\n",
    "print(n_rev)\n",
    "print(type(n_rev))"
   ]
  },
  {
   "cell_type": "markdown",
   "id": "2d20e363-da6f-454e-9216-bc3a0239c8a4",
   "metadata": {},
   "source": [
    "# Write a program in Python to check whether an integer is Armstrong number or not."
   ]
  },
  {
   "cell_type": "raw",
   "id": "99bc1ca4-c567-4f18-9aac-8a372bf1934d",
   "metadata": {},
   "source": [
    "What is Armstrong Number?\n",
    "It is a number which is equal to the sum of cube of its digits.\n",
    "For eg: 153, 370 etc.\n",
    "Lets see it practically by calculating it,\n",
    "\n",
    "Suppose I am taking 153 for an example \n",
    "\n",
    "First calculate the cube of its each digits\n",
    "\n",
    "  1^3 = (1*1*1) = 1\n",
    "\n",
    "  5^3 = (5*5*5) = 125\n",
    "\n",
    "  3^3= (3*3*3) = 27\n",
    "\n",
    "Now add the cube \n",
    "\n",
    "  1+125+27 = 153\n",
    "\n",
    "It means 153 is an Armstrong number.\n"
   ]
  },
  {
   "cell_type": "code",
   "execution_count": 7,
   "id": "56efb43c-6d1f-49a4-b6c6-53da3fcc488c",
   "metadata": {},
   "outputs": [
    {
     "name": "stdin",
     "output_type": "stream",
     "text": [
      "Please enter a number:  153\n"
     ]
    },
    {
     "name": "stdout",
     "output_type": "stream",
     "text": [
      "153  is an Armstrong number\n"
     ]
    }
   ],
   "source": [
    "\n",
    "n = input(\"Please enter a number: \")\n",
    "\n",
    "n1 = int(n)\n",
    "\n",
    "sum = 0\n",
    "for i in range(len(n)):\n",
    "    sum = sum + (int(n[i]))**3\n",
    "\n",
    "if n1 == sum:\n",
    "    print(n, ' is an Armstrong number')\n",
    "else :\n",
    "    print(n, ' is not an Armstrong number')\n",
    "    "
   ]
  },
  {
   "cell_type": "markdown",
   "id": "2d270079-daa8-4058-ae86-28c9dc7d232e",
   "metadata": {},
   "source": [
    "# Write a program in Python to check given number is prime or not."
   ]
  },
  {
   "cell_type": "raw",
   "id": "d5842da4-0d23-40e8-ba26-b7a275492de2",
   "metadata": {},
   "source": [
    "What is prime number?\n",
    "In Mathematical term, A prime number is a number which can be divided by only 1 and number itself.\n",
    "\n",
    "For example : 2, 3, 5, 7, 13,…\n",
    "\n",
    "Here 2, 3 or any of the above number can only be divided by 1 or number itself."
   ]
  },
  {
   "cell_type": "code",
   "execution_count": 16,
   "id": "7ce0eaf1-5530-427b-996f-0dff7fbc51fc",
   "metadata": {},
   "outputs": [
    {
     "name": "stdin",
     "output_type": "stream",
     "text": [
      "Please enter a number:  93\n"
     ]
    },
    {
     "name": "stdout",
     "output_type": "stream",
     "text": [
      "93  is not a prime number\n"
     ]
    }
   ],
   "source": [
    "n = int(input(\"Please enter a number: \"))\n",
    "\n",
    "if n == 1:\n",
    "    print(n, ' is not a prime number')\n",
    "elif n == 2:\n",
    "    print(n, ' is a prime number')\n",
    "else:\n",
    "    factors = 0\n",
    "    for i in range(1,n+1):\n",
    "        if n%i == 0:\n",
    "            factors = factors + 1\n",
    "\n",
    "    if factors == 2:\n",
    "        print(n, ' is a prime number')\n",
    "    if factors > 2:\n",
    "        print(n, ' is not a prime number')\n",
    "        \n"
   ]
  },
  {
   "cell_type": "markdown",
   "id": "9a7744b0-ab62-4560-aed5-304a51fa73b0",
   "metadata": {},
   "source": [
    "# Write a program in Python to swap two numbers without using third variable"
   ]
  },
  {
   "cell_type": "code",
   "execution_count": 17,
   "id": "8c9855e2-6dd8-4743-859b-f4502bb6d11f",
   "metadata": {},
   "outputs": [
    {
     "name": "stdin",
     "output_type": "stream",
     "text": [
      "please give first number a:  4\n",
      "please give second number b:  5\n"
     ]
    },
    {
     "name": "stdout",
     "output_type": "stream",
     "text": [
      "-1\n",
      "4\n",
      "5\n",
      "After swapping\n",
      "value of a is :  5\n",
      "value of b is :  4\n"
     ]
    }
   ],
   "source": [
    "a = int(input(\"please give first number a: \"))\n",
    "b = int(input(\"please give second number b: \"))\n",
    "\n",
    "a=a-b\n",
    "print(a)\n",
    "b=a+b\n",
    "print(b)\n",
    "a=b-a\n",
    "print(a)\n",
    "\n",
    "print(\"After swapping\")\n",
    "print(\"value of a is : \", a);\n",
    "print(\"value of b is : \", b); "
   ]
  },
  {
   "cell_type": "markdown",
   "id": "aac29dab-71cd-48d9-9019-7b9314e4661b",
   "metadata": {},
   "source": [
    "# You have an unsorted array with n number of elements. Find 2 elements which has maximum sum."
   ]
  },
  {
   "cell_type": "code",
   "execution_count": 10,
   "id": "5fc69839-4092-4bf7-b875-7cc89444fa9d",
   "metadata": {},
   "outputs": [
    {
     "name": "stdout",
     "output_type": "stream",
     "text": [
      "{(23, 45): 68, (23, 56): 79, (23, 22): 45, (23, 55): 78, (23, 64): 87, (23, 63): 86, (45, 23): 68, (45, 56): 101, (45, 22): 67, (45, 55): 100, (45, 64): 109, (45, 63): 108, (56, 23): 79, (56, 45): 101, (56, 22): 78, (56, 55): 111, (56, 64): 120, (56, 63): 119, (22, 23): 45, (22, 45): 67, (22, 56): 78, (22, 55): 77, (22, 64): 86, (22, 63): 85, (55, 23): 78, (55, 45): 100, (55, 56): 111, (55, 22): 77, (55, 64): 119, (55, 63): 118, (64, 23): 87, (64, 45): 109, (64, 56): 120, (64, 22): 86, (64, 55): 119, (64, 63): 127, (63, 23): 86, (63, 45): 108, (63, 56): 119, (63, 22): 85, (63, 55): 118, (63, 64): 127}\n",
      "\n",
      "max_sum =  127\n"
     ]
    }
   ],
   "source": [
    "# Solution 1\n",
    "\n",
    "array1 = [23,45,56,22,55,64,63]\n",
    "\n",
    "dict = {}\n",
    "max_sum = 0\n",
    "\n",
    "for i in range(len(array1)):\n",
    "    for j in range(len(array1)):\n",
    "        if j != i:\n",
    "            dict[tuple((array1[i],array1[j]))] = array1[i] + array1[j]\n",
    "            \n",
    "            \n",
    "            \n",
    "print(dict) \n",
    "print()\n",
    "\n",
    "lst1 = list(dict.values())\n",
    "\n",
    "print('max_sum = ', max(lst1))"
   ]
  },
  {
   "cell_type": "code",
   "execution_count": 11,
   "id": "a7f1f9ac-8547-42ce-b90e-d5c8fde03d20",
   "metadata": {},
   "outputs": [
    {
     "name": "stdout",
     "output_type": "stream",
     "text": [
      "{68: [23, 45], 79: [23, 56], 87: [23, 64], 101: [45, 56], 109: [45, 64], 111: [56, 55], 120: [56, 64], 127: [64, 63]}\n",
      "\n",
      "127\n"
     ]
    }
   ],
   "source": [
    "# Solution 2\n",
    "\n",
    "array1 = [23,45,56,22,55,64,63]\n",
    "\n",
    "dict = {}\n",
    "max_sum = 0\n",
    "\n",
    "for i in range(len(array1)):\n",
    "    for j in range(i+1, len(array1)):  # start from i+1 to avoid pairing a number with itself\n",
    "        current_sum = array1[i] + array1[j]\n",
    "        if current_sum > max_sum:\n",
    "            max_sum = current_sum\n",
    "            dict[max_sum] = [array1[i], array1[j]]\n",
    "\n",
    "print(dict) \n",
    "print()\n",
    "\n",
    "lst1 = list(dict.keys())\n",
    "\n",
    "print(max(lst1))\n"
   ]
  },
  {
   "cell_type": "code",
   "execution_count": null,
   "id": "52c3cc15-ef2e-471f-84d1-c99cfe3b9bf2",
   "metadata": {},
   "outputs": [],
   "source": []
  }
 ],
 "metadata": {
  "kernelspec": {
   "display_name": "Python 3 (ipykernel)",
   "language": "python",
   "name": "python3"
  },
  "language_info": {
   "codemirror_mode": {
    "name": "ipython",
    "version": 3
   },
   "file_extension": ".py",
   "mimetype": "text/x-python",
   "name": "python",
   "nbconvert_exporter": "python",
   "pygments_lexer": "ipython3",
   "version": "3.11.5"
  }
 },
 "nbformat": 4,
 "nbformat_minor": 5
}
