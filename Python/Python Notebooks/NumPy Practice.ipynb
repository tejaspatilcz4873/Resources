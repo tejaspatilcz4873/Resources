{
 "cells": [
  {
   "cell_type": "markdown",
   "id": "58552738-592c-4603-8179-3e9fe0570caa",
   "metadata": {},
   "source": [
    "# Numpy\n",
    "1. NumPy is a Python library used for working with arrays.\r",
    "2. \r\n",
    "It also has functions for working in domain of linear algebra, fourier transfor and matrices.\n",
    "3. NumPy was created in 2005 by Travis Oliphant. It is an open source project and you can use it freely.\n",
    "4. NumPy stands for Numerical Python.\n",
    "5. In Python we have lists that serve the purpose of arrays, but they are slow to process. \r\n",
    "NumPy aims to provide an array object that is up to 50x faster than traditional Python list\n",
    "6. The array object in NumPy is called ndarray, it provides a lot of supporting functions that make working with ndarray very easy.\n",
    "7. Arrays are very frequently used in data science, where speed and resources are very important.\n",
    "8. NumPy arrays are stored at one continuous place in memory unlike lists, so processes can access and manipulate them very efficiently. \r\n",
    "This behavior is called locality of reference in computer scien.This is the main reason why NumPy is faster than lists. Also it is optimized to work with latest CPU architectures.\n",
    "9. NumPy is a Python library and is written partially in Python, but most of the parts that require fast computation are written in C or C++.res.s.ython."
   ]
  },
  {
   "cell_type": "code",
   "execution_count": 1,
   "id": "a1e2c9dc-8c0d-4678-ba12-b4e579847f15",
   "metadata": {},
   "outputs": [],
   "source": [
    "import numpy as np"
   ]
  },
  {
   "cell_type": "code",
   "execution_count": 2,
   "id": "142f8a0b-ff22-4f3c-9ff4-0246216a3a01",
   "metadata": {},
   "outputs": [
    {
     "name": "stdout",
     "output_type": "stream",
     "text": [
      "['ALLOW_THREADS', 'AxisError', 'BUFSIZE', 'CLIP', 'ComplexWarning', 'DataSource', 'ERR_CALL', 'ERR_DEFAULT', 'ERR_IGNORE', 'ERR_LOG', 'ERR_PRINT', 'ERR_RAISE', 'ERR_WARN', 'FLOATING_POINT_SUPPORT', 'FPE_DIVIDEBYZERO', 'FPE_INVALID', 'FPE_OVERFLOW', 'FPE_UNDERFLOW', 'False_', 'Inf', 'Infinity', 'MAXDIMS', 'MAY_SHARE_BOUNDS', 'MAY_SHARE_EXACT', 'ModuleDeprecationWarning', 'NAN', 'NINF', 'NZERO', 'NaN', 'PINF', 'PZERO', 'RAISE', 'RankWarning', 'SHIFT_DIVIDEBYZERO', 'SHIFT_INVALID', 'SHIFT_OVERFLOW', 'SHIFT_UNDERFLOW', 'ScalarType', 'Tester', 'TooHardError', 'True_', 'UFUNC_BUFSIZE_DEFAULT', 'UFUNC_PYVALS_NAME', 'VisibleDeprecationWarning', 'WRAP', '_CopyMode', '_NoValue', '_UFUNC_API', '__NUMPY_SETUP__', '__all__', '__builtins__', '__cached__', '__config__', '__deprecated_attrs__', '__dir__', '__doc__', '__expired_functions__', '__file__', '__former_attrs__', '__future_scalars__', '__getattr__', '__git_version__', '__loader__', '__mkl_version__', '__name__', '__package__', '__path__', '__spec__', '__version__', '_add_newdoc_ufunc', '_builtins', '_distributor_init', '_financial_names', '_get_promotion_state', '_globals', '_int_extended_msg', '_mat', '_no_nep50_warning', '_pyinstaller_hooks_dir', '_pytesttester', '_set_promotion_state', '_specific_msg', '_version', 'abs', 'absolute', 'add', 'add_docstring', 'add_newdoc', 'add_newdoc_ufunc', 'all', 'allclose', 'alltrue', 'amax', 'amin', 'angle', 'any', 'append', 'apply_along_axis', 'apply_over_axes', 'arange', 'arccos', 'arccosh', 'arcsin', 'arcsinh', 'arctan', 'arctan2', 'arctanh', 'argmax', 'argmin', 'argpartition', 'argsort', 'argwhere', 'around', 'array', 'array2string', 'array_equal', 'array_equiv', 'array_repr', 'array_split', 'array_str', 'asanyarray', 'asarray', 'asarray_chkfinite', 'ascontiguousarray', 'asfarray', 'asfortranarray', 'asmatrix', 'atleast_1d', 'atleast_2d', 'atleast_3d', 'average', 'bartlett', 'base_repr', 'binary_repr', 'bincount', 'bitwise_and', 'bitwise_not', 'bitwise_or', 'bitwise_xor', 'blackman', 'block', 'bmat', 'bool_', 'broadcast', 'broadcast_arrays', 'broadcast_shapes', 'broadcast_to', 'busday_count', 'busday_offset', 'busdaycalendar', 'byte', 'byte_bounds', 'bytes_', 'c_', 'can_cast', 'cast', 'cbrt', 'cdouble', 'ceil', 'cfloat', 'char', 'character', 'chararray', 'choose', 'clip', 'clongdouble', 'clongfloat', 'column_stack', 'common_type', 'compare_chararrays', 'compat', 'complex128', 'complex64', 'complex_', 'complexfloating', 'compress', 'concatenate', 'conj', 'conjugate', 'convolve', 'copy', 'copysign', 'copyto', 'corrcoef', 'correlate', 'cos', 'cosh', 'count_nonzero', 'cov', 'cross', 'csingle', 'ctypeslib', 'cumprod', 'cumproduct', 'cumsum', 'datetime64', 'datetime_as_string', 'datetime_data', 'deg2rad', 'degrees', 'delete', 'deprecate', 'deprecate_with_doc', 'diag', 'diag_indices', 'diag_indices_from', 'diagflat', 'diagonal', 'diff', 'digitize', 'disp', 'divide', 'divmod', 'dot', 'double', 'dsplit', 'dstack', 'dtype', 'e', 'ediff1d', 'einsum', 'einsum_path', 'emath', 'empty', 'empty_like', 'equal', 'errstate', 'euler_gamma', 'exp', 'exp2', 'expand_dims', 'expm1', 'extract', 'eye', 'fabs', 'fastCopyAndTranspose', 'fft', 'fill_diagonal', 'find_common_type', 'finfo', 'fix', 'flatiter', 'flatnonzero', 'flexible', 'flip', 'fliplr', 'flipud', 'float16', 'float32', 'float64', 'float_', 'float_power', 'floating', 'floor', 'floor_divide', 'fmax', 'fmin', 'fmod', 'format_float_positional', 'format_float_scientific', 'format_parser', 'frexp', 'from_dlpack', 'frombuffer', 'fromfile', 'fromfunction', 'fromiter', 'frompyfunc', 'fromregex', 'fromstring', 'full', 'full_like', 'gcd', 'generic', 'genfromtxt', 'geomspace', 'get_array_wrap', 'get_include', 'get_printoptions', 'getbufsize', 'geterr', 'geterrcall', 'geterrobj', 'gradient', 'greater', 'greater_equal', 'half', 'hamming', 'hanning', 'heaviside', 'histogram', 'histogram2d', 'histogram_bin_edges', 'histogramdd', 'hsplit', 'hstack', 'hypot', 'i0', 'identity', 'iinfo', 'imag', 'in1d', 'index_exp', 'indices', 'inexact', 'inf', 'info', 'infty', 'inner', 'insert', 'int16', 'int32', 'int64', 'int8', 'int_', 'intc', 'integer', 'interp', 'intersect1d', 'intp', 'invert', 'is_busday', 'isclose', 'iscomplex', 'iscomplexobj', 'isfinite', 'isfortran', 'isin', 'isinf', 'isnan', 'isnat', 'isneginf', 'isposinf', 'isreal', 'isrealobj', 'isscalar', 'issctype', 'issubclass_', 'issubdtype', 'issubsctype', 'iterable', 'ix_', 'kaiser', 'kron', 'lcm', 'ldexp', 'left_shift', 'less', 'less_equal', 'lexsort', 'lib', 'linalg', 'linspace', 'little_endian', 'load', 'loadtxt', 'log', 'log10', 'log1p', 'log2', 'logaddexp', 'logaddexp2', 'logical_and', 'logical_not', 'logical_or', 'logical_xor', 'logspace', 'longcomplex', 'longdouble', 'longfloat', 'longlong', 'lookfor', 'ma', 'mask_indices', 'mat', 'math', 'matmul', 'matrix', 'max', 'maximum', 'maximum_sctype', 'may_share_memory', 'mean', 'median', 'memmap', 'meshgrid', 'mgrid', 'min', 'min_scalar_type', 'minimum', 'mintypecode', 'mkl', 'mod', 'modf', 'moveaxis', 'msort', 'multiply', 'nan', 'nan_to_num', 'nanargmax', 'nanargmin', 'nancumprod', 'nancumsum', 'nanmax', 'nanmean', 'nanmedian', 'nanmin', 'nanpercentile', 'nanprod', 'nanquantile', 'nanstd', 'nansum', 'nanvar', 'nbytes', 'ndarray', 'ndenumerate', 'ndim', 'ndindex', 'nditer', 'negative', 'nested_iters', 'newaxis', 'nextafter', 'nonzero', 'not_equal', 'numarray', 'number', 'obj2sctype', 'object_', 'ogrid', 'oldnumeric', 'ones', 'ones_like', 'outer', 'packbits', 'pad', 'partition', 'percentile', 'pi', 'piecewise', 'place', 'poly', 'poly1d', 'polyadd', 'polyder', 'polydiv', 'polyfit', 'polyint', 'polymul', 'polynomial', 'polysub', 'polyval', 'positive', 'power', 'printoptions', 'prod', 'product', 'promote_types', 'ptp', 'put', 'put_along_axis', 'putmask', 'quantile', 'r_', 'rad2deg', 'radians', 'random', 'ravel', 'ravel_multi_index', 'real', 'real_if_close', 'rec', 'recarray', 'recfromcsv', 'recfromtxt', 'reciprocal', 'record', 'remainder', 'repeat', 'require', 'reshape', 'resize', 'result_type', 'right_shift', 'rint', 'roll', 'rollaxis', 'roots', 'rot90', 'round', 'round_', 'row_stack', 's_', 'safe_eval', 'save', 'savetxt', 'savez', 'savez_compressed', 'sctype2char', 'sctypeDict', 'sctypes', 'searchsorted', 'select', 'set_numeric_ops', 'set_printoptions', 'set_string_function', 'setbufsize', 'setdiff1d', 'seterr', 'seterrcall', 'seterrobj', 'setxor1d', 'shape', 'shares_memory', 'short', 'show_config', 'show_runtime', 'sign', 'signbit', 'signedinteger', 'sin', 'sinc', 'single', 'singlecomplex', 'sinh', 'size', 'sometrue', 'sort', 'sort_complex', 'source', 'spacing', 'split', 'sqrt', 'square', 'squeeze', 'stack', 'std', 'str_', 'string_', 'subtract', 'sum', 'swapaxes', 'take', 'take_along_axis', 'tan', 'tanh', 'tensordot', 'test', 'testing', 'tile', 'timedelta64', 'trace', 'tracemalloc_domain', 'transpose', 'trapz', 'tri', 'tril', 'tril_indices', 'tril_indices_from', 'trim_zeros', 'triu', 'triu_indices', 'triu_indices_from', 'true_divide', 'trunc', 'typecodes', 'typename', 'ubyte', 'ufunc', 'uint', 'uint16', 'uint32', 'uint64', 'uint8', 'uintc', 'uintp', 'ulonglong', 'unicode_', 'union1d', 'unique', 'unpackbits', 'unravel_index', 'unsignedinteger', 'unwrap', 'use_hugepage', 'ushort', 'vander', 'var', 'vdot', 'vectorize', 'version', 'void', 'vsplit', 'vstack', 'where', 'who', 'zeros', 'zeros_like']\n"
     ]
    }
   ],
   "source": [
    "print(dir(np))"
   ]
  },
  {
   "cell_type": "code",
   "execution_count": null,
   "id": "812efa62-2b65-4888-9351-79bad50a1ab0",
   "metadata": {},
   "outputs": [],
   "source": []
  },
  {
   "cell_type": "markdown",
   "id": "8338ed1f-77b5-467c-8b39-39a1ff661c61",
   "metadata": {},
   "source": [
    "# Creating an array using numpy\n",
    "# To create an ndarray, we can pass a list, tuple or any array-like object into the array() method, and it will be converted into an ndarray.\n"
   ]
  },
  {
   "cell_type": "code",
   "execution_count": 4,
   "id": "16635253-2b6f-4f79-a31d-1c1749aaf82b",
   "metadata": {},
   "outputs": [
    {
     "name": "stdout",
     "output_type": "stream",
     "text": [
      "[  1   2   4  56  64 232  43]\n",
      "<class 'numpy.ndarray'>\n"
     ]
    }
   ],
   "source": [
    "\n",
    "a = np.array([1,2,4,56,64,232,43]) #the argument can be a list/another array/tuple like sequence objects\n",
    "\n",
    "print(a)\n",
    "print(type(a))"
   ]
  },
  {
   "cell_type": "code",
   "execution_count": null,
   "id": "9b94f261-7ea4-43ec-b91f-585bbf31fac1",
   "metadata": {},
   "outputs": [],
   "source": []
  },
  {
   "cell_type": "markdown",
   "id": "b6440e23-7f3c-4700-98d7-7c24546e9d2e",
   "metadata": {},
   "source": [
    "# Dimensions in Arrays\n",
    "1. 0-D arrays, or Scalars, are the elements in an array. Each value in an array is a 0-D array.\n",
    "2. An array that has 0-D arrays as its elements is called uni-dimensional or 1-D array. These are the most common and basic array.  \n",
    "3. An array that has 1-D arrays as its elements is called a 2-D array. These are often used to represent matrix or 2nd order tensor.   \n",
    "4. An array that has 2-D arrays (matrices) as its elements is called 3-D array. These are often used to represent a 3rd order tensor.   \n",
    "5. NumPy Arrays provides the ndim attribute that returns an integer that tells us how many dimensions the array have.     \n",
    "6. An array can have any number of dimensions. When the array is created, you can define the number of dimensions by using the ndmin argument.\n",
    "7. The shape attribute of a NumPy array returns a tuple representing the dimensions of the array. Each number in the tuple indicates the size of the array along that dimension.For example, if you have a 2D array with 2 rows and 3 columns, the shape of the array will be (2,3). Here, 2 is the number of rows and 3 is the number of columns.You can get the shape of a NumPy array arr by using arr.shape."
   ]
  },
  {
   "cell_type": "code",
   "execution_count": 25,
   "id": "efab17e5-6e7a-479c-9eff-5c5dad3019f5",
   "metadata": {},
   "outputs": [
    {
     "name": "stdout",
     "output_type": "stream",
     "text": [
      "42\n",
      "0\n",
      "1\n",
      "()\n"
     ]
    }
   ],
   "source": [
    "# Create a 0-D array with value 42\n",
    "\n",
    "import numpy as np\n",
    "\n",
    "arr = np.array(42)\n",
    "\n",
    "print(arr)\n",
    "print(arr.ndim)\n",
    "print(arr.size)\n",
    "print(arr.shape)"
   ]
  },
  {
   "cell_type": "code",
   "execution_count": 29,
   "id": "bd0f2377-c0ca-4253-97ff-ca3864c85905",
   "metadata": {},
   "outputs": [
    {
     "name": "stdout",
     "output_type": "stream",
     "text": [
      "[1 2 3 4 5]\n",
      "1\n",
      "5\n",
      "(5,)\n"
     ]
    }
   ],
   "source": [
    "# Create a 1-D array containing the values 1,2,3,4,5:\n",
    "\n",
    "import numpy as np\n",
    "\n",
    "arr = np.array([1, 2, 3, 4, 5])\n",
    "\n",
    "print(arr)\n",
    "print(arr.ndim)\n",
    "print(arr.size)\n",
    "print(arr.shape) \n",
    "# The example above returns (5,), which means that the array has 1 dimensions, where the lone dimension has 5 elements.\n",
    "# For a one-dimensional array, shape is still represented as a tuple with one element rather than an integer value. Note that a tuple with a single element has a trailing comma."
   ]
  },
  {
   "cell_type": "code",
   "execution_count": 30,
   "id": "a6010a6a-daa4-4d2e-9bed-10273a1d93ed",
   "metadata": {},
   "outputs": [
    {
     "name": "stdout",
     "output_type": "stream",
     "text": [
      "[[1 2 3]\n",
      " [4 5 6]]\n",
      "2\n",
      "6\n",
      "(2, 3)\n"
     ]
    }
   ],
   "source": [
    "# Create a 2-D array containing two arrays with the values 1,2,3 and 4,5,6:\n",
    "\n",
    "import numpy as np\n",
    "\n",
    "arr = np.array([[1, 2, 3], [4, 5, 6]])\n",
    "\n",
    "print(arr)\n",
    "print(arr.ndim)\n",
    "print(arr.size)\n",
    "print(arr.shape)\n",
    "# The example above returns (2, 3), which means that the array has 2 dimensions, with each dimension having 3 elements."
   ]
  },
  {
   "cell_type": "code",
   "execution_count": 31,
   "id": "a263f632-bf7d-4a06-818e-225cac829385",
   "metadata": {},
   "outputs": [
    {
     "ename": "ValueError",
     "evalue": "setting an array element with a sequence. The requested array has an inhomogeneous shape after 1 dimensions. The detected shape was (2,) + inhomogeneous part.",
     "output_type": "error",
     "traceback": [
      "\u001b[1;31m---------------------------------------------------------------------------\u001b[0m",
      "\u001b[1;31mValueError\u001b[0m                                Traceback (most recent call last)",
      "Cell \u001b[1;32mIn[31], line 5\u001b[0m\n\u001b[0;32m      1\u001b[0m \u001b[38;5;66;03m# Create a 2-D array containing two arrays with the values 1,2,3 and 4,5,6,5,664,32:\u001b[39;00m\n\u001b[0;32m      3\u001b[0m \u001b[38;5;28;01mimport\u001b[39;00m \u001b[38;5;21;01mnumpy\u001b[39;00m \u001b[38;5;28;01mas\u001b[39;00m \u001b[38;5;21;01mnp\u001b[39;00m\n\u001b[1;32m----> 5\u001b[0m arr \u001b[38;5;241m=\u001b[39m np\u001b[38;5;241m.\u001b[39marray([[\u001b[38;5;241m1\u001b[39m, \u001b[38;5;241m2\u001b[39m, \u001b[38;5;241m3\u001b[39m], [\u001b[38;5;241m4\u001b[39m, \u001b[38;5;241m5\u001b[39m, \u001b[38;5;241m6\u001b[39m, \u001b[38;5;241m5\u001b[39m, \u001b[38;5;241m664\u001b[39m, \u001b[38;5;241m32\u001b[39m]])\n\u001b[0;32m      7\u001b[0m \u001b[38;5;28mprint\u001b[39m(arr)\n\u001b[0;32m      8\u001b[0m \u001b[38;5;28mprint\u001b[39m(arr\u001b[38;5;241m.\u001b[39mndim)\n",
      "\u001b[1;31mValueError\u001b[0m: setting an array element with a sequence. The requested array has an inhomogeneous shape after 1 dimensions. The detected shape was (2,) + inhomogeneous part."
     ]
    }
   ],
   "source": [
    "# Create a 2-D array containing two arrays with the values 1,2,3 and 4,5,6,5,664,32:\n",
    "\n",
    "import numpy as np\n",
    "\n",
    "arr = np.array([[1, 2, 3], [4, 5, 6, 5, 664, 32]])\n",
    "\n",
    "print(arr)\n",
    "print(arr.ndim)\n",
    "print(arr.size)\n",
    "print(arr.shape)\n",
    "# The example above returns (2, 3), which means that the array has 2 dimensions, with each dimension having 3 elements."
   ]
  },
  {
   "cell_type": "code",
   "execution_count": 37,
   "id": "c7790c7f-d68a-41d6-b7b6-8d68bdbb277c",
   "metadata": {},
   "outputs": [
    {
     "name": "stdout",
     "output_type": "stream",
     "text": [
      "[[[ 1  2  3  4]\n",
      "  [ 4  5  6  0]]\n",
      "\n",
      " [[ 1  2  3  2]\n",
      "  [ 4  5  6  7]]\n",
      "\n",
      " [[ 1  5  8  2]\n",
      "  [ 3  9  6 12]]]\n",
      "3\n",
      "24\n",
      "(3, 2, 4)\n"
     ]
    },
    {
     "data": {
      "text/plain": [
       "'\\nIn this case, arr.shape will return (3, 2, 4). Here, 3 is the number of 2D arrays, 2 is the number of rows in each 2D array, and 4 is the number of columns in each 2D array.\\nSo, the shape (3, 2, 4) means that there are 3 groups (or 2D arrays), each containing 2 rows and 4 columns.\\n'"
      ]
     },
     "execution_count": 37,
     "metadata": {},
     "output_type": "execute_result"
    }
   ],
   "source": [
    "# Create a 3-D array with two 2-D arrays, both containing two arrays with the values 1,2,3 and 4,5,6:\n",
    "\n",
    "import numpy as np\n",
    "\n",
    "arr = np.array([[[1, 2, 3, 4], [4, 5, 6, 0]], [[1, 2, 3, 2], [4, 5, 6, 7]], [[1, 5, 8, 2], [3, 9, 6, 12]]])\n",
    "\n",
    "print(arr)\n",
    "print(arr.ndim)\n",
    "print(arr.size)\n",
    "print(arr.shape)\n",
    "\n",
    "'''\n",
    "In this case, arr.shape will return (3, 2, 4). Here, 3 is the number of 2D arrays, 2 is the number of rows in each 2D array, and 4 is the number of columns in each 2D array.\n",
    "So, the shape (3, 2, 4) means that there are 3 groups (or 2D arrays), each containing 2 rows and 4 columns.\n",
    "'''"
   ]
  },
  {
   "cell_type": "code",
   "execution_count": 34,
   "id": "12f1abc0-835d-49f7-bff0-cc590e7f3e36",
   "metadata": {},
   "outputs": [
    {
     "name": "stdout",
     "output_type": "stream",
     "text": [
      "[[[[[1 2 3]\n",
      "    [4 5 6]]\n",
      "\n",
      "   [[1 2 3]\n",
      "    [4 5 6]]]]]\n",
      "5\n",
      "12\n",
      "(1, 1, 2, 2, 3)\n"
     ]
    },
    {
     "data": {
      "text/plain": [
       "'\\nIn this case, arr.shape will return (1, 1, 2, 2, 3). Here, 1, 1 are the two singleton dimensions added due to ndmin=5, 2 is the number of 2D arrays, 2 is the number of rows in each 2D array, and 3 is the number of columns in each 2D array.\\nSo, the shape (1, 1, 2, 2, 3) means that there are 2 groups (or 2D arrays), each containing 2 rows and 3 columns, and these are nested within two singleton dimensions.\\n'"
      ]
     },
     "execution_count": 34,
     "metadata": {},
     "output_type": "execute_result"
    }
   ],
   "source": [
    "# Create a 5-D array with two 2-D arrays, both containing two arrays with the values 1,2,3 and 4,5,6:\n",
    "\n",
    "import numpy as np\n",
    "\n",
    "arr = np.array([[[1, 2, 3], [4, 5, 6]], [[1, 2, 3], [4, 5, 6]]], ndmin = 5)\n",
    "\n",
    "print(arr)\n",
    "print(arr.ndim)\n",
    "print(arr.size)\n",
    "print(arr.shape)\n",
    "\n",
    "\n",
    "'''\n",
    "In this case, arr.shape will return (1, 1, 2, 2, 3). Here, 1, 1 are the two singleton dimensions added due to ndmin=5, 2 is the number of 2D arrays, 2 is the number of rows in each 2D array, and 3 is the number of columns in each 2D array.\n",
    "So, the shape (1, 1, 2, 2, 3) means that there are 2 groups (or 2D arrays), each containing 2 rows and 3 columns, and these are nested within two singleton dimensions.\n",
    "'''"
   ]
  },
  {
   "cell_type": "code",
   "execution_count": null,
   "id": "27bdc542-dd9c-48d8-b7b6-75f9441088ad",
   "metadata": {},
   "outputs": [],
   "source": []
  },
  {
   "cell_type": "markdown",
   "id": "6d79cacc-af25-42de-8ed5-e8e841f8ec54",
   "metadata": {},
   "source": [
    "# The numpy.ones() function returns a new array of given shape and type, with ones."
   ]
  },
  {
   "cell_type": "raw",
   "id": "2dee6689-4da5-478c-99bf-e40134e50195",
   "metadata": {},
   "source": [
    "\n",
    "Syntax: numpy.ones(shape, dtype = None, order = 'C') \n",
    "Parameters : \n",
    "\n",
    "shape : integer or sequence of integers\n",
    "order  : C_contiguous or F_contiguous\n",
    "         C-contiguous order in memory(last index varies the fastest)\n",
    "         C order means that operating row-rise on the array will be slightly quicker\n",
    "         FORTRAN-contiguous order in memory (first index varies the fastest).\n",
    "         F order means that column-wise operations will be faster. \n",
    "dtype : [optional, float(byDefault)] Data type of returned array.  "
   ]
  },
  {
   "cell_type": "code",
   "execution_count": 43,
   "id": "d03def6f-b2ea-4c4c-ae86-d16c64af9631",
   "metadata": {},
   "outputs": [
    {
     "data": {
      "text/plain": [
       "array([[1., 1., 1., 1., 1., 1.],\n",
       "       [1., 1., 1., 1., 1., 1.],\n",
       "       [1., 1., 1., 1., 1., 1.],\n",
       "       [1., 1., 1., 1., 1., 1.]])"
      ]
     },
     "execution_count": 43,
     "metadata": {},
     "output_type": "execute_result"
    }
   ],
   "source": [
    "import numpy as np\n",
    "\n",
    "array1 = np.ones((4,6))\n",
    "array1\n",
    "# Default datatype is float.\n",
    "\n",
    "\n"
   ]
  },
  {
   "cell_type": "code",
   "execution_count": 42,
   "id": "9750f6fb-1dba-4132-86c2-0202baa27533",
   "metadata": {},
   "outputs": [
    {
     "data": {
      "text/plain": [
       "array([[1, 1, 1, 1, 1, 1],\n",
       "       [1, 1, 1, 1, 1, 1],\n",
       "       [1, 1, 1, 1, 1, 1],\n",
       "       [1, 1, 1, 1, 1, 1]])"
      ]
     },
     "execution_count": 42,
     "metadata": {},
     "output_type": "execute_result"
    }
   ],
   "source": [
    "array2 = np.ones((4,6), int) # specifically gave int as argument for dtype\n",
    "array2\n",
    "# Datatype is integer now for the ones inside the array."
   ]
  },
  {
   "cell_type": "code",
   "execution_count": 53,
   "id": "3f46e1df-2989-4855-8431-5f7dbdf786e6",
   "metadata": {},
   "outputs": [
    {
     "data": {
      "text/plain": [
       "array([['1', '1', '1', '1', '1', '1'],\n",
       "       ['1', '1', '1', '1', '1', '1'],\n",
       "       ['1', '1', '1', '1', '1', '1'],\n",
       "       ['1', '1', '1', '1', '1', '1']], dtype='<U1')"
      ]
     },
     "execution_count": 53,
     "metadata": {},
     "output_type": "execute_result"
    }
   ],
   "source": [
    "import numpy as np\n",
    "\n",
    "array1 = np.ones((4,6), str)\n",
    "array1\n",
    "# Each '1' in the array is a string representation of one."
   ]
  },
  {
   "cell_type": "code",
   "execution_count": null,
   "id": "dc43a8be-5e36-417a-b7d2-612ab4fb2158",
   "metadata": {},
   "outputs": [],
   "source": []
  },
  {
   "cell_type": "markdown",
   "id": "0d0075ee-20b8-4aa1-a058-c856838f5924",
   "metadata": {},
   "source": [
    "# The numpy.zeroes() function returns a new array of given shape and type, with zeroes.¶"
   ]
  },
  {
   "cell_type": "raw",
   "id": "b6eabaca-077a-4a59-bc4f-138413637992",
   "metadata": {},
   "source": [
    "Syntax:\n",
    "\n",
    "numpy.zeros(shape, dtype = None, order = 'C')\n",
    "Parameters :\n",
    "\n",
    "shape : integer or sequence of integers\n",
    "order  : C_contiguous or F_contiguous\n",
    "         C-contiguous order in memory(last index varies the fastest)\n",
    "         C order means that operating row-rise on the array will be slightly quicker\n",
    "         FORTRAN-contiguous order in memory (first index varies the fastest).\n",
    "         F order means that column-wise operations will be faster. \n",
    "dtype : [optional, float(byDeafult)] Data type of returned array."
   ]
  },
  {
   "cell_type": "code",
   "execution_count": 46,
   "id": "e6654c23-3832-4787-befb-2b9e80ee1335",
   "metadata": {},
   "outputs": [
    {
     "data": {
      "text/plain": [
       "array([[0., 0., 0., 0., 0., 0.],\n",
       "       [0., 0., 0., 0., 0., 0.],\n",
       "       [0., 0., 0., 0., 0., 0.],\n",
       "       [0., 0., 0., 0., 0., 0.]])"
      ]
     },
     "execution_count": 46,
     "metadata": {},
     "output_type": "execute_result"
    }
   ],
   "source": [
    "import numpy as np\n",
    "\n",
    "array1 = np.zeros((4,6))\n",
    "array1\n",
    "# Default datatype is float."
   ]
  },
  {
   "cell_type": "code",
   "execution_count": 49,
   "id": "a7e9e6d4-1ff8-448e-8072-3de684295d8c",
   "metadata": {},
   "outputs": [
    {
     "data": {
      "text/plain": [
       "array([[0, 0, 0, 0, 0, 0],\n",
       "       [0, 0, 0, 0, 0, 0],\n",
       "       [0, 0, 0, 0, 0, 0],\n",
       "       [0, 0, 0, 0, 0, 0]])"
      ]
     },
     "execution_count": 49,
     "metadata": {},
     "output_type": "execute_result"
    }
   ],
   "source": [
    "import numpy as np\n",
    "\n",
    "array1 = np.zeros((4,6), int)\n",
    "array1\n",
    "# Datatype is integer now for the zeroes inside the array."
   ]
  },
  {
   "cell_type": "code",
   "execution_count": 51,
   "id": "b609c6d6-d8dd-4846-8562-f487b4adceea",
   "metadata": {},
   "outputs": [
    {
     "data": {
      "text/plain": [
       "array([['', '', '', '', '', ''],\n",
       "       ['', '', '', '', '', ''],\n",
       "       ['', '', '', '', '', ''],\n",
       "       ['', '', '', '', '', '']], dtype='<U1')"
      ]
     },
     "execution_count": 51,
     "metadata": {},
     "output_type": "execute_result"
    }
   ],
   "source": [
    "import numpy as np\n",
    "\n",
    "array1 = np.zeros((4,6), str)\n",
    "array1\n",
    "# Each '' in the array is a zero-length string, which is the string equivalent of zero.."
   ]
  },
  {
   "cell_type": "code",
   "execution_count": null,
   "id": "f1ee6040-74f4-4178-9d7d-fa90d5917438",
   "metadata": {},
   "outputs": [],
   "source": []
  },
  {
   "cell_type": "markdown",
   "id": "a791835c-89c1-4ed4-b418-00646957a5f5",
   "metadata": {},
   "source": [
    "# numpy.empty_like() in Python"
   ]
  },
  {
   "cell_type": "raw",
   "id": "ed5abb21-69c7-4ec0-b5d9-fa8a3ca3cf1a",
   "metadata": {},
   "source": [
    "numpy.empty_like(a, dtype = None, order = ‘K’, subok = True) : Returns a new array with the same shape and type as a given array. \n",
    "\n",
    "\n",
    "Parameters :\n",
    "shape : Number of rows\n",
    "order : C_contiguous or F_contiguous\n",
    "dtype : [optional, float(by Default)] Data type of returned array.  \n",
    "subok : [bool, optional] to make subclass of a or not"
   ]
  },
  {
   "cell_type": "code",
   "execution_count": 58,
   "id": "af08b7d5-c188-49e9-94dd-5da33ca48188",
   "metadata": {},
   "outputs": [
    {
     "data": {
      "text/plain": [
       "array([[[ 1,  2,  3,  4],\n",
       "        [ 4,  5,  6,  0]],\n",
       "\n",
       "       [[ 1,  2,  3,  2],\n",
       "        [ 4,  5,  6,  7]],\n",
       "\n",
       "       [[ 1,  5,  8,  2],\n",
       "        [ 3,  9,  6, 12]]])"
      ]
     },
     "execution_count": 58,
     "metadata": {},
     "output_type": "execute_result"
    }
   ],
   "source": [
    "import numpy as np\n",
    "\n",
    "arr = np.array([[[1, 2, 3, 4], [4, 5, 6, 0]], [[1, 2, 3, 2], [4, 5, 6, 7]], [[1, 5, 8, 2], [3, 9, 6, 12]]])\n",
    "\n",
    "\n",
    "arr2 = np.empty_like(arr, int)\n",
    "arr2\n",
    "# In this code, arr2 is a new array with the same shape and type as a, but filled with uninitialized data."
   ]
  },
  {
   "cell_type": "raw",
   "id": "23a4ab13-3850-4e83-acf8-2d13fda560a9",
   "metadata": {},
   "source": [
    "Please note that numpy.empty_like() does not initialize the returned array. If you want to initialize the array with zeros or ones, you should use numpy.zeros_like() or numpy.ones_like() instead."
   ]
  },
  {
   "cell_type": "code",
   "execution_count": 61,
   "id": "00f031cc-15d8-447a-958c-d771f108a2bf",
   "metadata": {},
   "outputs": [
    {
     "name": "stdout",
     "output_type": "stream",
     "text": [
      "[[[0 0 0 0]\n",
      "  [0 0 0 0]]\n",
      "\n",
      " [[0 0 0 0]\n",
      "  [0 0 0 0]]\n",
      "\n",
      " [[0 0 0 0]\n",
      "  [0 0 0 0]]]\n",
      "\n",
      "*************************************************\n",
      "\n",
      "[[[1 1 1 1]\n",
      "  [1 1 1 1]]\n",
      "\n",
      " [[1 1 1 1]\n",
      "  [1 1 1 1]]\n",
      "\n",
      " [[1 1 1 1]\n",
      "  [1 1 1 1]]]\n"
     ]
    }
   ],
   "source": [
    "import numpy as np\n",
    "\n",
    "arr = np.array([[[1, 2, 3, 4], [4, 5, 6, 0]], [[1, 2, 3, 2], [4, 5, 6, 7]], [[1, 5, 8, 2], [3, 9, 6, 12]]])\n",
    "\n",
    "\n",
    "arr2 = np.zeros_like(arr, int)\n",
    "print(arr2)\n",
    "\n",
    "print()\n",
    "print('*************************************************')\n",
    "print()\n",
    "\n",
    "arr3 = np.ones_like(arr, int)\n",
    "print(arr3)"
   ]
  },
  {
   "cell_type": "code",
   "execution_count": null,
   "id": "61a939fc-5baf-41b8-b302-4996ff3906b5",
   "metadata": {},
   "outputs": [],
   "source": []
  },
  {
   "cell_type": "markdown",
   "id": "8df94a86-9d0c-4203-9a79-58eb875a9646",
   "metadata": {},
   "source": [
    "# NumPy Array Indexing\n",
    "1. Array indexing is the same as accessing an array element.\n",
    "2. You can access an array element by referring to its index number.\n",
    "3. The indexes in NumPy arrays start with 0, meaning that the first element has index 0, and the second has index 1 etc.\n",
    "4. Similar to lists, concept of negative indexing is also applicable to numpy arrays."
   ]
  },
  {
   "cell_type": "code",
   "execution_count": 72,
   "id": "72b75cc5-c0ca-4799-ab9b-e40a9dc453ab",
   "metadata": {},
   "outputs": [
    {
     "name": "stdout",
     "output_type": "stream",
     "text": [
      "2\n",
      "2\n"
     ]
    }
   ],
   "source": [
    "# Access 1-D array\n",
    "\n",
    "import numpy as np\n",
    "\n",
    "arr = np.array([1, 2, 3, 4])\n",
    "\n",
    "print(arr[1])\n",
    "print(arr[-3]) # accessing same element using negative indexing"
   ]
  },
  {
   "cell_type": "markdown",
   "id": "c0e76068-da93-4b20-98fb-9e0ef2a47055",
   "metadata": {},
   "source": [
    "# Access 2-D Arrays :\n",
    "To access elements from 2-D arrays we can use comma separated integers representing the dimension and the index of the element.\n",
    "Think of 2-D arrays like a table with rows and columns, where the dimension represents the row and the index represents the column."
   ]
  },
  {
   "cell_type": "code",
   "execution_count": 77,
   "id": "fb3b42e0-db97-4570-9470-1fafd1bc2916",
   "metadata": {},
   "outputs": [
    {
     "name": "stdout",
     "output_type": "stream",
     "text": [
      "[[ 1  2  3  4  5]\n",
      " [ 6  7  8  9 10]]\n",
      "\n",
      "2nd element on 1st row:  2\n",
      "2nd element on 1st row:  2\n",
      "2nd element on 1st row:  2\n",
      "2nd element on 1st row:  2\n",
      "\n",
      "4th element on 2nd row:  9\n",
      "4th element on 2nd row:  9\n"
     ]
    }
   ],
   "source": [
    "# Access the element on the first row, second column:\n",
    "\n",
    "import numpy as np\n",
    "\n",
    "arr = np.array([[1,2,3,4,5], [6,7,8,9,10]])\n",
    "\n",
    "print(arr)\n",
    "print()\n",
    "\n",
    "print('2nd element on 1st row: ', arr[0, 1])\n",
    "print('2nd element on 1st row: ', arr[-2, -4]) # accessing same element using negative indexing\n",
    "print('2nd element on 1st row: ', arr[-2, 1]) # accessing same element using negative indexing\n",
    "print('2nd element on 1st row: ', arr[0, -4]) # accessing same element using negative indexing\n",
    "\n",
    "\n",
    "print()\n",
    "\n",
    "print('4th element on 2nd row: ', arr[1, 3])\n",
    "print('4th element on 2nd row: ', arr[-1, -2]) # accessing same element using negative indexing"
   ]
  },
  {
   "cell_type": "markdown",
   "id": "bf5a39d5-07e2-47af-ae73-9d33316d3af8",
   "metadata": {},
   "source": [
    "# Access 3-D Arrays :\r\n",
    "To access elements from 3-D arrays we can use comma separated integers representing the dimensions and the index of the element."
   ]
  },
  {
   "cell_type": "code",
   "execution_count": 79,
   "id": "88736a73-332d-4d84-b461-e3edfae4632b",
   "metadata": {},
   "outputs": [
    {
     "name": "stdout",
     "output_type": "stream",
     "text": [
      "[[[   1    2    3  383]\n",
      "  [   4    5    6 4383]]\n",
      "\n",
      " [[   7    8    9  843]\n",
      "  [  10   11   12  324]]]\n",
      "\n",
      "4383\n",
      "4383\n",
      "\n",
      "8\n",
      "8\n"
     ]
    }
   ],
   "source": [
    "# Access the fourth element of the second array of the first array:\n",
    "\n",
    "import numpy as np\n",
    "\n",
    "arr = np.array([[[1, 2, 3, 383], [4, 5, 6, 4383]], [[7, 8, 9,843], [10, 11, 12,324]]])\n",
    "\n",
    "print(arr)\n",
    "print()\n",
    "\n",
    "print(arr[0, 1, 3]) #  Access the fourth element of the second array of the first array\n",
    "print(arr[-2, -1, -1]) # accessing same element using negative indexing\n",
    "\n",
    "\n",
    "print()\n",
    "\n",
    "print(arr[1, 0, 1]) #  Access the second element of the first array of the second array\n",
    "print(arr[-1, -2, -3]) # accessing same element using negative indexing"
   ]
  },
  {
   "cell_type": "code",
   "execution_count": null,
   "id": "ba8fdd80-6914-4a08-8609-4158293a09d4",
   "metadata": {},
   "outputs": [],
   "source": []
  },
  {
   "cell_type": "markdown",
   "id": "284a5aa5-361a-4e65-9170-5a8a25081aed",
   "metadata": {},
   "source": [
    "# NumPy Array Slicing"
   ]
  },
  {
   "cell_type": "code",
   "execution_count": 86,
   "id": "01b2b8f1-6d2f-4707-a04d-13b1aae9a4eb",
   "metadata": {},
   "outputs": [
    {
     "name": "stdout",
     "output_type": "stream",
     "text": [
      "[2 3 4 5]\n",
      "[1 2 3 4]\n",
      "[4 5 6 7]\n",
      "[5 6]\n",
      "[1 4 7]\n",
      "[2 4]\n"
     ]
    }
   ],
   "source": [
    "# Slicing 1-D array\n",
    "import numpy as np\n",
    "\n",
    "arr = np.array([1, 2, 3, 4, 5, 6, 7])\n",
    "\n",
    "print(arr[1:5])\n",
    "print(arr[:4])\n",
    "print(arr[3:])\n",
    "print(arr[-3:-1])\n",
    "print(arr[: :3])\n",
    "print(arr[1:5:2])"
   ]
  },
  {
   "cell_type": "code",
   "execution_count": 89,
   "id": "a7f0cbc2-183f-49e9-98fe-17177920d52e",
   "metadata": {},
   "outputs": [
    {
     "name": "stdout",
     "output_type": "stream",
     "text": [
      "[7 8 9]\n",
      "[1 2 3 4]\n"
     ]
    }
   ],
   "source": [
    "# Slicing 2-D array\n",
    "\n",
    "import numpy as np\n",
    "\n",
    "arr = np.array([[1, 2, 3, 4, 5], [6, 7, 8, 9, 10]])\n",
    "\n",
    "print(arr[1, 1:4]) #From the second element, slice elements from index 1 to index 4 (not included)\n",
    "\n",
    "print(arr[0, :4]) #From the first element, slice elements from index 0 to index 4 (not included)"
   ]
  },
  {
   "cell_type": "code",
   "execution_count": 90,
   "id": "9b2c25fe-576f-4338-9b4d-3b05f019e4ed",
   "metadata": {},
   "outputs": [
    {
     "name": "stdout",
     "output_type": "stream",
     "text": [
      "[3 8]\n"
     ]
    }
   ],
   "source": [
    "# Return elements at same index from multiple array elements\n",
    "\n",
    "import numpy as np\n",
    "\n",
    "arr = np.array([[1, 2, 3, 4, 5], [6, 7, 8, 9, 10]])\n",
    "\n",
    "print(arr[0:2, 2])"
   ]
  },
  {
   "cell_type": "code",
   "execution_count": 94,
   "id": "8b56b0c7-ca18-4cfc-bba0-eb863fbfb822",
   "metadata": {},
   "outputs": [
    {
     "name": "stdout",
     "output_type": "stream",
     "text": [
      "[[ 2  3  4]\n",
      " [ 7  8  9]\n",
      " [12 13 14]]\n",
      "\n",
      "[[1 2 3]\n",
      " [6 7 8]]\n"
     ]
    }
   ],
   "source": [
    "#From all array elements, slice index 1 to index 4 (not included), this will return a 2-D array\n",
    "\n",
    "import numpy as np\n",
    "\n",
    "arr = np.array([[1, 2, 3, 4, 5], [6, 7, 8, 9, 10], [11, 12, 13, 14, 15]])\n",
    "\n",
    "print(arr[0:, 1:4]) # Slicing elements from index 1 to 4(not included) for the arrays with index from 0 till end.\n",
    "\n",
    "print()\n",
    "\n",
    "print(arr[0:2, 0:3]) # Slicing elements from index 0 to 3(not included) for the arrays with index from 0 to 2.\n",
    "\n",
    "# First slicing is for the outermost dimension arrays. Then next for arrays(one dimension inside) within those outermost dimension arrays and so on."
   ]
  },
  {
   "cell_type": "code",
   "execution_count": null,
   "id": "3c609600-fe32-4dad-9e69-9c4f8130ad33",
   "metadata": {},
   "outputs": [],
   "source": []
  },
  {
   "cell_type": "markdown",
   "id": "d7302111-4add-46e4-bc4e-44d6d1cc03a0",
   "metadata": {},
   "source": [
    "# Data Types in NumPy"
   ]
  },
  {
   "cell_type": "raw",
   "id": "71b9db4b-0a30-455d-9cef-e56776b2ec4a",
   "metadata": {},
   "source": [
    "NumPy has some extra data types, and refer to data types with one character, like i for integers, u for unsigned integers etc.\n",
    "\n",
    "\n",
    "Below is a list of all data types in NumPy and the characters used to represent them.\n",
    "\n",
    "i - integer,\n",
    "b - boolean,\n",
    "u - unsigned integer,\n",
    "f - float,\n",
    "c - complex float,\n",
    "m - timedelta,\n",
    "M - datetime,\n",
    "O - object,\n",
    "S - string,\n",
    "U - unicode string,\n",
    "V - fixed chunk of memory for other type ( void )\n",
    "\n",
    "\n",
    "The NumPy array object has a property called dtype that returns the data type of the array.\n",
    "\n",
    "We use the array() function to create arrays, this function can take an optional argument: dtype that allows us to define the expected data type of the array elements."
   ]
  },
  {
   "cell_type": "code",
   "execution_count": 99,
   "id": "79dcffc2-14a6-4955-a212-440744c96d7c",
   "metadata": {},
   "outputs": [
    {
     "name": "stdout",
     "output_type": "stream",
     "text": [
      "<U6\n",
      "|S1\n",
      "int32\n"
     ]
    }
   ],
   "source": [
    "import numpy as np\n",
    "\n",
    "arr = np.array(['apple', 'banana', 'cherry'])\n",
    "print(arr.dtype)\n",
    "\n",
    "\n",
    "arr1 = np.array([1, 2, 3, 4], dtype = 'S')\n",
    "print(arr1.dtype)\n",
    "\n",
    "\n",
    "arr1 = np.array([1, 2, 3, 4], dtype = 'i')\n",
    "print(arr1.dtype)"
   ]
  },
  {
   "cell_type": "markdown",
   "id": "56eba8b5-d3c8-4c7a-8e44-e32c3ceaed25",
   "metadata": {},
   "source": [
    "# Converting Data Type on Existing Arrays"
   ]
  },
  {
   "cell_type": "raw",
   "id": "302784f9-4dbc-46f4-babf-670c025a3e73",
   "metadata": {},
   "source": [
    "The best way to change the data type of an existing array, is to make a copy of the array with the astype() method.\n",
    "\n",
    "The astype() function creates a copy of the array, and allows you to specify the data type as a parameter.\n",
    "\n",
    "The data type can be specified using a string, like 'f' for float, 'i' for integer etc. or you can use the data type directly like float for float and int for integer."
   ]
  },
  {
   "cell_type": "code",
   "execution_count": 106,
   "id": "98be1167-b68f-401f-8738-f0609690fe1a",
   "metadata": {},
   "outputs": [
    {
     "name": "stdout",
     "output_type": "stream",
     "text": [
      "[1.1 2.1 3.1]\n",
      "float64\n",
      "\n",
      "[1 2 3]\n",
      "int32\n",
      "\n",
      "[1 2 3]\n",
      "int32\n"
     ]
    }
   ],
   "source": [
    "# Change data type from float to integer by using 'i' or 'int' as parameter value:\n",
    "\n",
    "import numpy as np\n",
    "\n",
    "arr = np.array([1.1, 2.1, 3.1])\n",
    "\n",
    "newarr1 = arr.astype('i')\n",
    "newarr2 = arr.astype('int')\n",
    "\n",
    "print(arr)\n",
    "print(arr.dtype)\n",
    "\n",
    "print()\n",
    "\n",
    "print(newarr1)\n",
    "print(newarr1.dtype)\n",
    "\n",
    "print()\n",
    "\n",
    "print(newarr2)\n",
    "print(newarr2.dtype)\n",
    "\n",
    "# Many other similar kind of conversions are also possible between compatible datatypes."
   ]
  },
  {
   "cell_type": "code",
   "execution_count": null,
   "id": "1f8a0422-db55-45dd-bf38-c657b1ceaf49",
   "metadata": {},
   "outputs": [],
   "source": []
  },
  {
   "cell_type": "markdown",
   "id": "bcfdc76d-52c4-44b7-add4-46facf85118d",
   "metadata": {},
   "source": [
    "# Reshaping the arrays\n",
    "\n",
    "Reshaping means changing the shape of an array.\n",
    "\n",
    "The shape of an array is the number of elements in each dimension.\n",
    "\n",
    "By reshaping we can add or remove dimensions or change number of elements in each dimension."
   ]
  },
  {
   "cell_type": "code",
   "execution_count": 107,
   "id": "1a2acbc6-0bec-4b79-a1cc-c0247cdad9ca",
   "metadata": {},
   "outputs": [
    {
     "name": "stdout",
     "output_type": "stream",
     "text": [
      "[[ 1  2  3]\n",
      " [ 4  5  6]\n",
      " [ 7  8  9]\n",
      " [10 11 12]]\n"
     ]
    }
   ],
   "source": [
    "# Reshape From 1-D to 2-D\n",
    "# Convert the following 1-D array with 12 elements into a 2-D array.\n",
    "\n",
    "import numpy as np\n",
    "\n",
    "arr = np.array([1, 2, 3, 4, 5, 6, 7, 8, 9, 10, 11, 12])\n",
    "\n",
    "newarr = arr.reshape(4, 3)\n",
    "\n",
    "print(newarr)\n",
    "# The outermost dimension will have 4 arrays, each with 3 elements."
   ]
  },
  {
   "cell_type": "code",
   "execution_count": 108,
   "id": "74884fcf-44d3-4168-9e93-3bd0b846c662",
   "metadata": {},
   "outputs": [
    {
     "name": "stdout",
     "output_type": "stream",
     "text": [
      "[[[ 1  2]\n",
      "  [ 3  4]\n",
      "  [ 5  6]]\n",
      "\n",
      " [[ 7  8]\n",
      "  [ 9 10]\n",
      "  [11 12]]]\n"
     ]
    }
   ],
   "source": [
    "# Reshape From 1-D to 3-D\n",
    "# Convert the following 1-D array with 12 elements into a 3-D array.\n",
    "\n",
    "import numpy as np\n",
    "\n",
    "arr = np.array([1, 2, 3, 4, 5, 6, 7, 8, 9, 10, 11, 12])\n",
    "\n",
    "newarr = arr.reshape(2, 3, 2)\n",
    "\n",
    "print(newarr)\n",
    "# The outermost dimension will have 2 arrays that contains 3 arrays, each with 2 elements."
   ]
  },
  {
   "cell_type": "code",
   "execution_count": 240,
   "id": "0366f33e-2010-48f2-a3da-4bfcf7b61b6b",
   "metadata": {},
   "outputs": [
    {
     "name": "stdout",
     "output_type": "stream",
     "text": [
      "[[ 1  2  3  4  5]\n",
      " [ 6  7  8  9 10]\n",
      " [11 12 13 14 15]]\n",
      "\n",
      "(3, 5)\n",
      "\n",
      "[[ 1  2  3]\n",
      " [ 4  5  6]\n",
      " [ 7  8  9]\n",
      " [10 11 12]\n",
      " [13 14 15]]\n"
     ]
    }
   ],
   "source": [
    "# Reshaping a 2-D array into another 2-D array\n",
    "\n",
    "import numpy as np\n",
    "\n",
    "arr = np.array([[1, 2, 3, 4, 5], [6, 7, 8, 9, 10], [11, 12, 13, 14, 15]])\n",
    "\n",
    "print(arr)\n",
    "print()\n",
    "print(arr.shape)\n",
    "print()\n",
    "\n",
    "\n",
    "newarr = arr.reshape((5,3)) # this can also be written as newarr = np.reshape(arr, (5,3))\n",
    "print(newarr)\n",
    "\n",
    "newarr = np.reshape"
   ]
  },
  {
   "cell_type": "markdown",
   "id": "5a105c10-149f-434d-9ca8-1536d00580c8",
   "metadata": {},
   "source": [
    "# Can We Reshape Into any Shape?\n",
    "Yes, as long as the elements required for reshaping are equal in both shapes.\n",
    "\n",
    "We can reshape an 8 elements 1D array into 4 elements in 2 rows 2D array but we cannot reshape it into a 3 elements 3 rows 2D array as that would require 3x3 = 9 elements."
   ]
  },
  {
   "cell_type": "markdown",
   "id": "a454e034-e33c-4d28-b75a-c42047d4bf22",
   "metadata": {},
   "source": [
    "# Unknown Dimension\n",
    "You are allowed to have one \"unknown\" dimension.\r\n",
    "\r\n",
    "Meaning that you do not have to specify an exact number for one of the dimensions in the reshape method.\r\n",
    "\r\n",
    "Pass -1 as the value, and NumPy will calculate this number for you."
   ]
  },
  {
   "cell_type": "code",
   "execution_count": 115,
   "id": "33d3c605-bac4-4973-a190-f2c9a6835374",
   "metadata": {},
   "outputs": [
    {
     "name": "stdout",
     "output_type": "stream",
     "text": [
      "[[ 1  2  3  4  5  6  7  8  9]\n",
      " [10 11 12 13 14 15 16 17 18]]\n",
      "\n",
      "[[[ 1  2  3]\n",
      "  [ 4  5  6]\n",
      "  [ 7  8  9]]\n",
      "\n",
      " [[10 11 12]\n",
      "  [13 14 15]\n",
      "  [16 17 18]]]\n"
     ]
    }
   ],
   "source": [
    "# Convert 1D array with 8 elements to 3D array with 2x2 elements:\n",
    "\n",
    "import numpy as np\n",
    "\n",
    "arr = np.array([1, 2, 3, 4, 5, 6, 7, 8, 9, 10, 11, 12, 13, 14, 15, 16, 17, 18])\n",
    "\n",
    "newarr = arr.reshape(2, -1)\n",
    "print(newarr)\n",
    "\n",
    "print()\n",
    "\n",
    "newarr1 = arr.reshape(2, 3, -1)\n",
    "print(newarr1)"
   ]
  },
  {
   "cell_type": "code",
   "execution_count": null,
   "id": "6d59373a-3345-4dc9-be28-8f80eef8769c",
   "metadata": {},
   "outputs": [],
   "source": []
  },
  {
   "cell_type": "markdown",
   "id": "b68cc1e0-20ef-4e3e-9c80-cedf4f933c45",
   "metadata": {},
   "source": [
    "# Flattening the arrays\n",
    "\n",
    "Flattening array means converting a multidimensional array into a 1D array.\r\n",
    "\r\n",
    "We can use reshape(-1) to do this."
   ]
  },
  {
   "cell_type": "code",
   "execution_count": 118,
   "id": "ea120800-c661-404b-86da-fc62beba535b",
   "metadata": {},
   "outputs": [
    {
     "name": "stdout",
     "output_type": "stream",
     "text": [
      "[[ 1  2  3  4  5  6  7  8  9]\n",
      " [10 11 12 13 14 15 16 17 18]]\n",
      "\n",
      "[[[ 1  2  3]\n",
      "  [ 4  5  6]\n",
      "  [ 7  8  9]]\n",
      "\n",
      " [[10 11 12]\n",
      "  [13 14 15]\n",
      "  [16 17 18]]]\n",
      "*****************************************************************************\n",
      "[ 1  2  3  4  5  6  7  8  9 10 11 12 13 14 15 16 17 18]\n",
      "\n",
      "[ 1  2  3  4  5  6  7  8  9 10 11 12 13 14 15 16 17 18]\n"
     ]
    }
   ],
   "source": [
    "import numpy as np\n",
    "\n",
    "arr = np.array([1, 2, 3, 4, 5, 6, 7, 8, 9, 10, 11, 12, 13, 14, 15, 16, 17, 18])\n",
    "\n",
    "newarr = arr.reshape(2, -1)\n",
    "print(newarr)\n",
    "\n",
    "print()\n",
    "\n",
    "newarr1 = arr.reshape(2, 3, -1)\n",
    "print(newarr1)\n",
    "\n",
    "print('*****************************************************************************')\n",
    "\n",
    "# Flattening the arrays to 1-D \n",
    "flat_arr1 = newarr.reshape(-1)\n",
    "print(flat_arr1)\n",
    "\n",
    "print()\n",
    "\n",
    "flat_arr2 = newarr1.reshape(-1)\n",
    "print(flat_arr2)"
   ]
  },
  {
   "cell_type": "code",
   "execution_count": null,
   "id": "03a5c882-2cad-4b1e-9cfe-90accda9ba9f",
   "metadata": {},
   "outputs": [],
   "source": []
  },
  {
   "cell_type": "markdown",
   "id": "74f6a047-44cc-45c4-91ad-657f881ac230",
   "metadata": {},
   "source": [
    "# NumPy Array Iterating\n",
    "\n",
    "Iterating means going through elements one by one.\r\n",
    "\r\n",
    "As we deal with multi-dimensional arrays in numpy, we can do this using basic for loop of python.\r\n",
    "\r\n",
    "If we iterate on a 1-D array it will go through each element one by one."
   ]
  },
  {
   "cell_type": "code",
   "execution_count": 119,
   "id": "fbc1862f-b924-4111-a1d9-25967eda1b9a",
   "metadata": {},
   "outputs": [
    {
     "name": "stdout",
     "output_type": "stream",
     "text": [
      "1\n",
      "2\n",
      "3\n"
     ]
    }
   ],
   "source": [
    "# Iterate on the elements of the following 1-D array\n",
    "\n",
    "import numpy as np\n",
    "\n",
    "arr = np.array([1, 2, 3])\n",
    "\n",
    "for x in arr:\n",
    "  print(x)"
   ]
  },
  {
   "cell_type": "code",
   "execution_count": 122,
   "id": "a41094b1-8823-458d-8a79-a8581db7048a",
   "metadata": {},
   "outputs": [
    {
     "name": "stdout",
     "output_type": "stream",
     "text": [
      "[1 2 3]\n",
      "[4 5 6]\n",
      "\n",
      "1\n",
      "2\n",
      "3\n",
      "4\n",
      "5\n",
      "6\n"
     ]
    }
   ],
   "source": [
    "# Iterate on the elements of the following 2-D array\n",
    "\n",
    "import numpy as np\n",
    "\n",
    "arr = np.array([[1, 2, 3], [4, 5, 6]])\n",
    "\n",
    "for x in arr:\n",
    "  print(x)\n",
    "\n",
    "print()\n",
    "\n",
    "# To return the actual values, the scalars, we have to iterate the arrays in each dimension as below :\n",
    "\n",
    "for x in arr:\n",
    "  for y in x:\n",
    "    print(y)"
   ]
  },
  {
   "cell_type": "code",
   "execution_count": 126,
   "id": "73b86fc1-7b10-455e-aa4e-dc3d864e5dcc",
   "metadata": {},
   "outputs": [
    {
     "name": "stdout",
     "output_type": "stream",
     "text": [
      "[[[ 1  2  3]\n",
      "  [ 4  5  6]]\n",
      "\n",
      " [[ 7  8  9]\n",
      "  [10 11 12]]] \n",
      "\n",
      "\n",
      "[[1 2 3]\n",
      " [4 5 6]]\n",
      "[[ 7  8  9]\n",
      " [10 11 12]]\n",
      "\n",
      "1\n",
      "2\n",
      "3\n",
      "4\n",
      "5\n",
      "6\n",
      "7\n",
      "8\n",
      "9\n",
      "10\n",
      "11\n",
      "12\n"
     ]
    }
   ],
   "source": [
    "# Iterate on the elements of the following 3-D array\n",
    "\n",
    "import numpy as np\n",
    "\n",
    "arr = np.array([[[1, 2, 3], [4, 5, 6]], [[7, 8, 9], [10, 11, 12]]])\n",
    "\n",
    "print(arr,'\\n')\n",
    "print()\n",
    "\n",
    "for x in arr:\n",
    "  print(x)\n",
    "\n",
    "print()\n",
    "\n",
    "# To return the actual values, the scalars, we have to iterate the arrays in each dimension as below :\n",
    "\n",
    "for x in arr:\n",
    "  for y in x:\n",
    "    for z in y:\n",
    "        print(z)"
   ]
  },
  {
   "cell_type": "code",
   "execution_count": null,
   "id": "fc0c277e-d897-4d72-a3cf-076ea4610758",
   "metadata": {},
   "outputs": [],
   "source": []
  },
  {
   "cell_type": "markdown",
   "id": "d01fad22-9fd6-4bd7-82ee-466d3bb5581d",
   "metadata": {},
   "source": [
    "# Iterating Arrays Using nditer()\n",
    "1. The function nditer() is a helping function that can be used from very basic to very advanced iterations. It solves some basic issues which we face in iteration\n",
    "2. In basic for loops, iterating through each scalar of an array we need to use n for loops which can be difficult to write for arrays with very high dimensionality. nditer() is very helpful in such cases."
   ]
  },
  {
   "cell_type": "code",
   "execution_count": 127,
   "id": "5165fbdf-5002-43e0-ba45-244b08ad2146",
   "metadata": {},
   "outputs": [
    {
     "name": "stdout",
     "output_type": "stream",
     "text": [
      "1\n",
      "2\n",
      "3\n",
      "4\n",
      "5\n",
      "6\n",
      "7\n",
      "8\n"
     ]
    }
   ],
   "source": [
    "# Iterate through the following 3-D array\n",
    "\n",
    "import numpy as np\n",
    "\n",
    "arr = np.array([[[1, 2], [3, 4]], [[5, 6], [7, 8]]])\n",
    "\n",
    "for x in np.nditer(arr):\n",
    "  print(x)"
   ]
  },
  {
   "cell_type": "code",
   "execution_count": 128,
   "id": "d9e8316f-6246-4ac1-86d7-09e053e911bc",
   "metadata": {},
   "outputs": [
    {
     "name": "stdout",
     "output_type": "stream",
     "text": [
      "1\n",
      "3\n",
      "5\n",
      "7\n"
     ]
    }
   ],
   "source": [
    "# Iterate through every scalar element of the 2D array skipping 1 element\n",
    "\n",
    "import numpy as np\n",
    "\n",
    "arr = np.array([[1, 2, 3, 4], [5, 6, 7, 8]])\n",
    "\n",
    "for x in np.nditer(arr[:, ::2]):\n",
    "  print(x)"
   ]
  },
  {
   "cell_type": "markdown",
   "id": "616e8fd5-059c-4241-9020-c26e4334501a",
   "metadata": {},
   "source": [
    "# Enumerated Iteration Using ndenumerate()\n",
    "\n",
    "Enumeration means mentioning sequence number of somethings one by one.\r\n",
    "\r\n",
    "Sometimes we require corresponding index of the element while iterating, the ndenumerate() method can be used for those usecases."
   ]
  },
  {
   "cell_type": "code",
   "execution_count": 129,
   "id": "27d823c3-ed18-47cd-bdda-5f4c9e93e6c7",
   "metadata": {},
   "outputs": [
    {
     "name": "stdout",
     "output_type": "stream",
     "text": [
      "(0, 0) 1\n",
      "(0, 1) 2\n",
      "(0, 2) 3\n",
      "(0, 3) 4\n",
      "(1, 0) 5\n",
      "(1, 1) 6\n",
      "(1, 2) 7\n",
      "(1, 3) 8\n"
     ]
    }
   ],
   "source": [
    "# Enumerate on following 2D array's elements\n",
    "\n",
    "import numpy as np\n",
    "\n",
    "arr = np.array([[1, 2, 3, 4], [5, 6, 7, 8]])\n",
    "\n",
    "for index, x in np.ndenumerate(arr):\n",
    "  print(index, x)"
   ]
  },
  {
   "cell_type": "code",
   "execution_count": null,
   "id": "86fab262-7f50-47ef-9ea4-a499a28b9c6c",
   "metadata": {},
   "outputs": [],
   "source": []
  },
  {
   "cell_type": "markdown",
   "id": "ee4e0af0-5a08-4f61-a45a-eebdaef5779c",
   "metadata": {},
   "source": [
    "# Joining NumPy Arrays\n",
    "In SQL we join tables based on a key, whereas in NumPy we join arrays by axes.\r\n",
    "\r\n",
    "We pass a sequence of arrays that we want to join to the concatenate() function, along with the axis. If axis is not explicitly passed, it is taken as 0."
   ]
  },
  {
   "cell_type": "code",
   "execution_count": 130,
   "id": "276319c0-90c9-46bc-b142-c26ecd8c7fbc",
   "metadata": {},
   "outputs": [
    {
     "name": "stdout",
     "output_type": "stream",
     "text": [
      "[1 2 3 4 5 6]\n"
     ]
    }
   ],
   "source": [
    "# Joining two 1-D arrays\n",
    "\n",
    "import numpy as np\n",
    "\n",
    "arr1 = np.array([1, 2, 3])\n",
    "\n",
    "arr2 = np.array([4, 5, 6])\n",
    "\n",
    "arr = np.concatenate((arr1, arr2))\n",
    "\n",
    "print(arr)"
   ]
  },
  {
   "cell_type": "code",
   "execution_count": 136,
   "id": "7cf1e4d3-2766-41ed-91a3-fb45c8e6aa80",
   "metadata": {},
   "outputs": [
    {
     "name": "stdout",
     "output_type": "stream",
     "text": [
      "[[1 2 5 6]\n",
      " [3 4 7 8]]\n",
      "\n",
      " (2, 4)\n"
     ]
    }
   ],
   "source": [
    "# Join two 2-D arrays along rows \n",
    "import numpy as np\n",
    "\n",
    "arr1 = np.array([[1, 2], [3, 4]])\n",
    "\n",
    "arr2 = np.array([[5, 6], [7, 8]])\n",
    "\n",
    "arr = np.concatenate((arr1, arr2), axis=1) # axis = 1 would mean number of rows would remain constant and new elements would be added within the same row elements\n",
    "\n",
    "print(arr)\n",
    "print('\\n', arr.shape)"
   ]
  },
  {
   "cell_type": "code",
   "execution_count": 135,
   "id": "fc545d26-3294-4193-8a35-308e8b0793d0",
   "metadata": {},
   "outputs": [
    {
     "name": "stdout",
     "output_type": "stream",
     "text": [
      "[[1 2]\n",
      " [3 4]\n",
      " [5 6]\n",
      " [7 8]]\n",
      "\n",
      " (4, 2)\n"
     ]
    }
   ],
   "source": [
    "# Join two 2-D arrays along columns \n",
    "import numpy as np\n",
    "\n",
    "arr1 = np.array([[1, 2], [3, 4]])\n",
    "\n",
    "arr2 = np.array([[5, 6], [7, 8]])\n",
    "\n",
    "arr = np.concatenate((arr1, arr2), axis=0) # axis = 1 would mean number of columns would remain constant and new elements would be added within the same column elements\n",
    "\n",
    "print(arr)\n",
    "print('\\n', arr.shape)"
   ]
  },
  {
   "cell_type": "code",
   "execution_count": null,
   "id": "c2a4fa46-1c49-4490-862f-6ccb59b2eec3",
   "metadata": {},
   "outputs": [],
   "source": []
  },
  {
   "cell_type": "markdown",
   "id": "f1c95f2a-621f-4bfc-aece-20d82b41ed94",
   "metadata": {},
   "source": [
    "# Joining Arrays Using Stack Functions\n",
    "\n",
    "Stacking is same as concatenation, the only difference is that stacking is done along a new axis.\n",
    "\n",
    "We can concatenate two 1-D arrays along the second axis which would result in putting them one over the other, ie. stacking.\n",
    "\n",
    "We pass a sequence of arrays that we want to join to the stack() method along with the axis. If axis is not explicitly passed it is taken as 0"
   ]
  },
  {
   "cell_type": "code",
   "execution_count": 145,
   "id": "9c51d53f-f2fd-4fa5-81d5-fe77f4e18a41",
   "metadata": {},
   "outputs": [
    {
     "name": "stdout",
     "output_type": "stream",
     "text": [
      "[[1 4]\n",
      " [2 5]\n",
      " [3 6]]\n",
      "\n",
      "[[1 4 7]\n",
      " [2 5 8]\n",
      " [3 6 9]]\n",
      "\n",
      "[[1 2 3]\n",
      " [4 5 6]\n",
      " [7 8 9]]\n"
     ]
    }
   ],
   "source": [
    "import numpy as np\n",
    "\n",
    "arr1 = np.array([1, 2, 3])\n",
    "\n",
    "arr2 = np.array([4, 5, 6])\n",
    "\n",
    "arr3 = np.array([7, 8, 9])\n",
    "\n",
    "\n",
    "\n",
    "arr_stacked_1 = np.stack((arr1, arr2), axis=1) # stacking along columns\n",
    "\n",
    "arr_stacked_2 = np.stack((arr1, arr2, arr3), axis=1) # stacking along columns\n",
    "\n",
    "print(arr_stacked_1)\n",
    "print()\n",
    "print(arr_stacked_2)\n",
    "\n",
    "\n",
    "\n",
    "print()\n",
    "print(np.stack((arr1, arr2, arr3), axis = 0)) # stacking along rows"
   ]
  },
  {
   "cell_type": "markdown",
   "id": "b0397564-861f-4ae2-866f-25bd914660df",
   "metadata": {},
   "source": [
    "# Stacking Along Rows :\n",
    "NumPy provides a helper function: hstack() to stack along rows."
   ]
  },
  {
   "cell_type": "code",
   "execution_count": 142,
   "id": "b1d2ee6d-120f-4bf0-a42f-791266c60789",
   "metadata": {},
   "outputs": [
    {
     "name": "stdout",
     "output_type": "stream",
     "text": [
      "[1 2 3 4 5 6]\n",
      "\n",
      "[1 2 3 4 5 6 7 8 9]\n"
     ]
    }
   ],
   "source": [
    "import numpy as np\n",
    "\n",
    "arr1 = np.array([1, 2, 3])\n",
    "\n",
    "arr2 = np.array([4, 5, 6])\n",
    "\n",
    "arr3 = np.array([7, 8, 9])\n",
    "\n",
    "arr = np.hstack((arr1, arr2))\n",
    "\n",
    "print(arr)\n",
    "print()\n",
    "print(np.hstack((arr1, arr2, arr3)))"
   ]
  },
  {
   "cell_type": "markdown",
   "id": "19eb0cf9-a73e-43ac-adb1-e9dc7291aafa",
   "metadata": {},
   "source": [
    "# Stacking Along Columns\r\n",
    "NumPy provides a helper function: vstack()  to stack along columns."
   ]
  },
  {
   "cell_type": "code",
   "execution_count": 144,
   "id": "c83a009c-10ec-4345-96e1-54da54a54e7c",
   "metadata": {},
   "outputs": [
    {
     "name": "stdout",
     "output_type": "stream",
     "text": [
      "[[1 2 3]\n",
      " [4 5 6]]\n",
      "\n",
      "[[1 2 3]\n",
      " [4 5 6]\n",
      " [7 8 9]]\n"
     ]
    }
   ],
   "source": [
    "import numpy as np\n",
    "\n",
    "arr1 = np.array([1, 2, 3])\n",
    "\n",
    "arr2 = np.array([4, 5, 6])\n",
    "\n",
    "arr3 = np.array([7, 8, 9])\n",
    "\n",
    "arr = np.vstack((arr1, arr2))\n",
    "\n",
    "print(arr)\n",
    "print()\n",
    "print(np.vstack((arr1, arr2, arr3)))"
   ]
  },
  {
   "cell_type": "markdown",
   "id": "d7f91b71-b7fb-4486-8cc3-b9d640b38910",
   "metadata": {},
   "source": [
    "# Stacking Along Height (depth)\r\n",
    "NumPy provides a helper function: dstack() to stack along height, which is the same as depth.\r\n",
    "\r\n"
   ]
  },
  {
   "cell_type": "code",
   "execution_count": 146,
   "id": "fdf4ca4f-66d6-477b-8c0b-b6ef6fa35aa9",
   "metadata": {},
   "outputs": [
    {
     "name": "stdout",
     "output_type": "stream",
     "text": [
      "[[[1 4]\n",
      "  [2 5]\n",
      "  [3 6]]]\n",
      "\n",
      "[[[1 4 7]\n",
      "  [2 5 8]\n",
      "  [3 6 9]]]\n"
     ]
    }
   ],
   "source": [
    "import numpy as np\n",
    "\n",
    "arr1 = np.array([1, 2, 3])\n",
    "\n",
    "arr2 = np.array([4, 5, 6])\n",
    "\n",
    "arr3 = np.array([7, 8, 9])\n",
    "\n",
    "arr = np.dstack((arr1, arr2))\n",
    "\n",
    "print(arr)\n",
    "print()\n",
    "print(np.dstack((arr1, arr2, arr3)))"
   ]
  },
  {
   "cell_type": "code",
   "execution_count": null,
   "id": "95f94bff-edc4-4ccf-ad2f-381cf9709919",
   "metadata": {},
   "outputs": [],
   "source": []
  },
  {
   "cell_type": "markdown",
   "id": "a89be197-9550-4732-aa97-09d288d82f61",
   "metadata": {},
   "source": [
    "# Splitting NumPy Arrays\n",
    "\n",
    "1. We use array_split() for splitting arrays, we pass it the array we want to split and the number of splits.\n",
    "2. The return value of the array_split() method is an array containing each of the split as an array.\n",
    "3. If you split an array into multiple arrays, you can access them from the result just like any array element"
   ]
  },
  {
   "cell_type": "code",
   "execution_count": 152,
   "id": "a63038d4-03b4-4e5f-a116-725644a6ac08",
   "metadata": {},
   "outputs": [
    {
     "name": "stdout",
     "output_type": "stream",
     "text": [
      "[array([1, 2]), array([3, 4]), array([5, 6])]\n",
      "\n",
      "[3 4]\n",
      "\n",
      "[array([1, 2]), array([3, 4]), array([5]), array([6])]\n",
      "\n",
      "[1 2]\n"
     ]
    }
   ],
   "source": [
    "# Split the array in 3 parts\n",
    "\n",
    "arr = np.array([1, 2, 3, 4, 5, 6])\n",
    "\n",
    "newarr = np.array_split(arr, 3)\n",
    "\n",
    "print(newarr)\n",
    "print()\n",
    "print(newarr[1])\n",
    "\n",
    "print()\n",
    "\n",
    "\n",
    "# If the array has less elements than required, it will adjust from the end accordingly.\n",
    "newarr1 = np.array_split(arr, 4)\n",
    "\n",
    "print(newarr1)\n",
    "print()\n",
    "print(newarr1[0])"
   ]
  },
  {
   "cell_type": "code",
   "execution_count": 157,
   "id": "e4d94f71-323e-406e-8043-bd4111f12eac",
   "metadata": {},
   "outputs": [
    {
     "name": "stdout",
     "output_type": "stream",
     "text": [
      "[[ 1  2  3]\n",
      " [ 4  5  6]\n",
      " [ 7  8  9]\n",
      " [10 11 12]\n",
      " [13 14 15]\n",
      " [16 17 18]]\n",
      "\n",
      "[array([[1, 2, 3],\n",
      "       [4, 5, 6]]), array([[ 7,  8,  9],\n",
      "       [10, 11, 12]]), array([[13, 14, 15],\n",
      "       [16, 17, 18]])]\n",
      "\n",
      "[[13 14 15]\n",
      " [16 17 18]]\n",
      "\n",
      "[array([[1, 2, 3],\n",
      "       [4, 5, 6]]), array([[7, 8, 9]]), array([[10, 11, 12]]), array([[13, 14, 15]]), array([[16, 17, 18]])]\n"
     ]
    }
   ],
   "source": [
    "# Split the 2-D array into three 2-D arrays.\n",
    "\n",
    "import numpy as np\n",
    "\n",
    "arr = np.array([[1, 2, 3], [4, 5, 6], [7, 8, 9], [10, 11, 12], [13, 14, 15], [16, 17, 18]])\n",
    "\n",
    "newarr = np.array_split(arr, 3)\n",
    "\n",
    "print(arr)\n",
    "print()\n",
    "\n",
    "print(newarr)\n",
    "print()\n",
    "print(newarr[2])\n",
    "print()\n",
    "\n",
    "\n",
    "\n",
    "# If the array has less elements than required, it will adjust from the end accordingly.\n",
    "newarr1 = np.array_split(arr, 5)\n",
    "print(newarr1)"
   ]
  },
  {
   "cell_type": "code",
   "execution_count": 160,
   "id": "bf3e2a7c-7a95-40c8-a1de-d9610a54edad",
   "metadata": {},
   "outputs": [
    {
     "name": "stdout",
     "output_type": "stream",
     "text": [
      "[array([[ 1],\n",
      "       [ 4],\n",
      "       [ 7],\n",
      "       [10],\n",
      "       [13],\n",
      "       [16]]), array([[ 2],\n",
      "       [ 5],\n",
      "       [ 8],\n",
      "       [11],\n",
      "       [14],\n",
      "       [17]]), array([[ 3],\n",
      "       [ 6],\n",
      "       [ 9],\n",
      "       [12],\n",
      "       [15],\n",
      "       [18]])]\n",
      "\n",
      "[array([[ 1,  2],\n",
      "       [ 4,  5],\n",
      "       [ 7,  8],\n",
      "       [10, 11],\n",
      "       [13, 14],\n",
      "       [16, 17]]), array([[ 3],\n",
      "       [ 6],\n",
      "       [ 9],\n",
      "       [12],\n",
      "       [15],\n",
      "       [18]]), array([[100],\n",
      "       [ 99],\n",
      "       [ 98],\n",
      "       [ 97],\n",
      "       [ 97],\n",
      "       [ 96]])]\n"
     ]
    }
   ],
   "source": [
    "# In addition, you can specify which axis you want to do the split around.\n",
    "# The example below also returns three 2-D arrays, but they are split along the row (axis=1).\n",
    "\n",
    "import numpy as np\n",
    "\n",
    "arr = np.array([[1, 2, 3], [4, 5, 6], [7, 8, 9], [10, 11, 12], [13, 14, 15], [16, 17, 18]])\n",
    "\n",
    "arr1 = np.array([[1, 2, 3, 100], [4, 5, 6, 99], [7, 8, 9, 98], [10, 11, 12, 97], [13, 14, 15, 97], [16, 17, 18, 96]])\n",
    "\n",
    "\n",
    "newarr = np.array_split(arr, 3, axis=1)\n",
    "newarr1 = np.array_split(arr1, 3, axis=1)\n",
    "\n",
    "print(newarr)\n",
    "print()\n",
    "print(newarr1)"
   ]
  },
  {
   "cell_type": "markdown",
   "id": "f6957376-a25c-42a9-91c9-89c373b783f8",
   "metadata": {},
   "source": [
    "# Similar alternates to hstack(), vstack() and dstack() are available as hsplit(), vsplit() and dsplit()."
   ]
  },
  {
   "cell_type": "code",
   "execution_count": 165,
   "id": "167adf05-99d2-448c-bf45-ef72f61697a4",
   "metadata": {},
   "outputs": [
    {
     "name": "stdout",
     "output_type": "stream",
     "text": [
      "[array([[ 1],\n",
      "       [ 4],\n",
      "       [ 7],\n",
      "       [10],\n",
      "       [13],\n",
      "       [16]]), array([[ 2],\n",
      "       [ 5],\n",
      "       [ 8],\n",
      "       [11],\n",
      "       [14],\n",
      "       [17]]), array([[ 3],\n",
      "       [ 6],\n",
      "       [ 9],\n",
      "       [12],\n",
      "       [15],\n",
      "       [18]])]\n",
      "\n",
      "[array([[1, 2, 3],\n",
      "       [4, 5, 6]]), array([[ 7,  8,  9],\n",
      "       [10, 11, 12]]), array([[13, 14, 15],\n",
      "       [16, 17, 18]])]\n",
      "\n"
     ]
    },
    {
     "ename": "ValueError",
     "evalue": "dsplit only works on arrays of 3 or more dimensions",
     "output_type": "error",
     "traceback": [
      "\u001b[1;31m---------------------------------------------------------------------------\u001b[0m",
      "\u001b[1;31mValueError\u001b[0m                                Traceback (most recent call last)",
      "Cell \u001b[1;32mIn[165], line 10\u001b[0m\n\u001b[0;32m      8\u001b[0m \u001b[38;5;28mprint\u001b[39m(np\u001b[38;5;241m.\u001b[39mvsplit(arr, \u001b[38;5;241m3\u001b[39m))\n\u001b[0;32m      9\u001b[0m \u001b[38;5;28mprint\u001b[39m()\n\u001b[1;32m---> 10\u001b[0m \u001b[38;5;28mprint\u001b[39m(np\u001b[38;5;241m.\u001b[39mdsplit(arr, \u001b[38;5;241m3\u001b[39m))\n",
      "File \u001b[1;32m<__array_function__ internals>:200\u001b[0m, in \u001b[0;36mdsplit\u001b[1;34m(*args, **kwargs)\u001b[0m\n",
      "File \u001b[1;32m~\\anaconda3\\Lib\\site-packages\\numpy\\lib\\shape_base.py:1041\u001b[0m, in \u001b[0;36mdsplit\u001b[1;34m(ary, indices_or_sections)\u001b[0m\n\u001b[0;32m   1002\u001b[0m \u001b[38;5;250m\u001b[39m\u001b[38;5;124;03m\"\"\"\u001b[39;00m\n\u001b[0;32m   1003\u001b[0m \u001b[38;5;124;03mSplit array into multiple sub-arrays along the 3rd axis (depth).\u001b[39;00m\n\u001b[0;32m   1004\u001b[0m \n\u001b[1;32m   (...)\u001b[0m\n\u001b[0;32m   1038\u001b[0m \u001b[38;5;124;03marray([], shape=(2, 2, 0), dtype=float64)]\u001b[39;00m\n\u001b[0;32m   1039\u001b[0m \u001b[38;5;124;03m\"\"\"\u001b[39;00m\n\u001b[0;32m   1040\u001b[0m \u001b[38;5;28;01mif\u001b[39;00m _nx\u001b[38;5;241m.\u001b[39mndim(ary) \u001b[38;5;241m<\u001b[39m \u001b[38;5;241m3\u001b[39m:\n\u001b[1;32m-> 1041\u001b[0m     \u001b[38;5;28;01mraise\u001b[39;00m \u001b[38;5;167;01mValueError\u001b[39;00m(\u001b[38;5;124m'\u001b[39m\u001b[38;5;124mdsplit only works on arrays of 3 or more dimensions\u001b[39m\u001b[38;5;124m'\u001b[39m)\n\u001b[0;32m   1042\u001b[0m \u001b[38;5;28;01mreturn\u001b[39;00m split(ary, indices_or_sections, \u001b[38;5;241m2\u001b[39m)\n",
      "\u001b[1;31mValueError\u001b[0m: dsplit only works on arrays of 3 or more dimensions"
     ]
    }
   ],
   "source": [
    "import numpy as np\n",
    "\n",
    "arr = np.array([[1, 2, 3], [4, 5, 6], [7, 8, 9], [10, 11, 12], [13, 14, 15], [16, 17, 18]])\n",
    "\n",
    "\n",
    "print(np.hsplit(arr, 3))\n",
    "print()\n",
    "print(np.vsplit(arr, 3))\n",
    "print()\n",
    "print(np.dsplit(arr, 3))"
   ]
  },
  {
   "cell_type": "code",
   "execution_count": null,
   "id": "368263e4-3b2a-40ab-b41b-243ea1e11f1c",
   "metadata": {},
   "outputs": [],
   "source": []
  },
  {
   "cell_type": "markdown",
   "id": "1c851cd8-1c22-4514-bdad-12180d06d81d",
   "metadata": {},
   "source": [
    "# NumPy Searching Arrays\n",
    "We can search an array for a certain value, and return the indexes that get a match.\r\n",
    "\r\n",
    "To search an array, use the where() method."
   ]
  },
  {
   "cell_type": "code",
   "execution_count": 170,
   "id": "0f84b458-eb03-4525-855a-de783b4bbbf3",
   "metadata": {},
   "outputs": [
    {
     "name": "stdout",
     "output_type": "stream",
     "text": [
      "(array([3, 5, 6], dtype=int64),)\n",
      "<class 'tuple'>\n",
      "[3 5 6]\n",
      "6\n"
     ]
    }
   ],
   "source": [
    "# Find the indexes where the value is 4\n",
    "\n",
    "import numpy as np\n",
    "\n",
    "arr = np.array([1, 2, 3, 4, 5, 4, 4])\n",
    "\n",
    "x = np.where(arr == 4)\n",
    "\n",
    "print(x)\n",
    "print(type(x))\n",
    "print(x[0])\n",
    "print(x[0][2])"
   ]
  },
  {
   "cell_type": "code",
   "execution_count": 175,
   "id": "9c4c6a25-70a0-454d-98d8-6c1b25fbcbd2",
   "metadata": {},
   "outputs": [
    {
     "name": "stdout",
     "output_type": "stream",
     "text": [
      "(array([1, 3, 5, 7], dtype=int64),)\n",
      "\n",
      "[2 4 6 8]\n"
     ]
    }
   ],
   "source": [
    "# Find the indexes where the values are even.\n",
    "\n",
    "import numpy as np\n",
    "\n",
    "arr = np.array([1, 2, 3, 4, 5, 6, 7, 8])\n",
    "\n",
    "x = np.where(arr%2 == 0)\n",
    "\n",
    "print(x)\n",
    "print()\n",
    "\n",
    "\n",
    "# We can even use them to get all even elements as below\n",
    "for i in x:\n",
    "    print(arr[i])"
   ]
  },
  {
   "cell_type": "code",
   "execution_count": null,
   "id": "e0078edf-0f4b-4707-a903-473f36283e58",
   "metadata": {},
   "outputs": [],
   "source": []
  },
  {
   "cell_type": "markdown",
   "id": "97213eb9-30e3-413c-8d4a-fe0c4d760582",
   "metadata": {},
   "source": [
    "# Sorting Arrays\n",
    "1. The NumPy ndarray object has a function called sort(), that will sort a specified array.\n",
    "2. This method returns a copy of the array, leaving the original array unchanged.\n"
   ]
  },
  {
   "cell_type": "code",
   "execution_count": 246,
   "id": "ee7cc923-9096-4b44-ac88-11bad4d0b160",
   "metadata": {},
   "outputs": [
    {
     "name": "stdout",
     "output_type": "stream",
     "text": [
      "[0 1 2 3]\n",
      "['apple' 'banana' 'cherry']\n",
      "[3 2 1 0]\n",
      "['cherry' 'banana' 'apple']\n"
     ]
    }
   ],
   "source": [
    "import numpy as np\n",
    "\n",
    "arr = np.array([3, 2, 0, 1])\n",
    "arr1 = np.array(['banana', 'cherry', 'apple'])\n",
    "\n",
    "# Ascending sort\n",
    "print(np.sort(arr))\n",
    "print(np.sort(arr1))\n",
    "\n",
    "# Descending sort through the use of negative indexing\n",
    "print(np.sort(arr)[::-1]) \n",
    "print(np.sort(arr1)[::-1])"
   ]
  },
  {
   "cell_type": "code",
   "execution_count": 181,
   "id": "76fe81d2-e427-4d16-ba0c-a095cead33ca",
   "metadata": {},
   "outputs": [
    {
     "name": "stdout",
     "output_type": "stream",
     "text": [
      "2\n",
      "[[ 2  3  4]\n",
      " [ 0  1  5]\n",
      " [ 4 45 67]\n",
      " [ 3 34 89]]\n"
     ]
    }
   ],
   "source": [
    "# If you use the sort() method on a 2-D array, both arrays will be sorted:\n",
    "\n",
    "import numpy as np\n",
    "\n",
    "arr = np.array([[3, 2, 4], [5, 0, 1], [4, 67, 45], [34, 3, 89]])\n",
    "\n",
    "print(arr.ndim)\n",
    "print(np.sort(arr))"
   ]
  },
  {
   "cell_type": "code",
   "execution_count": null,
   "id": "2457211e-e005-4781-b6b9-6cdfb537b377",
   "metadata": {},
   "outputs": [],
   "source": []
  },
  {
   "cell_type": "markdown",
   "id": "4d2b0587-c297-4166-acc9-6c6c98ca1d0e",
   "metadata": {},
   "source": [
    "# NumPy Filter Array\n",
    "1. In NumPy, you filter an array using a boolean index list.\n",
    "2. A boolean index list is a list of booleans corresponding to indexes in the array.\n",
    "3. If the value at an index is True that element is contained in the filtered array, if the value at that index is False that element is excluded from the filtered array."
   ]
  },
  {
   "cell_type": "code",
   "execution_count": 183,
   "id": "93aa1d56-511d-40cd-b1f3-c3d8a0cf8265",
   "metadata": {},
   "outputs": [
    {
     "name": "stdout",
     "output_type": "stream",
     "text": [
      "[41 43]\n"
     ]
    }
   ],
   "source": [
    "# Create an array from the elements on index 0 and 2:\n",
    "\n",
    "import numpy as np\n",
    "\n",
    "arr = np.array([41, 42, 43, 44])\n",
    "\n",
    "x = [True, False, True, False] # boolean index list also called as filter array\n",
    "\n",
    "newarr = arr[x]\n",
    "\n",
    "print(newarr)\n",
    "\n",
    "# The new array contains only the values where the filter array had the value True, in this case, index 0 and 2."
   ]
  },
  {
   "cell_type": "raw",
   "id": "4e769221-0972-4814-9b36-f8b484a9a550",
   "metadata": {},
   "source": [
    "In the example above we hard-coded the True and False values, but the common use is to create a filter array based on conditions."
   ]
  },
  {
   "cell_type": "code",
   "execution_count": 185,
   "id": "bf0bd689-04ee-4f0e-8360-cebdd403de2b",
   "metadata": {},
   "outputs": [
    {
     "name": "stdout",
     "output_type": "stream",
     "text": [
      "[False, False, True, True, False, False, True, True]\n",
      "[43 44 69 90]\n"
     ]
    }
   ],
   "source": [
    "# Create a filter array that will return only values higher than 42:\n",
    "\n",
    "import numpy as np\n",
    "\n",
    "arr = np.array([41, 42, 43, 44, 2, 32, 69, 90])\n",
    "\n",
    "# Create an empty list\n",
    "filter_arr = []\n",
    "\n",
    "# go through each element in arr\n",
    "for element in arr:\n",
    "  # if the element is higher than 42, set the value to True, otherwise False:\n",
    "  if element > 42:\n",
    "    filter_arr.append(True)\n",
    "  else:\n",
    "    filter_arr.append(False)\n",
    "\n",
    "newarr = arr[filter_arr]\n",
    "\n",
    "print(filter_arr)\n",
    "print(newarr)"
   ]
  },
  {
   "cell_type": "code",
   "execution_count": 186,
   "id": "72cc1e2c-4338-48b6-8add-c9711bb0e644",
   "metadata": {},
   "outputs": [
    {
     "name": "stdout",
     "output_type": "stream",
     "text": [
      "[False, True, False, True, False, True, False, True, False, True, False, False, False, True]\n",
      "[  2   4   6  34 232 440]\n"
     ]
    }
   ],
   "source": [
    "# Create a filter array that will return only even elements from the original array:\n",
    "\n",
    "import numpy as np\n",
    "\n",
    "arr = np.array([1, 2, 3, 4, 5, 6, 7, 34, 45, 232, 433, 47, 89, 440])\n",
    "\n",
    "# Create an empty list\n",
    "filter_arr = []\n",
    "\n",
    "# go through each element in arr\n",
    "for element in arr:\n",
    "  # if the element is completely divisble by 2, set the value to True, otherwise False\n",
    "  if element % 2 == 0:\n",
    "    filter_arr.append(True)\n",
    "  else:\n",
    "    filter_arr.append(False)\n",
    "\n",
    "newarr = arr[filter_arr]\n",
    "\n",
    "print(filter_arr)\n",
    "print(newarr)"
   ]
  },
  {
   "cell_type": "code",
   "execution_count": 187,
   "id": "d0bcb8d7-023d-40cb-8d3f-0f9f03de4ed3",
   "metadata": {},
   "outputs": [
    {
     "name": "stdout",
     "output_type": "stream",
     "text": [
      "[False  True False  True False  True False  True False  True False False\n",
      " False  True]\n",
      "[  2   4   6  34 232 440]\n"
     ]
    }
   ],
   "source": [
    "# Creating Filter Directly From Array\n",
    "# We can directly substitute the array instead of the iterable variable in our condition and it will work just as we expect it to.\n",
    "\n",
    "import numpy as np\n",
    "\n",
    "arr = np.array([1, 2, 3, 4, 5, 6, 7, 34, 45, 232, 433, 47, 89, 440])\n",
    "\n",
    "filter_arr = (arr % 2 == 0)\n",
    "\n",
    "newarr = arr[filter_arr]\n",
    "\n",
    "print(filter_arr)\n",
    "print(newarr)"
   ]
  },
  {
   "cell_type": "markdown",
   "id": "abdb6923-a412-43e9-b265-147fdf6be386",
   "metadata": {},
   "source": [
    "# Same object can also be achieved using where() method."
   ]
  },
  {
   "cell_type": "code",
   "execution_count": 189,
   "id": "1598d354-ad53-4bcf-a786-3d7db5cb508f",
   "metadata": {},
   "outputs": [
    {
     "name": "stdout",
     "output_type": "stream",
     "text": [
      "[43 44 69 90]\n"
     ]
    }
   ],
   "source": [
    "# Create a filter array that will return only values higher than 42:\n",
    "\n",
    "import numpy as np\n",
    "\n",
    "arr = np.array([41, 42, 43, 44, 2, 32, 69, 90])\n",
    "\n",
    "x = np.where(arr >  42)\n",
    "\n",
    "print(arr[x])\n"
   ]
  },
  {
   "cell_type": "code",
   "execution_count": 190,
   "id": "928d3f83-1747-460d-8268-dde93fafaab6",
   "metadata": {},
   "outputs": [
    {
     "name": "stdout",
     "output_type": "stream",
     "text": [
      "[  2   4   6  34 232 440]\n"
     ]
    }
   ],
   "source": [
    "# Create a filter array that will return only even elements from the original array:\n",
    "import numpy as np\n",
    "\n",
    "arr = np.array([1, 2, 3, 4, 5, 6, 7, 34, 45, 232, 433, 47, 89, 440])\n",
    "\n",
    "x = np.where(arr % 2 == 0)\n",
    "\n",
    "print(arr[x])"
   ]
  },
  {
   "cell_type": "code",
   "execution_count": null,
   "id": "a6e817ec-c536-4d68-94f3-c46eaff4bdb5",
   "metadata": {},
   "outputs": [],
   "source": []
  },
  {
   "cell_type": "markdown",
   "id": "68b9e759-40ca-4cd6-8d61-05cd912f0b45",
   "metadata": {},
   "source": [
    "# Simple Arithmetic on numpy arrays\n",
    "1. You could use arithmetic operators + - * / directly between NumPy arrays"
   ]
  },
  {
   "cell_type": "code",
   "execution_count": 241,
   "id": "4f833633-ee73-4c9f-b95d-c0d70f8fb428",
   "metadata": {},
   "outputs": [
    {
     "name": "stdout",
     "output_type": "stream",
     "text": [
      "[[ 1  2  3]\n",
      " [ 4  5  6]\n",
      " [ 7  8  9]\n",
      " [10 11 12]\n",
      " [13 14 15]\n",
      " [16 17 18]]\n",
      "\n",
      "[[ 5 10 15]\n",
      " [20 25 30]\n",
      " [35 40 45]\n",
      " [50 55 60]\n",
      " [65 70 75]\n",
      " [80 85 90]]\n",
      "\n",
      "[[-9 -8 -7]\n",
      " [-6 -5 -4]\n",
      " [-3 -2 -1]\n",
      " [ 0  1  2]\n",
      " [ 3  4  5]\n",
      " [ 6  7  8]]\n",
      "\n",
      "[[11 12 13]\n",
      " [14 15 16]\n",
      " [17 18 19]\n",
      " [20 21 22]\n",
      " [23 24 25]\n",
      " [26 27 28]]\n",
      "\n",
      "[[0.1 0.2 0.3]\n",
      " [0.4 0.5 0.6]\n",
      " [0.7 0.8 0.9]\n",
      " [1.  1.1 1.2]\n",
      " [1.3 1.4 1.5]\n",
      " [1.6 1.7 1.8]]\n",
      "\n",
      "[[1 0 1]\n",
      " [0 1 0]\n",
      " [1 0 1]\n",
      " [0 1 0]\n",
      " [1 0 1]\n",
      " [0 1 0]]\n",
      "\n",
      "[[   1    8   27]\n",
      " [  64  125  216]\n",
      " [ 343  512  729]\n",
      " [1000 1331 1728]\n",
      " [2197 2744 3375]\n",
      " [4096 4913 5832]]\n",
      "\n"
     ]
    }
   ],
   "source": [
    "import numpy as np\n",
    "\n",
    "arr = np.array([[1, 2, 3], [4, 5, 6], [7, 8, 9], [10, 11, 12], [13, 14, 15], [16, 17, 18]])\n",
    "\n",
    "print(arr)\n",
    "print()\n",
    "\n",
    "print(arr * 5) # Multiplying array by 5 multiplies all nos inside array by 5. This phenomenon is better known as broadcasting wherein same operation is performed on all elements of the array.\n",
    "print()\n",
    "\n",
    "print(arr - 10) # Substracting array by 10 substracts all nos inside array by 10.\n",
    "print()\n",
    "\n",
    "print(arr + 10) # Adding array by 10 adds all nos inside array by 10.\n",
    "print()\n",
    "\n",
    "print(arr / 10) # Dividing array by 10 divides all nos inside array by 10.\n",
    "print()\n",
    "\n",
    "print(arr % 2) # Gives remainder left after each number from array is divided by 2.\n",
    "print()\n",
    "\n",
    "print(arr ** 3) # Gives array of cubic powers of all nos inside the original array\n",
    "print()\n",
    "\n",
    "# Resultant in all above cases is again a new array."
   ]
  },
  {
   "cell_type": "raw",
   "id": "70442513-b820-4d76-a375-b793b41f383f",
   "metadata": {},
   "source": [
    "Apart from this simple arithmetic operators, we also have an extension of the same where we have functions that can take any array-like objects e.g. lists, tuples etc. and perform arithmetic conditionally.\n",
    "\n",
    "Arithmetic Conditionally: means that we can define conditions where the arithmetic operation should happen.\n",
    "\n",
    "These operations can be performed on higher dimension arrays as well.\n",
    "\n",
    "Note that shape of the operands arrays should be same."
   ]
  },
  {
   "cell_type": "code",
   "execution_count": 218,
   "id": "df00a6ac-4221-44c0-b2b2-df2189dd524b",
   "metadata": {},
   "outputs": [
    {
     "name": "stdout",
     "output_type": "stream",
     "text": [
      "addition =  [13 25 36 48 52 93]\n",
      "addition =  [13 25 36 48 52 93]\n",
      "\n",
      "subtraction =  [ 7 15 24 32 48 27]\n",
      "subtraction =  [ 7 15 24 32 48 27]\n",
      "\n",
      "Product =  [  30  100  180  320  100 1980]\n",
      "Product =  [  30  100  180  320  100 1980]\n",
      "\n",
      "Division =  [ 3.33333333  4.          5.          5.         25.          1.81818182]\n",
      "Division =  [ 3.33333333  4.          5.          5.         25.          1.81818182]\n",
      "Floor Division =  [ 3  4  5  5 25  1]\n",
      "\n",
      "Remainder =  [ 1  0  0  0  0 27]\n",
      "Remainder =  [ 1  0  0  0  0 27]\n",
      "\n",
      "Power =  [      1000    3200000  729000000 -520093696       2500          0]\n",
      "Power =  [      1000    3200000  729000000 -520093696       2500          0]\n",
      "\n",
      "Remainder =  [ 1  0  0  0  0 27]\n",
      "Divmod =  (array([ 3,  4,  5,  5, 25,  1]), array([ 1,  0,  0,  0,  0, 27]))\n",
      "absolute value =  [    1     2     1     2     3     4   100 23433]\n"
     ]
    }
   ],
   "source": [
    "import numpy as np\n",
    "\n",
    "arr1 = np.array([10, 20, 30, 40, 50, 60])\n",
    "arr2 = np.array([3, 5, 6, 8, 2, 33])\n",
    "\n",
    "print('addition = ', np.add(arr1, arr2)) # arr1 + arr2 >> (corresponding elements) >> This phenomenon of element-wise operations is called vectorization\n",
    "print('addition = ', arr1 + arr2)\n",
    "print()\n",
    "\n",
    "print('subtraction = ', np.subtract(arr1, arr2)) # arr1 - arr2 >> (corresponding elements)\n",
    "print('subtraction = ', arr1 - arr2)\n",
    "print()\n",
    "\n",
    "print('Product = ', np.multiply(arr1, arr2)) # arr1 * arr2 >> (corresponding elements)\n",
    "print('Product = ', arr1 * arr2)\n",
    "print()\n",
    "\n",
    "print('Division = ', np.divide(arr1, arr2)) # arr1 / arr2 >> (corresponding elements)\n",
    "print('Division = ', arr1 / arr2)\n",
    "print('Floor Division = ', arr1 // arr2)\n",
    "print()\n",
    "\n",
    "print('Remainder = ', np.mod(arr1, arr2)) # arr1 % arr2 >> (corresponding elements)\n",
    "print('Remainder = ', np.remainder(arr1, arr2)) # arr1 - arr2 >> (corresponding elements)\n",
    "print('Remainder = ', arr1 % arr2)\n",
    "print()\n",
    "\n",
    "print('Power = ', np.power(arr1, arr2)) #The power() function rises the values from the first array to the power of the values of the second array, and return the results in a new array.\n",
    "print('Power = ', arr1 ** arr2)\n",
    "print()\n",
    "\n",
    "\n",
    "\n",
    "print('Divmod = ', np.divmod(arr1, arr2)) # divmod() function return both the quotient and the the mod. The return value is two arrays, the first array contains the quotient and second array contains the mod.\n",
    "\n",
    "\n",
    "\n",
    "arr = np.array([-1, -2, 1, 2, 3, -4, -100, -23433])\n",
    "\n",
    "print('absolute value = ', np.absolute(arr)) # getting absolute value\n"
   ]
  },
  {
   "cell_type": "code",
   "execution_count": null,
   "id": "ad2ed420-fac4-44bf-9f9b-9aae2b060ed6",
   "metadata": {},
   "outputs": [],
   "source": []
  },
  {
   "cell_type": "markdown",
   "id": "9b49e580-4c39-41ce-9d11-a239e168ff1f",
   "metadata": {},
   "source": [
    "# numpy.mean()\n",
    "\n",
    "numpy.mean(arr, axis = None) : Compute the arithmetic mean (average) of the given data (array elements) along the specified axis.\n",
    "\n"
   ]
  },
  {
   "cell_type": "raw",
   "id": "7d82e33b-14c1-4bd5-beaf-73f6a46421f4",
   "metadata": {},
   "source": [
    "Parameters : arr : [array_like]input array. axis : [int or tuples of int]axis along which we want to calculate the arithmetic mean. Otherwise, it will consider arr to be flattened(works on all the axis). axis = 0 means along the column and axis = 1 means working along the row. out : [ndarray, optional]Different array in which we want to place the result. The array must have the same dimensions as expected output. dtype : [data-type, optional]Type we desire while computing mean. \n",
    "\n",
    "Results : Arithmetic mean of the array (a scalar value if axis is none) or array with mean values along specified axis."
   ]
  },
  {
   "cell_type": "code",
   "execution_count": 222,
   "id": "ef7fb978-dbda-46ab-b3a1-4f8028ec0eea",
   "metadata": {},
   "outputs": [
    {
     "name": "stdout",
     "output_type": "stream",
     "text": [
      "35.0\n",
      "35.0\n"
     ]
    }
   ],
   "source": [
    "arr1 = np.array([10, 20, 30, 40, 50, 60])\n",
    "\n",
    "print(arr1.mean()) # Getting mean without use of numpy\n",
    "print(np.mean(arr1)) # Getting mean with use of numpy"
   ]
  },
  {
   "cell_type": "code",
   "execution_count": 224,
   "id": "8c3bc67e-cc00-4a72-be41-dc9f3e67fc3e",
   "metadata": {},
   "outputs": [
    {
     "name": "stdout",
     "output_type": "stream",
     "text": [
      "\n",
      "mean of arr, axis = None :  18.6\n",
      "\n",
      "mean of arr, axis = 0 :  [17.33333333  8.33333333 31.         14.         22.33333333]\n",
      "\n",
      "mean of arr, axis = 1 :  [24.  15.  16.8]\n"
     ]
    }
   ],
   "source": [
    "\n",
    "\n",
    "import numpy as np \n",
    "    \n",
    "  \n",
    "# 2D array  \n",
    "arr = [[14, 17, 12, 33, 44],   \n",
    "       [15, 6, 27, 8, 19],  \n",
    "       [23, 2, 54, 1, 4, ]]  \n",
    "    \n",
    "# mean of the flattened array  \n",
    "print(\"\\nmean of arr, axis = None : \", np.mean(arr))  # mean of all elements of array\n",
    "    \n",
    "# mean along the axis = 0  \n",
    "print(\"\\nmean of arr, axis = 0 : \", np.mean(arr, axis = 0))  # mean for each column\n",
    "   \n",
    "# mean along the axis = 1  \n",
    "print(\"\\nmean of arr, axis = 1 : \", np.mean(arr, axis = 1)) # mean for each row"
   ]
  },
  {
   "cell_type": "code",
   "execution_count": null,
   "id": "1fccc1d8-237c-436d-9709-5f7c71316e2f",
   "metadata": {},
   "outputs": [],
   "source": []
  },
  {
   "cell_type": "markdown",
   "id": "80c657cd-a998-41a8-9cb0-18e1cf95ce11",
   "metadata": {},
   "source": [
    "# numpy.sum() in Python\n",
    "numpy.sum(arr, axis, dtype, out) : This function returns the sum of array elements over the specified axis"
   ]
  },
  {
   "cell_type": "raw",
   "id": "23b7f4ff-ce19-421b-9937-03eaacf04c8d",
   "metadata": {},
   "source": [
    "Parameters : \n",
    "arr : input array. \n",
    "axis : axis along which we want to calculate the sum value. Otherwise, it will consider arr to be flattened(works on all the axis). axis = 0 means along the column and axis = 1 means working along the row. \n",
    "out : Different array in which we want to place the result. The array must have same dimensions as expected output. Default is None. \n",
    "initial : [scalar, optional] Starting value of the sum. \n",
    "\n",
    "Return : Sum of the array elements (a scalar value if axis is none) or array with sum values along the specified axis."
   ]
  },
  {
   "cell_type": "code",
   "execution_count": 225,
   "id": "d8ed6f5e-d64a-4d88-a7f1-8ec16f8bc148",
   "metadata": {},
   "outputs": [
    {
     "name": "stdout",
     "output_type": "stream",
     "text": [
      "\n",
      "Sum of arr :  279\n",
      "Sum of arr(axis = 0) :  [52 25 93 42 67]\n",
      "Sum of arr(axis = 1) :  [120  75  84]\n",
      "\n",
      "Sum of arr (keepdimension is True): \n",
      " [[120]\n",
      " [ 75]\n",
      " [ 84]]\n"
     ]
    }
   ],
   "source": [
    "import numpy as np \n",
    "      \n",
    "# 2D array \n",
    "arr = [[14, 17, 12, 33, 44],   \n",
    "       [15, 6, 27, 8, 19],  \n",
    "       [23, 2, 54, 1, 4,]]   \n",
    "  \n",
    "print(\"\\nSum of arr : \", np.sum(arr)) # sum of all elements of array\n",
    "  \n",
    "print(\"Sum of arr(axis = 0) : \", np.sum(arr, axis = 0)) # column-wise sum\n",
    "print(\"Sum of arr(axis = 1) : \", np.sum(arr, axis = 1)) # row-wise sum\n",
    " "
   ]
  },
  {
   "cell_type": "code",
   "execution_count": null,
   "id": "5374b554-d525-478a-b7cc-e95f0c484978",
   "metadata": {},
   "outputs": [],
   "source": []
  },
  {
   "cell_type": "markdown",
   "id": "54630825-72e6-4c14-a846-56c79f7d120f",
   "metadata": {},
   "source": [
    "# numpy.max(), numpy.min() in Python"
   ]
  },
  {
   "cell_type": "code",
   "execution_count": 231,
   "id": "1c899d3d-456d-4f47-b401-832aea8062c7",
   "metadata": {},
   "outputs": [
    {
     "name": "stdout",
     "output_type": "stream",
     "text": [
      "\n",
      "Max of arr :  54\n",
      "Max of arr(axis = 0) :  [23 17 54 33 44]\n",
      "Max of arr(axis = 1) :  [44 27 54]\n",
      "\n",
      "Min of arr :  54\n",
      "Min of arr(axis = 0) :  [23 17 54 33 44]\n",
      "Min of arr(axis = 1) :  [44 27 54]\n"
     ]
    }
   ],
   "source": [
    "import numpy as np \n",
    "      \n",
    "# 2D array \n",
    "arr = [[14, 17, 12, 33, 44],   \n",
    "       [15, 6, 27, 8, 19],  \n",
    "       [23, 2, 54, 1, 4,]]   \n",
    "  \n",
    "print(\"\\nMax of arr : \", np.max(arr)) # max of all elements of array\n",
    "print(\"Max of arr(axis = 0) : \", np.max(arr, axis = 0)) # max of nos for each column\n",
    "print(\"Max of arr(axis = 1) : \", np.max(arr, axis = 1)) # max of nos for each row\n",
    "\n",
    "print(\"\\nMin of arr : \", np.max(arr)) # min of all elements of array\n",
    "print(\"Min of arr(axis = 0) : \", np.max(arr, axis = 0)) # min of nos for each column\n",
    "print(\"Min of arr(axis = 1) : \", np.max(arr, axis = 1)) # min of nos for each row\n"
   ]
  },
  {
   "cell_type": "code",
   "execution_count": null,
   "id": "7aa25287-0d5b-4a91-9f40-0c829f906e6d",
   "metadata": {},
   "outputs": [],
   "source": []
  }
 ],
 "metadata": {
  "kernelspec": {
   "display_name": "Python 3 (ipykernel)",
   "language": "python",
   "name": "python3"
  },
  "language_info": {
   "codemirror_mode": {
    "name": "ipython",
    "version": 3
   },
   "file_extension": ".py",
   "mimetype": "text/x-python",
   "name": "python",
   "nbconvert_exporter": "python",
   "pygments_lexer": "ipython3",
   "version": "3.11.5"
  }
 },
 "nbformat": 4,
 "nbformat_minor": 5
}
