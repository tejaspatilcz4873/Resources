{
 "cells": [
  {
   "cell_type": "raw",
   "id": "dfedbac9-11e7-41c5-a6b5-dae325a53923",
   "metadata": {},
   "source": [
    "Python library/module is simply a collection of codes or modules of codes that we can use in a program for specific operations. We use libraries so that we don’t need to write the code again in our program that is already available."
   ]
  },
  {
   "cell_type": "raw",
   "id": "b9f5a4fe-a73a-4245-9492-2780efe4dc49",
   "metadata": {},
   "source": [
    "But how it works. Actually, in the MS Windows environment, the library files have a DLL extension (Dynamic Load Libraries). When we link a library with our program and run that program, the linker automatically searches for that library. It extracts the functionalities of that library and interprets the program accordingly. That’s how we use the methods of a library in our program. We will see"
   ]
  },
  {
   "cell_type": "raw",
   "id": "8b4a1966-c768-40b7-9697-e957e76c1d3d",
   "metadata": {},
   "source": [
    "The Python Standard Library contains the exact syntax, semantics, and tokens of Python. It contains built-in modules that provide access to basic system functionality like I/O and some other core modules. Most of the Python Libraries are written in the C programming language. The Python standard library consists of more than 200 core modules."
   ]
  },
  {
   "cell_type": "markdown",
   "id": "2bf4b551-33d7-46ce-80e2-c5107d89be12",
   "metadata": {},
   "source": [
    "# Tensorflow\n",
    "This library was developed by Google in collaboration with the Brain Team. It is an open-source library used for high-level computations. It is also used in machine learning and deep learning algorithms. It contains a large number of tensor operations. Researchers also use this Python library to solve complex computations in Mathematics and Physics."
   ]
  },
  {
   "cell_type": "markdown",
   "id": "6c6b790e-6898-4de1-9f3f-6f9c5bb02668",
   "metadata": {},
   "source": [
    "# Matplotlib\n",
    "This library is responsible for plotting numerical data. And that’s why it is used in data analysis. It is also an open-source library and plots high-defined figures like pie charts, histograms, scatterplots, graphs, etc."
   ]
  },
  {
   "cell_type": "markdown",
   "id": "318bf236-8b5e-461b-b139-ff7895e359c8",
   "metadata": {},
   "source": [
    "# Pandas\n",
    "Pandas are an important library for data scientists. It is an open-source machine learning library that provides flexible high-level data structures and a variety of analysis tools. It eases data analysis, data manipulation, and cleaning of data. Pandas support operations like Sorting, Re-indexing, Iteration, Concatenation, Conversion of data, Visualizations, Aggregations, etc."
   ]
  },
  {
   "cell_type": "markdown",
   "id": "f8b3096b-339b-4e4e-a560-837ce85b0d47",
   "metadata": {},
   "source": [
    "# Numpy\n",
    "The name “Numpy” stands for “Numerical Python”. It is the commonly used library. It is a popular machine learning library that supports large matrices and multi-dimensional data. It consists of in-built mathematical functions for easy computations. Even libraries like TensorFlow use Numpy internally to perform several operations on tensors. Array Interface is one of the key features of this library."
   ]
  },
  {
   "cell_type": "markdown",
   "id": "3c940fb6-cf58-4a9d-9c5a-9cc05c9029e5",
   "metadata": {},
   "source": [
    "# SciPy\n",
    "The name “SciPy” stands for “Scientific Python”. It is an open-source library used for high-level scientific computations. This library is built over an extension of Numpy. It works with Numpy to handle complex computations. While Numpy allows sorting and indexing of array data, the numerical data code is stored in SciPy. It is also widely used by application developers and engineers."
   ]
  },
  {
   "cell_type": "markdown",
   "id": "b0a2b41c-8bed-4537-8154-8c01db732ad4",
   "metadata": {},
   "source": [
    "# Scrapy\n",
    "It is an open-source library that is used for extracting data from websites. It provides very fast web crawling and high-level screen scraping. It can also be used for data mining and automated testing of data."
   ]
  },
  {
   "cell_type": "markdown",
   "id": "fab85430-a619-4d2b-a6a4-19f0ea3e2ff7",
   "metadata": {},
   "source": [
    "# Scikit-learn\n",
    "It is a famous Python library to work with complex data. Scikit-learn is an open-source library that supports machine learning. It supports variously supervised and unsupervised algorithms like linear regression, classification, clustering, etc. This library works in association with Numpy and SciPy."
   ]
  },
  {
   "cell_type": "markdown",
   "id": "826348a5-8f66-4baa-b176-9917c8c7c339",
   "metadata": {},
   "source": [
    "# PyTorch\n",
    "PyTorch is the largest machine learning library that optimizes tensor computations. It has rich APIs to perform tensor computations with strong GPU acceleration. It also helps to solve application issues related to neural networks."
   ]
  },
  {
   "cell_type": "markdown",
   "id": "b7868c8d-2d01-4f43-913a-ae8b5428b746",
   "metadata": {},
   "source": [
    "# PyBrain\n",
    "The name “PyBrain” stands for Python Based Reinforcement Learning, Artificial Intelligence, and Neural Networks library. It is an open-source library built for beginners in the field of Machine Learning. It provides fast and easy-to-use algorithms for machine learning tasks. It is so flexible and easily understandable and that’s why is really helpful for developers that are new in research fields."
   ]
  },
  {
   "cell_type": "code",
   "execution_count": null,
   "id": "29625370-41d0-4a5c-8e7b-9c0c4d0bf7c5",
   "metadata": {},
   "outputs": [],
   "source": []
  },
  {
   "cell_type": "markdown",
   "id": "5f02757c-7548-4221-b06e-d6d34dedac09",
   "metadata": {},
   "source": [
    "Multiple interrelated modules are stored in a library. And whenever we need to use a module, we import it from its library."
   ]
  },
  {
   "cell_type": "code",
   "execution_count": 2,
   "id": "dbfc67e6-f18a-4034-849d-cd7e4b2d1fd0",
   "metadata": {},
   "outputs": [
    {
     "name": "stdout",
     "output_type": "stream",
     "text": [
      "4.0\n"
     ]
    }
   ],
   "source": [
    "# Importing math library \n",
    "import math \n",
    "  \n",
    "A = 16\n",
    "print(math.sqrt(A)) "
   ]
  },
  {
   "cell_type": "code",
   "execution_count": 3,
   "id": "b71431b5-3cec-40a4-ab28-a6a99cc1296a",
   "metadata": {},
   "outputs": [
    {
     "name": "stdout",
     "output_type": "stream",
     "text": [
      "4.0\n",
      "0.0015926529164868282\n"
     ]
    }
   ],
   "source": [
    "#As in the above code, we imported a complete library to use one of its methods. But we could have just imported “sqrt” from the math library. Python allows us to import specific methods from a library. \n",
    "\n",
    "# Importing specific items \n",
    "from math import sqrt, sin \n",
    "  \n",
    "A = 16\n",
    "B = 3.14\n",
    "print(sqrt(A)) \n",
    "print(sin(B))"
   ]
  },
  {
   "cell_type": "raw",
   "id": "56f601c7-acfa-46cc-98ee-378ab3daa87e",
   "metadata": {},
   "source": [
    "The dir() function returns all properties and methods of the specified object, without the values.\n",
    "\n",
    "This function will return all the properties and methods, even built-in properties which are default for all object."
   ]
  },
  {
   "cell_type": "code",
   "execution_count": 4,
   "id": "19621ef6-c05c-4757-a224-cfe31fc9e84e",
   "metadata": {},
   "outputs": [
    {
     "name": "stdout",
     "output_type": "stream",
     "text": [
      "['__doc__', '__loader__', '__name__', '__package__', '__spec__', 'acos', 'acosh', 'asin', 'asinh', 'atan', 'atan2', 'atanh', 'cbrt', 'ceil', 'comb', 'copysign', 'cos', 'cosh', 'degrees', 'dist', 'e', 'erf', 'erfc', 'exp', 'exp2', 'expm1', 'fabs', 'factorial', 'floor', 'fmod', 'frexp', 'fsum', 'gamma', 'gcd', 'hypot', 'inf', 'isclose', 'isfinite', 'isinf', 'isnan', 'isqrt', 'lcm', 'ldexp', 'lgamma', 'log', 'log10', 'log1p', 'log2', 'modf', 'nan', 'nextafter', 'perm', 'pi', 'pow', 'prod', 'radians', 'remainder', 'sin', 'sinh', 'sqrt', 'tan', 'tanh', 'tau', 'trunc', 'ulp']\n"
     ]
    }
   ],
   "source": [
    "#Printing all attributes/methods of math library\n",
    "print(dir(math))"
   ]
  },
  {
   "cell_type": "code",
   "execution_count": 18,
   "id": "37df4f85-036f-409e-867e-aaa375b05b6c",
   "metadata": {},
   "outputs": [
    {
     "name": "stdout",
     "output_type": "stream",
     "text": [
      "factorial =  120\n",
      "3 raised to power 4 =  81.0\n",
      "1.0\n",
      "-7.347880794884119e-16\n"
     ]
    }
   ],
   "source": [
    "# math library practice\n",
    "\n",
    "print('factorial = ', math.factorial(5))\n",
    "\n",
    "print('3 raised to power 4 = ', math.pow(3,4))\n",
    "\n",
    "print(math.sin(math.pi/2)) #sin of 90 degrees. Note that value of pi is approximately equal to 180 degrees.\n",
    "\n",
    "print(math.sin((math.pi)*6))"
   ]
  },
  {
   "cell_type": "code",
   "execution_count": null,
   "id": "b2d72dab-2802-4114-8ab8-ae7e8543ba3a",
   "metadata": {},
   "outputs": [],
   "source": []
  }
 ],
 "metadata": {
  "kernelspec": {
   "display_name": "Python 3 (ipykernel)",
   "language": "python",
   "name": "python3"
  },
  "language_info": {
   "codemirror_mode": {
    "name": "ipython",
    "version": 3
   },
   "file_extension": ".py",
   "mimetype": "text/x-python",
   "name": "python",
   "nbconvert_exporter": "python",
   "pygments_lexer": "ipython3",
   "version": "3.11.5"
  }
 },
 "nbformat": 4,
 "nbformat_minor": 5
}
